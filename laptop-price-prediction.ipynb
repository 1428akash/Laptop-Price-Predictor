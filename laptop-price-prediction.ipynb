{
 "cells": [
  {
   "cell_type": "code",
   "execution_count": 145,
   "id": "97bf2f87",
   "metadata": {
    "execution": {
     "iopub.execute_input": "2022-11-16T06:00:54.250624Z",
     "iopub.status.busy": "2022-11-16T06:00:54.249440Z",
     "iopub.status.idle": "2022-11-16T06:00:54.262092Z",
     "shell.execute_reply": "2022-11-16T06:00:54.261123Z"
    },
    "papermill": {
     "duration": 0.044611,
     "end_time": "2022-11-16T06:00:54.264446",
     "exception": false,
     "start_time": "2022-11-16T06:00:54.219835",
     "status": "completed"
    },
    "tags": []
   },
   "outputs": [],
   "source": [
    "import numpy as np\n",
    "import pandas as pd\n",
    "import matplotlib.pyplot as plt"
   ]
  },
  {
   "cell_type": "code",
   "execution_count": 146,
   "id": "85302c37",
   "metadata": {
    "execution": {
     "iopub.execute_input": "2022-11-16T06:00:54.315941Z",
     "iopub.status.busy": "2022-11-16T06:00:54.315254Z",
     "iopub.status.idle": "2022-11-16T06:00:54.347274Z",
     "shell.execute_reply": "2022-11-16T06:00:54.346318Z"
    },
    "papermill": {
     "duration": 0.061098,
     "end_time": "2022-11-16T06:00:54.349893",
     "exception": false,
     "start_time": "2022-11-16T06:00:54.288795",
     "status": "completed"
    },
    "tags": []
   },
   "outputs": [],
   "source": [
    "df = pd.read_csv('/Users/akashtiwari/Documents/Projects/ML/laptop.csv')"
   ]
  },
  {
   "cell_type": "code",
   "execution_count": 147,
   "id": "59e1febd",
   "metadata": {
    "execution": {
     "iopub.execute_input": "2022-11-16T06:00:54.401654Z",
     "iopub.status.busy": "2022-11-16T06:00:54.401058Z",
     "iopub.status.idle": "2022-11-16T06:00:54.433898Z",
     "shell.execute_reply": "2022-11-16T06:00:54.432649Z"
    },
    "papermill": {
     "duration": 0.061979,
     "end_time": "2022-11-16T06:00:54.436783",
     "exception": false,
     "start_time": "2022-11-16T06:00:54.374804",
     "status": "completed"
    },
    "tags": []
   },
   "outputs": [
    {
     "data": {
      "text/html": [
       "<div>\n",
       "<style scoped>\n",
       "    .dataframe tbody tr th:only-of-type {\n",
       "        vertical-align: middle;\n",
       "    }\n",
       "\n",
       "    .dataframe tbody tr th {\n",
       "        vertical-align: top;\n",
       "    }\n",
       "\n",
       "    .dataframe thead th {\n",
       "        text-align: right;\n",
       "    }\n",
       "</style>\n",
       "<table border=\"1\" class=\"dataframe\">\n",
       "  <thead>\n",
       "    <tr style=\"text-align: right;\">\n",
       "      <th></th>\n",
       "      <th>Unnamed: 0.1</th>\n",
       "      <th>Unnamed: 0</th>\n",
       "      <th>Company</th>\n",
       "      <th>TypeName</th>\n",
       "      <th>Inches</th>\n",
       "      <th>ScreenResolution</th>\n",
       "      <th>Cpu</th>\n",
       "      <th>Ram</th>\n",
       "      <th>Memory</th>\n",
       "      <th>Gpu</th>\n",
       "      <th>OpSys</th>\n",
       "      <th>Weight</th>\n",
       "      <th>Price</th>\n",
       "    </tr>\n",
       "  </thead>\n",
       "  <tbody>\n",
       "    <tr>\n",
       "      <th>0</th>\n",
       "      <td>0</td>\n",
       "      <td>0.0</td>\n",
       "      <td>Apple</td>\n",
       "      <td>Ultrabook</td>\n",
       "      <td>13.3</td>\n",
       "      <td>IPS Panel Retina Display 2560x1600</td>\n",
       "      <td>Intel Core i5 2.3GHz</td>\n",
       "      <td>8GB</td>\n",
       "      <td>128GB SSD</td>\n",
       "      <td>Intel Iris Plus Graphics 640</td>\n",
       "      <td>macOS</td>\n",
       "      <td>1.37kg</td>\n",
       "      <td>71378.6832</td>\n",
       "    </tr>\n",
       "    <tr>\n",
       "      <th>1</th>\n",
       "      <td>1</td>\n",
       "      <td>1.0</td>\n",
       "      <td>Apple</td>\n",
       "      <td>Ultrabook</td>\n",
       "      <td>13.3</td>\n",
       "      <td>1440x900</td>\n",
       "      <td>Intel Core i5 1.8GHz</td>\n",
       "      <td>8GB</td>\n",
       "      <td>128GB Flash Storage</td>\n",
       "      <td>Intel HD Graphics 6000</td>\n",
       "      <td>macOS</td>\n",
       "      <td>1.34kg</td>\n",
       "      <td>47895.5232</td>\n",
       "    </tr>\n",
       "    <tr>\n",
       "      <th>2</th>\n",
       "      <td>2</td>\n",
       "      <td>2.0</td>\n",
       "      <td>HP</td>\n",
       "      <td>Notebook</td>\n",
       "      <td>15.6</td>\n",
       "      <td>Full HD 1920x1080</td>\n",
       "      <td>Intel Core i5 7200U 2.5GHz</td>\n",
       "      <td>8GB</td>\n",
       "      <td>256GB SSD</td>\n",
       "      <td>Intel HD Graphics 620</td>\n",
       "      <td>No OS</td>\n",
       "      <td>1.86kg</td>\n",
       "      <td>30636.0000</td>\n",
       "    </tr>\n",
       "    <tr>\n",
       "      <th>3</th>\n",
       "      <td>3</td>\n",
       "      <td>3.0</td>\n",
       "      <td>Apple</td>\n",
       "      <td>Ultrabook</td>\n",
       "      <td>15.4</td>\n",
       "      <td>IPS Panel Retina Display 2880x1800</td>\n",
       "      <td>Intel Core i7 2.7GHz</td>\n",
       "      <td>16GB</td>\n",
       "      <td>512GB SSD</td>\n",
       "      <td>AMD Radeon Pro 455</td>\n",
       "      <td>macOS</td>\n",
       "      <td>1.83kg</td>\n",
       "      <td>135195.3360</td>\n",
       "    </tr>\n",
       "    <tr>\n",
       "      <th>4</th>\n",
       "      <td>4</td>\n",
       "      <td>4.0</td>\n",
       "      <td>Apple</td>\n",
       "      <td>Ultrabook</td>\n",
       "      <td>13.3</td>\n",
       "      <td>IPS Panel Retina Display 2560x1600</td>\n",
       "      <td>Intel Core i5 3.1GHz</td>\n",
       "      <td>8GB</td>\n",
       "      <td>256GB SSD</td>\n",
       "      <td>Intel Iris Plus Graphics 650</td>\n",
       "      <td>macOS</td>\n",
       "      <td>1.37kg</td>\n",
       "      <td>96095.8080</td>\n",
       "    </tr>\n",
       "  </tbody>\n",
       "</table>\n",
       "</div>"
      ],
      "text/plain": [
       "   Unnamed: 0.1  Unnamed: 0 Company   TypeName Inches  \\\n",
       "0             0         0.0   Apple  Ultrabook   13.3   \n",
       "1             1         1.0   Apple  Ultrabook   13.3   \n",
       "2             2         2.0      HP   Notebook   15.6   \n",
       "3             3         3.0   Apple  Ultrabook   15.4   \n",
       "4             4         4.0   Apple  Ultrabook   13.3   \n",
       "\n",
       "                     ScreenResolution                         Cpu   Ram  \\\n",
       "0  IPS Panel Retina Display 2560x1600        Intel Core i5 2.3GHz   8GB   \n",
       "1                            1440x900        Intel Core i5 1.8GHz   8GB   \n",
       "2                   Full HD 1920x1080  Intel Core i5 7200U 2.5GHz   8GB   \n",
       "3  IPS Panel Retina Display 2880x1800        Intel Core i7 2.7GHz  16GB   \n",
       "4  IPS Panel Retina Display 2560x1600        Intel Core i5 3.1GHz   8GB   \n",
       "\n",
       "                Memory                           Gpu  OpSys  Weight  \\\n",
       "0            128GB SSD  Intel Iris Plus Graphics 640  macOS  1.37kg   \n",
       "1  128GB Flash Storage        Intel HD Graphics 6000  macOS  1.34kg   \n",
       "2            256GB SSD         Intel HD Graphics 620  No OS  1.86kg   \n",
       "3            512GB SSD            AMD Radeon Pro 455  macOS  1.83kg   \n",
       "4            256GB SSD  Intel Iris Plus Graphics 650  macOS  1.37kg   \n",
       "\n",
       "         Price  \n",
       "0   71378.6832  \n",
       "1   47895.5232  \n",
       "2   30636.0000  \n",
       "3  135195.3360  \n",
       "4   96095.8080  "
      ]
     },
     "execution_count": 147,
     "metadata": {},
     "output_type": "execute_result"
    }
   ],
   "source": [
    "df.head()"
   ]
  },
  {
   "cell_type": "code",
   "execution_count": 148,
   "id": "02f73424",
   "metadata": {
    "execution": {
     "iopub.execute_input": "2022-11-16T06:00:54.487498Z",
     "iopub.status.busy": "2022-11-16T06:00:54.487092Z",
     "iopub.status.idle": "2022-11-16T06:00:54.493711Z",
     "shell.execute_reply": "2022-11-16T06:00:54.492515Z"
    },
    "papermill": {
     "duration": 0.035013,
     "end_time": "2022-11-16T06:00:54.496169",
     "exception": false,
     "start_time": "2022-11-16T06:00:54.461156",
     "status": "completed"
    },
    "tags": []
   },
   "outputs": [
    {
     "data": {
      "text/plain": [
       "(1303, 13)"
      ]
     },
     "execution_count": 148,
     "metadata": {},
     "output_type": "execute_result"
    }
   ],
   "source": [
    "df.shape"
   ]
  },
  {
   "cell_type": "code",
   "execution_count": 149,
   "id": "5bf3d3dd",
   "metadata": {
    "execution": {
     "iopub.execute_input": "2022-11-16T06:00:54.546869Z",
     "iopub.status.busy": "2022-11-16T06:00:54.546435Z",
     "iopub.status.idle": "2022-11-16T06:00:54.573066Z",
     "shell.execute_reply": "2022-11-16T06:00:54.571966Z"
    },
    "papermill": {
     "duration": 0.055829,
     "end_time": "2022-11-16T06:00:54.576219",
     "exception": false,
     "start_time": "2022-11-16T06:00:54.520390",
     "status": "completed"
    },
    "tags": []
   },
   "outputs": [
    {
     "name": "stdout",
     "output_type": "stream",
     "text": [
      "<class 'pandas.core.frame.DataFrame'>\n",
      "RangeIndex: 1303 entries, 0 to 1302\n",
      "Data columns (total 13 columns):\n",
      " #   Column            Non-Null Count  Dtype  \n",
      "---  ------            --------------  -----  \n",
      " 0   Unnamed: 0.1      1303 non-null   int64  \n",
      " 1   Unnamed: 0        1273 non-null   float64\n",
      " 2   Company           1273 non-null   object \n",
      " 3   TypeName          1273 non-null   object \n",
      " 4   Inches            1273 non-null   object \n",
      " 5   ScreenResolution  1273 non-null   object \n",
      " 6   Cpu               1273 non-null   object \n",
      " 7   Ram               1273 non-null   object \n",
      " 8   Memory            1273 non-null   object \n",
      " 9   Gpu               1273 non-null   object \n",
      " 10  OpSys             1273 non-null   object \n",
      " 11  Weight            1273 non-null   object \n",
      " 12  Price             1273 non-null   float64\n",
      "dtypes: float64(2), int64(1), object(10)\n",
      "memory usage: 132.5+ KB\n"
     ]
    }
   ],
   "source": [
    "df.info()"
   ]
  },
  {
   "cell_type": "code",
   "execution_count": 150,
   "id": "17561015",
   "metadata": {
    "execution": {
     "iopub.execute_input": "2022-11-16T06:00:54.627683Z",
     "iopub.status.busy": "2022-11-16T06:00:54.626628Z",
     "iopub.status.idle": "2022-11-16T06:00:54.639220Z",
     "shell.execute_reply": "2022-11-16T06:00:54.638020Z"
    },
    "papermill": {
     "duration": 0.040963,
     "end_time": "2022-11-16T06:00:54.641689",
     "exception": false,
     "start_time": "2022-11-16T06:00:54.600726",
     "status": "completed"
    },
    "tags": []
   },
   "outputs": [
    {
     "data": {
      "text/plain": [
       "0"
      ]
     },
     "execution_count": 150,
     "metadata": {},
     "output_type": "execute_result"
    }
   ],
   "source": [
    "df.duplicated().sum()"
   ]
  },
  {
   "cell_type": "code",
   "execution_count": 151,
   "id": "2950e69d",
   "metadata": {
    "execution": {
     "iopub.execute_input": "2022-11-16T06:00:54.695226Z",
     "iopub.status.busy": "2022-11-16T06:00:54.694832Z",
     "iopub.status.idle": "2022-11-16T06:00:54.704036Z",
     "shell.execute_reply": "2022-11-16T06:00:54.703155Z"
    },
    "papermill": {
     "duration": 0.039133,
     "end_time": "2022-11-16T06:00:54.706125",
     "exception": false,
     "start_time": "2022-11-16T06:00:54.666992",
     "status": "completed"
    },
    "tags": []
   },
   "outputs": [
    {
     "data": {
      "text/plain": [
       "Unnamed: 0.1         0\n",
       "Unnamed: 0          30\n",
       "Company             30\n",
       "TypeName            30\n",
       "Inches              30\n",
       "ScreenResolution    30\n",
       "Cpu                 30\n",
       "Ram                 30\n",
       "Memory              30\n",
       "Gpu                 30\n",
       "OpSys               30\n",
       "Weight              30\n",
       "Price               30\n",
       "dtype: int64"
      ]
     },
     "execution_count": 151,
     "metadata": {},
     "output_type": "execute_result"
    }
   ],
   "source": [
    "df.isnull().sum()"
   ]
  },
  {
   "cell_type": "code",
   "execution_count": 152,
   "id": "0035ebed",
   "metadata": {
    "execution": {
     "iopub.execute_input": "2022-11-16T06:00:54.765943Z",
     "iopub.status.busy": "2022-11-16T06:00:54.765214Z",
     "iopub.status.idle": "2022-11-16T06:00:54.772055Z",
     "shell.execute_reply": "2022-11-16T06:00:54.771098Z"
    },
    "papermill": {
     "duration": 0.041355,
     "end_time": "2022-11-16T06:00:54.774579",
     "exception": false,
     "start_time": "2022-11-16T06:00:54.733224",
     "status": "completed"
    },
    "tags": []
   },
   "outputs": [],
   "source": [
    "df.drop(columns=['Unnamed: 0.1', 'Unnamed: 0'], inplace=True, errors='ignore') # dropping the columns"
   ]
  },
  {
   "cell_type": "code",
   "execution_count": 153,
   "id": "2464c777",
   "metadata": {
    "execution": {
     "iopub.execute_input": "2022-11-16T06:00:54.827393Z",
     "iopub.status.busy": "2022-11-16T06:00:54.826620Z",
     "iopub.status.idle": "2022-11-16T06:00:54.844918Z",
     "shell.execute_reply": "2022-11-16T06:00:54.842926Z"
    },
    "papermill": {
     "duration": 0.048662,
     "end_time": "2022-11-16T06:00:54.848572",
     "exception": false,
     "start_time": "2022-11-16T06:00:54.799910",
     "status": "completed"
    },
    "tags": []
   },
   "outputs": [
    {
     "data": {
      "text/html": [
       "<div>\n",
       "<style scoped>\n",
       "    .dataframe tbody tr th:only-of-type {\n",
       "        vertical-align: middle;\n",
       "    }\n",
       "\n",
       "    .dataframe tbody tr th {\n",
       "        vertical-align: top;\n",
       "    }\n",
       "\n",
       "    .dataframe thead th {\n",
       "        text-align: right;\n",
       "    }\n",
       "</style>\n",
       "<table border=\"1\" class=\"dataframe\">\n",
       "  <thead>\n",
       "    <tr style=\"text-align: right;\">\n",
       "      <th></th>\n",
       "      <th>Company</th>\n",
       "      <th>TypeName</th>\n",
       "      <th>Inches</th>\n",
       "      <th>ScreenResolution</th>\n",
       "      <th>Cpu</th>\n",
       "      <th>Ram</th>\n",
       "      <th>Memory</th>\n",
       "      <th>Gpu</th>\n",
       "      <th>OpSys</th>\n",
       "      <th>Weight</th>\n",
       "      <th>Price</th>\n",
       "    </tr>\n",
       "  </thead>\n",
       "  <tbody>\n",
       "    <tr>\n",
       "      <th>0</th>\n",
       "      <td>Apple</td>\n",
       "      <td>Ultrabook</td>\n",
       "      <td>13.3</td>\n",
       "      <td>IPS Panel Retina Display 2560x1600</td>\n",
       "      <td>Intel Core i5 2.3GHz</td>\n",
       "      <td>8GB</td>\n",
       "      <td>128GB SSD</td>\n",
       "      <td>Intel Iris Plus Graphics 640</td>\n",
       "      <td>macOS</td>\n",
       "      <td>1.37kg</td>\n",
       "      <td>71378.6832</td>\n",
       "    </tr>\n",
       "    <tr>\n",
       "      <th>1</th>\n",
       "      <td>Apple</td>\n",
       "      <td>Ultrabook</td>\n",
       "      <td>13.3</td>\n",
       "      <td>1440x900</td>\n",
       "      <td>Intel Core i5 1.8GHz</td>\n",
       "      <td>8GB</td>\n",
       "      <td>128GB Flash Storage</td>\n",
       "      <td>Intel HD Graphics 6000</td>\n",
       "      <td>macOS</td>\n",
       "      <td>1.34kg</td>\n",
       "      <td>47895.5232</td>\n",
       "    </tr>\n",
       "    <tr>\n",
       "      <th>2</th>\n",
       "      <td>HP</td>\n",
       "      <td>Notebook</td>\n",
       "      <td>15.6</td>\n",
       "      <td>Full HD 1920x1080</td>\n",
       "      <td>Intel Core i5 7200U 2.5GHz</td>\n",
       "      <td>8GB</td>\n",
       "      <td>256GB SSD</td>\n",
       "      <td>Intel HD Graphics 620</td>\n",
       "      <td>No OS</td>\n",
       "      <td>1.86kg</td>\n",
       "      <td>30636.0000</td>\n",
       "    </tr>\n",
       "    <tr>\n",
       "      <th>3</th>\n",
       "      <td>Apple</td>\n",
       "      <td>Ultrabook</td>\n",
       "      <td>15.4</td>\n",
       "      <td>IPS Panel Retina Display 2880x1800</td>\n",
       "      <td>Intel Core i7 2.7GHz</td>\n",
       "      <td>16GB</td>\n",
       "      <td>512GB SSD</td>\n",
       "      <td>AMD Radeon Pro 455</td>\n",
       "      <td>macOS</td>\n",
       "      <td>1.83kg</td>\n",
       "      <td>135195.3360</td>\n",
       "    </tr>\n",
       "    <tr>\n",
       "      <th>4</th>\n",
       "      <td>Apple</td>\n",
       "      <td>Ultrabook</td>\n",
       "      <td>13.3</td>\n",
       "      <td>IPS Panel Retina Display 2560x1600</td>\n",
       "      <td>Intel Core i5 3.1GHz</td>\n",
       "      <td>8GB</td>\n",
       "      <td>256GB SSD</td>\n",
       "      <td>Intel Iris Plus Graphics 650</td>\n",
       "      <td>macOS</td>\n",
       "      <td>1.37kg</td>\n",
       "      <td>96095.8080</td>\n",
       "    </tr>\n",
       "  </tbody>\n",
       "</table>\n",
       "</div>"
      ],
      "text/plain": [
       "  Company   TypeName Inches                    ScreenResolution  \\\n",
       "0   Apple  Ultrabook   13.3  IPS Panel Retina Display 2560x1600   \n",
       "1   Apple  Ultrabook   13.3                            1440x900   \n",
       "2      HP   Notebook   15.6                   Full HD 1920x1080   \n",
       "3   Apple  Ultrabook   15.4  IPS Panel Retina Display 2880x1800   \n",
       "4   Apple  Ultrabook   13.3  IPS Panel Retina Display 2560x1600   \n",
       "\n",
       "                          Cpu   Ram               Memory  \\\n",
       "0        Intel Core i5 2.3GHz   8GB            128GB SSD   \n",
       "1        Intel Core i5 1.8GHz   8GB  128GB Flash Storage   \n",
       "2  Intel Core i5 7200U 2.5GHz   8GB            256GB SSD   \n",
       "3        Intel Core i7 2.7GHz  16GB            512GB SSD   \n",
       "4        Intel Core i5 3.1GHz   8GB            256GB SSD   \n",
       "\n",
       "                            Gpu  OpSys  Weight        Price  \n",
       "0  Intel Iris Plus Graphics 640  macOS  1.37kg   71378.6832  \n",
       "1        Intel HD Graphics 6000  macOS  1.34kg   47895.5232  \n",
       "2         Intel HD Graphics 620  No OS  1.86kg   30636.0000  \n",
       "3            AMD Radeon Pro 455  macOS  1.83kg  135195.3360  \n",
       "4  Intel Iris Plus Graphics 650  macOS  1.37kg   96095.8080  "
      ]
     },
     "execution_count": 153,
     "metadata": {},
     "output_type": "execute_result"
    }
   ],
   "source": [
    "df.head()"
   ]
  },
  {
   "cell_type": "code",
   "execution_count": 154,
   "id": "b057e539",
   "metadata": {
    "execution": {
     "iopub.execute_input": "2022-11-16T06:00:54.906647Z",
     "iopub.status.busy": "2022-11-16T06:00:54.906271Z",
     "iopub.status.idle": "2022-11-16T06:00:54.915713Z",
     "shell.execute_reply": "2022-11-16T06:00:54.914606Z"
    },
    "papermill": {
     "duration": 0.041677,
     "end_time": "2022-11-16T06:00:54.918082",
     "exception": false,
     "start_time": "2022-11-16T06:00:54.876405",
     "status": "completed"
    },
    "tags": []
   },
   "outputs": [],
   "source": [
    "df['Ram'] = df['Ram'].str.replace('GB','')\n",
    "df['Weight'] = df['Weight'].str.replace('kg','')"
   ]
  },
  {
   "cell_type": "code",
   "execution_count": 155,
   "id": "ca750422",
   "metadata": {
    "execution": {
     "iopub.execute_input": "2022-11-16T06:00:54.972891Z",
     "iopub.status.busy": "2022-11-16T06:00:54.972132Z",
     "iopub.status.idle": "2022-11-16T06:00:54.989765Z",
     "shell.execute_reply": "2022-11-16T06:00:54.988543Z"
    },
    "papermill": {
     "duration": 0.048944,
     "end_time": "2022-11-16T06:00:54.992274",
     "exception": false,
     "start_time": "2022-11-16T06:00:54.943330",
     "status": "completed"
    },
    "tags": []
   },
   "outputs": [
    {
     "data": {
      "text/html": [
       "<div>\n",
       "<style scoped>\n",
       "    .dataframe tbody tr th:only-of-type {\n",
       "        vertical-align: middle;\n",
       "    }\n",
       "\n",
       "    .dataframe tbody tr th {\n",
       "        vertical-align: top;\n",
       "    }\n",
       "\n",
       "    .dataframe thead th {\n",
       "        text-align: right;\n",
       "    }\n",
       "</style>\n",
       "<table border=\"1\" class=\"dataframe\">\n",
       "  <thead>\n",
       "    <tr style=\"text-align: right;\">\n",
       "      <th></th>\n",
       "      <th>Company</th>\n",
       "      <th>TypeName</th>\n",
       "      <th>Inches</th>\n",
       "      <th>ScreenResolution</th>\n",
       "      <th>Cpu</th>\n",
       "      <th>Ram</th>\n",
       "      <th>Memory</th>\n",
       "      <th>Gpu</th>\n",
       "      <th>OpSys</th>\n",
       "      <th>Weight</th>\n",
       "      <th>Price</th>\n",
       "    </tr>\n",
       "  </thead>\n",
       "  <tbody>\n",
       "    <tr>\n",
       "      <th>0</th>\n",
       "      <td>Apple</td>\n",
       "      <td>Ultrabook</td>\n",
       "      <td>13.3</td>\n",
       "      <td>IPS Panel Retina Display 2560x1600</td>\n",
       "      <td>Intel Core i5 2.3GHz</td>\n",
       "      <td>8</td>\n",
       "      <td>128GB SSD</td>\n",
       "      <td>Intel Iris Plus Graphics 640</td>\n",
       "      <td>macOS</td>\n",
       "      <td>1.37</td>\n",
       "      <td>71378.6832</td>\n",
       "    </tr>\n",
       "    <tr>\n",
       "      <th>1</th>\n",
       "      <td>Apple</td>\n",
       "      <td>Ultrabook</td>\n",
       "      <td>13.3</td>\n",
       "      <td>1440x900</td>\n",
       "      <td>Intel Core i5 1.8GHz</td>\n",
       "      <td>8</td>\n",
       "      <td>128GB Flash Storage</td>\n",
       "      <td>Intel HD Graphics 6000</td>\n",
       "      <td>macOS</td>\n",
       "      <td>1.34</td>\n",
       "      <td>47895.5232</td>\n",
       "    </tr>\n",
       "    <tr>\n",
       "      <th>2</th>\n",
       "      <td>HP</td>\n",
       "      <td>Notebook</td>\n",
       "      <td>15.6</td>\n",
       "      <td>Full HD 1920x1080</td>\n",
       "      <td>Intel Core i5 7200U 2.5GHz</td>\n",
       "      <td>8</td>\n",
       "      <td>256GB SSD</td>\n",
       "      <td>Intel HD Graphics 620</td>\n",
       "      <td>No OS</td>\n",
       "      <td>1.86</td>\n",
       "      <td>30636.0000</td>\n",
       "    </tr>\n",
       "    <tr>\n",
       "      <th>3</th>\n",
       "      <td>Apple</td>\n",
       "      <td>Ultrabook</td>\n",
       "      <td>15.4</td>\n",
       "      <td>IPS Panel Retina Display 2880x1800</td>\n",
       "      <td>Intel Core i7 2.7GHz</td>\n",
       "      <td>16</td>\n",
       "      <td>512GB SSD</td>\n",
       "      <td>AMD Radeon Pro 455</td>\n",
       "      <td>macOS</td>\n",
       "      <td>1.83</td>\n",
       "      <td>135195.3360</td>\n",
       "    </tr>\n",
       "    <tr>\n",
       "      <th>4</th>\n",
       "      <td>Apple</td>\n",
       "      <td>Ultrabook</td>\n",
       "      <td>13.3</td>\n",
       "      <td>IPS Panel Retina Display 2560x1600</td>\n",
       "      <td>Intel Core i5 3.1GHz</td>\n",
       "      <td>8</td>\n",
       "      <td>256GB SSD</td>\n",
       "      <td>Intel Iris Plus Graphics 650</td>\n",
       "      <td>macOS</td>\n",
       "      <td>1.37</td>\n",
       "      <td>96095.8080</td>\n",
       "    </tr>\n",
       "  </tbody>\n",
       "</table>\n",
       "</div>"
      ],
      "text/plain": [
       "  Company   TypeName Inches                    ScreenResolution  \\\n",
       "0   Apple  Ultrabook   13.3  IPS Panel Retina Display 2560x1600   \n",
       "1   Apple  Ultrabook   13.3                            1440x900   \n",
       "2      HP   Notebook   15.6                   Full HD 1920x1080   \n",
       "3   Apple  Ultrabook   15.4  IPS Panel Retina Display 2880x1800   \n",
       "4   Apple  Ultrabook   13.3  IPS Panel Retina Display 2560x1600   \n",
       "\n",
       "                          Cpu Ram               Memory  \\\n",
       "0        Intel Core i5 2.3GHz   8            128GB SSD   \n",
       "1        Intel Core i5 1.8GHz   8  128GB Flash Storage   \n",
       "2  Intel Core i5 7200U 2.5GHz   8            256GB SSD   \n",
       "3        Intel Core i7 2.7GHz  16            512GB SSD   \n",
       "4        Intel Core i5 3.1GHz   8            256GB SSD   \n",
       "\n",
       "                            Gpu  OpSys Weight        Price  \n",
       "0  Intel Iris Plus Graphics 640  macOS   1.37   71378.6832  \n",
       "1        Intel HD Graphics 6000  macOS   1.34   47895.5232  \n",
       "2         Intel HD Graphics 620  No OS   1.86   30636.0000  \n",
       "3            AMD Radeon Pro 455  macOS   1.83  135195.3360  \n",
       "4  Intel Iris Plus Graphics 650  macOS   1.37   96095.8080  "
      ]
     },
     "execution_count": 155,
     "metadata": {},
     "output_type": "execute_result"
    }
   ],
   "source": [
    "df.head()"
   ]
  },
  {
   "cell_type": "code",
   "execution_count": 156,
   "id": "85f6ebf4",
   "metadata": {
    "execution": {
     "iopub.execute_input": "2022-11-16T06:00:55.046091Z",
     "iopub.status.busy": "2022-11-16T06:00:55.045490Z",
     "iopub.status.idle": "2022-11-16T06:00:55.054869Z",
     "shell.execute_reply": "2022-11-16T06:00:55.053955Z"
    },
    "papermill": {
     "duration": 0.039986,
     "end_time": "2022-11-16T06:00:55.057917",
     "exception": false,
     "start_time": "2022-11-16T06:00:55.017931",
     "status": "completed"
    },
    "tags": []
   },
   "outputs": [],
   "source": [
    "df['Ram'] = df['Ram'].fillna(0).astype('int32')\n",
    "\n",
    "\n",
    "# Replace non-numeric values (e.g., '?') with NaN\n",
    "df['Weight'] = pd.to_numeric(df['Weight'], errors='coerce')\n",
    "\n",
    "# Convert 'Weight' column to float\n",
    "df['Weight'] = df['Weight'].astype('float32')\n"
   ]
  },
  {
   "cell_type": "code",
   "execution_count": 157,
   "id": "7214e09f",
   "metadata": {
    "execution": {
     "iopub.execute_input": "2022-11-16T06:00:55.114838Z",
     "iopub.status.busy": "2022-11-16T06:00:55.114150Z",
     "iopub.status.idle": "2022-11-16T06:00:55.131945Z",
     "shell.execute_reply": "2022-11-16T06:00:55.130604Z"
    },
    "papermill": {
     "duration": 0.04803,
     "end_time": "2022-11-16T06:00:55.134790",
     "exception": false,
     "start_time": "2022-11-16T06:00:55.086760",
     "status": "completed"
    },
    "tags": []
   },
   "outputs": [
    {
     "name": "stdout",
     "output_type": "stream",
     "text": [
      "<class 'pandas.core.frame.DataFrame'>\n",
      "RangeIndex: 1303 entries, 0 to 1302\n",
      "Data columns (total 11 columns):\n",
      " #   Column            Non-Null Count  Dtype  \n",
      "---  ------            --------------  -----  \n",
      " 0   Company           1273 non-null   object \n",
      " 1   TypeName          1273 non-null   object \n",
      " 2   Inches            1273 non-null   object \n",
      " 3   ScreenResolution  1273 non-null   object \n",
      " 4   Cpu               1273 non-null   object \n",
      " 5   Ram               1303 non-null   int32  \n",
      " 6   Memory            1273 non-null   object \n",
      " 7   Gpu               1273 non-null   object \n",
      " 8   OpSys             1273 non-null   object \n",
      " 9   Weight            1272 non-null   float32\n",
      " 10  Price             1273 non-null   float64\n",
      "dtypes: float32(1), float64(1), int32(1), object(8)\n",
      "memory usage: 101.9+ KB\n"
     ]
    }
   ],
   "source": [
    "df.info()"
   ]
  },
  {
   "cell_type": "code",
   "execution_count": 158,
   "id": "1a6a6c9f",
   "metadata": {
    "execution": {
     "iopub.execute_input": "2022-11-16T06:00:55.188563Z",
     "iopub.status.busy": "2022-11-16T06:00:55.188124Z",
     "iopub.status.idle": "2022-11-16T06:00:56.227813Z",
     "shell.execute_reply": "2022-11-16T06:00:56.226684Z"
    },
    "papermill": {
     "duration": 1.070567,
     "end_time": "2022-11-16T06:00:56.230739",
     "exception": false,
     "start_time": "2022-11-16T06:00:55.160172",
     "status": "completed"
    },
    "tags": []
   },
   "outputs": [],
   "source": [
    "import seaborn as sns"
   ]
  },
  {
   "cell_type": "code",
   "execution_count": 159,
   "id": "f624d48e",
   "metadata": {
    "execution": {
     "iopub.execute_input": "2022-11-16T06:00:56.283597Z",
     "iopub.status.busy": "2022-11-16T06:00:56.282929Z",
     "iopub.status.idle": "2022-11-16T06:00:56.631744Z",
     "shell.execute_reply": "2022-11-16T06:00:56.630445Z"
    },
    "papermill": {
     "duration": 0.378192,
     "end_time": "2022-11-16T06:00:56.634297",
     "exception": false,
     "start_time": "2022-11-16T06:00:56.256105",
     "status": "completed"
    },
    "tags": []
   },
   "outputs": [
    {
     "name": "stderr",
     "output_type": "stream",
     "text": [
      "/Users/akashtiwari/Documents/anaconda3/lib/python3.11/site-packages/seaborn/_oldcore.py:1119: FutureWarning: use_inf_as_na option is deprecated and will be removed in a future version. Convert inf values to NaN before operating instead.\n",
      "  with pd.option_context('mode.use_inf_as_na', True):\n"
     ]
    },
    {
     "data": {
      "text/plain": [
       "<seaborn.axisgrid.FacetGrid at 0x1430b9610>"
      ]
     },
     "execution_count": 159,
     "metadata": {},
     "output_type": "execute_result"
    },
    {
     "data": {
      "image/png": "[encoded data removed]",
      "text/plain": [
       "<Figure size 500x500 with 1 Axes>"
      ]
     },
     "metadata": {},
     "output_type": "display_data"
    }
   ],
   "source": [
    "sns.displot(df['Price'])"
   ]
  },
  {
   "cell_type": "code",
   "execution_count": 160,
   "id": "7059245b",
   "metadata": {
    "execution": {
     "iopub.execute_input": "2022-11-16T06:00:56.691247Z",
     "iopub.status.busy": "2022-11-16T06:00:56.690259Z",
     "iopub.status.idle": "2022-11-16T06:00:56.999575Z",
     "shell.execute_reply": "2022-11-16T06:00:56.998427Z"
    },
    "papermill": {
     "duration": 0.342004,
     "end_time": "2022-11-16T06:00:57.002505",
     "exception": false,
     "start_time": "2022-11-16T06:00:56.660501",
     "status": "completed"
    },
    "tags": []
   },
   "outputs": [
    {
     "data": {
      "text/plain": [
       "<Axes: xlabel='Company'>"
      ]
     },
     "execution_count": 160,
     "metadata": {},
     "output_type": "execute_result"
    },
    {
     "data": {
      "image/png": "[encoded data removed]",
      "text/plain": [
       "<Figure size 640x480 with 1 Axes>"
      ]
     },
     "metadata": {},
     "output_type": "display_data"
    }
   ],
   "source": [
    "df['Company'].value_counts().plot(kind='bar')"
   ]
  },
  {
   "cell_type": "code",
   "execution_count": 161,
   "id": "8d4d7ea9",
   "metadata": {
    "execution": {
     "iopub.execute_input": "2022-11-16T06:00:57.057778Z",
     "iopub.status.busy": "2022-11-16T06:00:57.057326Z",
     "iopub.status.idle": "2022-11-16T06:00:57.779716Z",
     "shell.execute_reply": "2022-11-16T06:00:57.778283Z"
    },
    "papermill": {
     "duration": 0.753039,
     "end_time": "2022-11-16T06:00:57.782475",
     "exception": false,
     "start_time": "2022-11-16T06:00:57.029436",
     "status": "completed"
    },
    "tags": []
   },
   "outputs": [
    {
     "data": {
      "image/png": "[encoded data removed]",
      "text/plain": [
       "<Figure size 640x480 with 1 Axes>"
      ]
     },
     "metadata": {},
     "output_type": "display_data"
    }
   ],
   "source": [
    "sns.barplot(x=df['Company'],y=df['Price'])\n",
    "plt.xticks(rotation='vertical')\n",
    "plt.show()"
   ]
  },
  {
   "cell_type": "code",
   "execution_count": 162,
   "id": "a77d064e",
   "metadata": {
    "execution": {
     "iopub.execute_input": "2022-11-16T06:00:57.837304Z",
     "iopub.status.busy": "2022-11-16T06:00:57.836920Z",
     "iopub.status.idle": "2022-11-16T06:00:58.041488Z",
     "shell.execute_reply": "2022-11-16T06:00:58.040562Z"
    },
    "papermill": {
     "duration": 0.234766,
     "end_time": "2022-11-16T06:00:58.043798",
     "exception": false,
     "start_time": "2022-11-16T06:00:57.809032",
     "status": "completed"
    },
    "tags": []
   },
   "outputs": [
    {
     "data": {
      "text/plain": [
       "<Axes: xlabel='TypeName'>"
      ]
     },
     "execution_count": 162,
     "metadata": {},
     "output_type": "execute_result"
    },
    {
     "data": {
      "image/png": "[encoded data removed]",
      "text/plain": [
       "<Figure size 640x480 with 1 Axes>"
      ]
     },
     "metadata": {},
     "output_type": "display_data"
    }
   ],
   "source": [
    "df['TypeName'].value_counts().plot(kind='bar')"
   ]
  },
  {
   "cell_type": "code",
   "execution_count": 163,
   "id": "a947307c",
   "metadata": {
    "execution": {
     "iopub.execute_input": "2022-11-16T06:00:58.099542Z",
     "iopub.status.busy": "2022-11-16T06:00:58.098846Z",
     "iopub.status.idle": "2022-11-16T06:00:58.461889Z",
     "shell.execute_reply": "2022-11-16T06:00:58.460737Z"
    },
    "papermill": {
     "duration": 0.393883,
     "end_time": "2022-11-16T06:00:58.464574",
     "exception": false,
     "start_time": "2022-11-16T06:00:58.070691",
     "status": "completed"
    },
    "tags": []
   },
   "outputs": [
    {
     "data": {
      "image/png": "[encoded data removed]",
      "text/plain": [
       "<Figure size 640x480 with 1 Axes>"
      ]
     },
     "metadata": {},
     "output_type": "display_data"
    }
   ],
   "source": [
    "sns.barplot(x=df['TypeName'],y=df['Price'])\n",
    "plt.xticks(rotation='vertical')\n",
    "plt.show()"
   ]
  },
  {
   "cell_type": "code",
   "execution_count": 164,
   "id": "5e2c6cd3",
   "metadata": {
    "execution": {
     "iopub.execute_input": "2022-11-16T06:00:58.520807Z",
     "iopub.status.busy": "2022-11-16T06:00:58.520336Z",
     "iopub.status.idle": "2022-11-16T06:00:58.784550Z",
     "shell.execute_reply": "2022-11-16T06:00:58.783117Z"
    },
    "papermill": {
     "duration": 0.2961,
     "end_time": "2022-11-16T06:00:58.787820",
     "exception": false,
     "start_time": "2022-11-16T06:00:58.491720",
     "status": "completed"
    },
    "tags": []
   },
   "outputs": [
    {
     "name": "stderr",
     "output_type": "stream",
     "text": [
      "/Users/akashtiwari/Documents/anaconda3/lib/python3.11/site-packages/seaborn/_oldcore.py:1119: FutureWarning: use_inf_as_na option is deprecated and will be removed in a future version. Convert inf values to NaN before operating instead.\n",
      "  with pd.option_context('mode.use_inf_as_na', True):\n"
     ]
    },
    {
     "data": {
      "text/plain": [
       "<seaborn.axisgrid.FacetGrid at 0x1436d7010>"
      ]
     },
     "execution_count": 164,
     "metadata": {},
     "output_type": "execute_result"
    },
    {
     "data": {
      "image/png": "[encoded data removed]",
      "text/plain": [
       "<Figure size 500x500 with 1 Axes>"
      ]
     },
     "metadata": {},
     "output_type": "display_data"
    }
   ],
   "source": [
    "sns.displot(df['Inches'])"
   ]
  },
  {
   "cell_type": "code",
   "execution_count": 165,
   "id": "f0c37e9d",
   "metadata": {
    "execution": {
     "iopub.execute_input": "2022-11-16T06:00:58.863000Z",
     "iopub.status.busy": "2022-11-16T06:00:58.861758Z",
     "iopub.status.idle": "2022-11-16T06:00:59.095729Z",
     "shell.execute_reply": "2022-11-16T06:00:59.094400Z"
    },
    "papermill": {
     "duration": 0.275356,
     "end_time": "2022-11-16T06:00:59.099130",
     "exception": false,
     "start_time": "2022-11-16T06:00:58.823774",
     "status": "completed"
    },
    "tags": []
   },
   "outputs": [
    {
     "data": {
      "text/plain": [
       "<Axes: xlabel='Inches', ylabel='Price'>"
      ]
     },
     "execution_count": 165,
     "metadata": {},
     "output_type": "execute_result"
    },
    {
     "data": {
      "image/png": "[encoded data removed]",
      "text/plain": [
       "<Figure size 640x480 with 1 Axes>"
      ]
     },
     "metadata": {},
     "output_type": "display_data"
    }
   ],
   "source": [
    "sns.scatterplot(x=df['Inches'],y=df['Price'])"
   ]
  },
  {
   "cell_type": "code",
   "execution_count": 166,
   "id": "ccf75487",
   "metadata": {
    "execution": {
     "iopub.execute_input": "2022-11-16T06:00:59.162768Z",
     "iopub.status.busy": "2022-11-16T06:00:59.162283Z",
     "iopub.status.idle": "2022-11-16T06:00:59.173585Z",
     "shell.execute_reply": "2022-11-16T06:00:59.172513Z"
    },
    "papermill": {
     "duration": 0.046484,
     "end_time": "2022-11-16T06:00:59.176545",
     "exception": false,
     "start_time": "2022-11-16T06:00:59.130061",
     "status": "completed"
    },
    "tags": []
   },
   "outputs": [
    {
     "data": {
      "text/plain": [
       "ScreenResolution\n",
       "Full HD 1920x1080                                495\n",
       "1366x768                                         274\n",
       "IPS Panel Full HD 1920x1080                      226\n",
       "IPS Panel Full HD / Touchscreen 1920x1080         52\n",
       "Full HD / Touchscreen 1920x1080                   45\n",
       "1600x900                                          23\n",
       "Touchscreen 1366x768                              16\n",
       "Quad HD+ / Touchscreen 3200x1800                  14\n",
       "IPS Panel 4K Ultra HD 3840x2160                   12\n",
       "IPS Panel 4K Ultra HD / Touchscreen 3840x2160     11\n",
       "4K Ultra HD / Touchscreen 3840x2160                9\n",
       "4K Ultra HD 3840x2160                              7\n",
       "IPS Panel 1366x768                                 7\n",
       "IPS Panel Retina Display 2560x1600                 6\n",
       "IPS Panel Quad HD+ / Touchscreen 3200x1800         6\n",
       "Touchscreen 2560x1440                              6\n",
       "IPS Panel Retina Display 2304x1440                 6\n",
       "Touchscreen 2256x1504                              6\n",
       "IPS Panel Touchscreen 2560x1440                    5\n",
       "1440x900                                           4\n",
       "IPS Panel 2560x1440                                4\n",
       "IPS Panel Retina Display 2880x1800                 4\n",
       "1920x1080                                          3\n",
       "IPS Panel Touchscreen 1920x1200                    3\n",
       "Quad HD+ 3200x1800                                 3\n",
       "Touchscreen 2400x1600                              3\n",
       "2560x1440                                          3\n",
       "IPS Panel Quad HD+ 2560x1440                       3\n",
       "IPS Panel Touchscreen 1366x768                     3\n",
       "IPS Panel Full HD 2160x1440                        2\n",
       "IPS Panel Touchscreen / 4K Ultra HD 3840x2160      2\n",
       "IPS Panel Quad HD+ 3200x1800                       2\n",
       "IPS Panel Full HD 1920x1200                        1\n",
       "IPS Panel Retina Display 2736x1824                 1\n",
       "IPS Panel Full HD 2560x1440                        1\n",
       "Touchscreen / Full HD 1920x1080                    1\n",
       "IPS Panel Full HD 1366x768                         1\n",
       "Touchscreen / Quad HD+ 3200x1800                   1\n",
       "Touchscreen / 4K Ultra HD 3840x2160                1\n",
       "IPS Panel Touchscreen 2400x1600                    1\n",
       "Name: count, dtype: int64"
      ]
     },
     "execution_count": 166,
     "metadata": {},
     "output_type": "execute_result"
    }
   ],
   "source": [
    "df['ScreenResolution'].value_counts()"
   ]
  },
  {
   "cell_type": "code",
   "execution_count": 167,
   "id": "f875aee7",
   "metadata": {
    "execution": {
     "iopub.execute_input": "2022-11-16T06:00:59.242061Z",
     "iopub.status.busy": "2022-11-16T06:00:59.240874Z",
     "iopub.status.idle": "2022-11-16T06:00:59.248387Z",
     "shell.execute_reply": "2022-11-16T06:00:59.247536Z"
    },
    "papermill": {
     "duration": 0.041048,
     "end_time": "2022-11-16T06:00:59.250837",
     "exception": false,
     "start_time": "2022-11-16T06:00:59.209789",
     "status": "completed"
    },
    "tags": []
   },
   "outputs": [],
   "source": [
    "# Convert float values to strings and handle NaN values\n",
    "df['ScreenResolution'] = df['ScreenResolution'].astype(str)\n",
    "\n",
    "# Apply lambda function to create 'Touchscreen' column\n",
    "df['Touchscreen'] = df['ScreenResolution'].apply(lambda x: 1 if 'Touchscreen' in x else 0)\n"
   ]
  },
  {
   "cell_type": "code",
   "execution_count": 168,
   "id": "44342439",
   "metadata": {
    "execution": {
     "iopub.execute_input": "2022-11-16T06:00:59.311685Z",
     "iopub.status.busy": "2022-11-16T06:00:59.311285Z",
     "iopub.status.idle": "2022-11-16T06:00:59.331968Z",
     "shell.execute_reply": "2022-11-16T06:00:59.330784Z"
    },
    "papermill": {
     "duration": 0.054992,
     "end_time": "2022-11-16T06:00:59.334509",
     "exception": false,
     "start_time": "2022-11-16T06:00:59.279517",
     "status": "completed"
    },
    "tags": []
   },
   "outputs": [
    {
     "data": {
      "text/html": [
       "<div>\n",
       "<style scoped>\n",
       "    .dataframe tbody tr th:only-of-type {\n",
       "        vertical-align: middle;\n",
       "    }\n",
       "\n",
       "    .dataframe tbody tr th {\n",
       "        vertical-align: top;\n",
       "    }\n",
       "\n",
       "    .dataframe thead th {\n",
       "        text-align: right;\n",
       "    }\n",
       "</style>\n",
       "<table border=\"1\" class=\"dataframe\">\n",
       "  <thead>\n",
       "    <tr style=\"text-align: right;\">\n",
       "      <th></th>\n",
       "      <th>Company</th>\n",
       "      <th>TypeName</th>\n",
       "      <th>Inches</th>\n",
       "      <th>ScreenResolution</th>\n",
       "      <th>Cpu</th>\n",
       "      <th>Ram</th>\n",
       "      <th>Memory</th>\n",
       "      <th>Gpu</th>\n",
       "      <th>OpSys</th>\n",
       "      <th>Weight</th>\n",
       "      <th>Price</th>\n",
       "      <th>Touchscreen</th>\n",
       "    </tr>\n",
       "  </thead>\n",
       "  <tbody>\n",
       "    <tr>\n",
       "      <th>1113</th>\n",
       "      <td>HP</td>\n",
       "      <td>Ultrabook</td>\n",
       "      <td>13.3</td>\n",
       "      <td>Full HD 1920x1080</td>\n",
       "      <td>Intel Core i7 6500U 2.5GHz</td>\n",
       "      <td>8</td>\n",
       "      <td>512GB SSD</td>\n",
       "      <td>Intel HD Graphics 520</td>\n",
       "      <td>Windows 10</td>\n",
       "      <td>1.16</td>\n",
       "      <td>104908.32</td>\n",
       "      <td>0</td>\n",
       "    </tr>\n",
       "    <tr>\n",
       "      <th>864</th>\n",
       "      <td>Dell</td>\n",
       "      <td>Ultrabook</td>\n",
       "      <td>13.3</td>\n",
       "      <td>Quad HD+ / Touchscreen 3200x1800</td>\n",
       "      <td>Intel Core i7 7660U 2.5GHz</td>\n",
       "      <td>16</td>\n",
       "      <td>512GB SSD</td>\n",
       "      <td>Intel Iris Plus Graphics 640</td>\n",
       "      <td>Windows 10</td>\n",
       "      <td>1.29</td>\n",
       "      <td>119347.20</td>\n",
       "      <td>1</td>\n",
       "    </tr>\n",
       "    <tr>\n",
       "      <th>888</th>\n",
       "      <td>Acer</td>\n",
       "      <td>Netbook</td>\n",
       "      <td>11.6</td>\n",
       "      <td>IPS Panel 1366x768</td>\n",
       "      <td>Intel Celeron Dual Core N3060 1.6GHz</td>\n",
       "      <td>4</td>\n",
       "      <td>32GB Flash Storage</td>\n",
       "      <td>Intel HD Graphics 400</td>\n",
       "      <td>Chrome OS</td>\n",
       "      <td>1.25</td>\n",
       "      <td>15824.16</td>\n",
       "      <td>0</td>\n",
       "    </tr>\n",
       "    <tr>\n",
       "      <th>1061</th>\n",
       "      <td>Asus</td>\n",
       "      <td>Gaming</td>\n",
       "      <td>17.3</td>\n",
       "      <td>IPS Panel Full HD 1920x1080</td>\n",
       "      <td>Intel Core i7 6700HQ 2.6GHz</td>\n",
       "      <td>16</td>\n",
       "      <td>1TB HDD</td>\n",
       "      <td>Nvidia GeForce GTX 965M</td>\n",
       "      <td>No OS</td>\n",
       "      <td>4.00</td>\n",
       "      <td>53173.44</td>\n",
       "      <td>0</td>\n",
       "    </tr>\n",
       "    <tr>\n",
       "      <th>982</th>\n",
       "      <td>Lenovo</td>\n",
       "      <td>Notebook</td>\n",
       "      <td>15.6</td>\n",
       "      <td>Full HD 1920x1080</td>\n",
       "      <td>AMD A12-Series 9720P 3.6GHz</td>\n",
       "      <td>6</td>\n",
       "      <td>256GB SSD</td>\n",
       "      <td>AMD Radeon 530</td>\n",
       "      <td>Windows 10</td>\n",
       "      <td>2.20</td>\n",
       "      <td>29250.72</td>\n",
       "      <td>0</td>\n",
       "    </tr>\n",
       "  </tbody>\n",
       "</table>\n",
       "</div>"
      ],
      "text/plain": [
       "     Company   TypeName Inches                  ScreenResolution  \\\n",
       "1113      HP  Ultrabook   13.3                 Full HD 1920x1080   \n",
       "864     Dell  Ultrabook   13.3  Quad HD+ / Touchscreen 3200x1800   \n",
       "888     Acer    Netbook   11.6                IPS Panel 1366x768   \n",
       "1061    Asus     Gaming   17.3       IPS Panel Full HD 1920x1080   \n",
       "982   Lenovo   Notebook   15.6                 Full HD 1920x1080   \n",
       "\n",
       "                                       Cpu  Ram              Memory  \\\n",
       "1113            Intel Core i7 6500U 2.5GHz    8           512GB SSD   \n",
       "864             Intel Core i7 7660U 2.5GHz   16           512GB SSD   \n",
       "888   Intel Celeron Dual Core N3060 1.6GHz    4  32GB Flash Storage   \n",
       "1061           Intel Core i7 6700HQ 2.6GHz   16             1TB HDD   \n",
       "982            AMD A12-Series 9720P 3.6GHz    6           256GB SSD   \n",
       "\n",
       "                               Gpu       OpSys  Weight      Price  Touchscreen  \n",
       "1113         Intel HD Graphics 520  Windows 10    1.16  104908.32            0  \n",
       "864   Intel Iris Plus Graphics 640  Windows 10    1.29  119347.20            1  \n",
       "888          Intel HD Graphics 400   Chrome OS    1.25   15824.16            0  \n",
       "1061       Nvidia GeForce GTX 965M       No OS    4.00   53173.44            0  \n",
       "982                 AMD Radeon 530  Windows 10    2.20   29250.72            0  "
      ]
     },
     "execution_count": 168,
     "metadata": {},
     "output_type": "execute_result"
    }
   ],
   "source": [
    "df.sample(5)"
   ]
  },
  {
   "cell_type": "code",
   "execution_count": 169,
   "id": "2d7950e8",
   "metadata": {
    "execution": {
     "iopub.execute_input": "2022-11-16T06:00:59.394266Z",
     "iopub.status.busy": "2022-11-16T06:00:59.393128Z",
     "iopub.status.idle": "2022-11-16T06:00:59.568131Z",
     "shell.execute_reply": "2022-11-16T06:00:59.566625Z"
    },
    "papermill": {
     "duration": 0.20783,
     "end_time": "2022-11-16T06:00:59.571126",
     "exception": false,
     "start_time": "2022-11-16T06:00:59.363296",
     "status": "completed"
    },
    "tags": []
   },
   "outputs": [
    {
     "data": {
      "text/plain": [
       "<Axes: xlabel='Touchscreen'>"
      ]
     },
     "execution_count": 169,
     "metadata": {},
     "output_type": "execute_result"
    },
    {
     "data": {
      "image/png": "[encoded data removed]",
      "text/plain": [
       "<Figure size 640x480 with 1 Axes>"
      ]
     },
     "metadata": {},
     "output_type": "display_data"
    }
   ],
   "source": [
    "df['Touchscreen'].value_counts().plot(kind='bar')"
   ]
  },
  {
   "cell_type": "code",
   "execution_count": 170,
   "id": "12ed0dc3",
   "metadata": {
    "execution": {
     "iopub.execute_input": "2022-11-16T06:00:59.638957Z",
     "iopub.status.busy": "2022-11-16T06:00:59.637861Z",
     "iopub.status.idle": "2022-11-16T06:00:59.901913Z",
     "shell.execute_reply": "2022-11-16T06:00:59.900609Z"
    },
    "papermill": {
     "duration": 0.297793,
     "end_time": "2022-11-16T06:00:59.904414",
     "exception": false,
     "start_time": "2022-11-16T06:00:59.606621",
     "status": "completed"
    },
    "tags": []
   },
   "outputs": [
    {
     "data": {
      "text/plain": [
       "<Axes: xlabel='Touchscreen', ylabel='Price'>"
      ]
     },
     "execution_count": 170,
     "metadata": {},
     "output_type": "execute_result"
    },
    {
     "data": {
      "image/png": "[encoded data removed]",
      "text/plain": [
       "<Figure size 640x480 with 1 Axes>"
      ]
     },
     "metadata": {},
     "output_type": "display_data"
    }
   ],
   "source": [
    "sns.barplot(x=df['Touchscreen'],y=df['Price'])"
   ]
  },
  {
   "cell_type": "code",
   "execution_count": 171,
   "id": "abc3b778",
   "metadata": {
    "execution": {
     "iopub.execute_input": "2022-11-16T06:00:59.966099Z",
     "iopub.status.busy": "2022-11-16T06:00:59.965146Z",
     "iopub.status.idle": "2022-11-16T06:00:59.973516Z",
     "shell.execute_reply": "2022-11-16T06:00:59.972050Z"
    },
    "papermill": {
     "duration": 0.041282,
     "end_time": "2022-11-16T06:00:59.976001",
     "exception": false,
     "start_time": "2022-11-16T06:00:59.934719",
     "status": "completed"
    },
    "tags": []
   },
   "outputs": [],
   "source": [
    "df['Ips'] = df['ScreenResolution'].apply(lambda x:1 if 'IPS' in x else 0)"
   ]
  },
  {
   "cell_type": "code",
   "execution_count": 172,
   "id": "1f8ef7d9",
   "metadata": {
    "execution": {
     "iopub.execute_input": "2022-11-16T06:01:00.037822Z",
     "iopub.status.busy": "2022-11-16T06:01:00.037388Z",
     "iopub.status.idle": "2022-11-16T06:01:00.056311Z",
     "shell.execute_reply": "2022-11-16T06:01:00.055035Z"
    },
    "papermill": {
     "duration": 0.05279,
     "end_time": "2022-11-16T06:01:00.058844",
     "exception": false,
     "start_time": "2022-11-16T06:01:00.006054",
     "status": "completed"
    },
    "tags": []
   },
   "outputs": [
    {
     "data": {
      "text/html": [
       "<div>\n",
       "<style scoped>\n",
       "    .dataframe tbody tr th:only-of-type {\n",
       "        vertical-align: middle;\n",
       "    }\n",
       "\n",
       "    .dataframe tbody tr th {\n",
       "        vertical-align: top;\n",
       "    }\n",
       "\n",
       "    .dataframe thead th {\n",
       "        text-align: right;\n",
       "    }\n",
       "</style>\n",
       "<table border=\"1\" class=\"dataframe\">\n",
       "  <thead>\n",
       "    <tr style=\"text-align: right;\">\n",
       "      <th></th>\n",
       "      <th>Company</th>\n",
       "      <th>TypeName</th>\n",
       "      <th>Inches</th>\n",
       "      <th>ScreenResolution</th>\n",
       "      <th>Cpu</th>\n",
       "      <th>Ram</th>\n",
       "      <th>Memory</th>\n",
       "      <th>Gpu</th>\n",
       "      <th>OpSys</th>\n",
       "      <th>Weight</th>\n",
       "      <th>Price</th>\n",
       "      <th>Touchscreen</th>\n",
       "      <th>Ips</th>\n",
       "    </tr>\n",
       "  </thead>\n",
       "  <tbody>\n",
       "    <tr>\n",
       "      <th>0</th>\n",
       "      <td>Apple</td>\n",
       "      <td>Ultrabook</td>\n",
       "      <td>13.3</td>\n",
       "      <td>IPS Panel Retina Display 2560x1600</td>\n",
       "      <td>Intel Core i5 2.3GHz</td>\n",
       "      <td>8</td>\n",
       "      <td>128GB SSD</td>\n",
       "      <td>Intel Iris Plus Graphics 640</td>\n",
       "      <td>macOS</td>\n",
       "      <td>1.37</td>\n",
       "      <td>71378.6832</td>\n",
       "      <td>0</td>\n",
       "      <td>1</td>\n",
       "    </tr>\n",
       "    <tr>\n",
       "      <th>1</th>\n",
       "      <td>Apple</td>\n",
       "      <td>Ultrabook</td>\n",
       "      <td>13.3</td>\n",
       "      <td>1440x900</td>\n",
       "      <td>Intel Core i5 1.8GHz</td>\n",
       "      <td>8</td>\n",
       "      <td>128GB Flash Storage</td>\n",
       "      <td>Intel HD Graphics 6000</td>\n",
       "      <td>macOS</td>\n",
       "      <td>1.34</td>\n",
       "      <td>47895.5232</td>\n",
       "      <td>0</td>\n",
       "      <td>0</td>\n",
       "    </tr>\n",
       "    <tr>\n",
       "      <th>2</th>\n",
       "      <td>HP</td>\n",
       "      <td>Notebook</td>\n",
       "      <td>15.6</td>\n",
       "      <td>Full HD 1920x1080</td>\n",
       "      <td>Intel Core i5 7200U 2.5GHz</td>\n",
       "      <td>8</td>\n",
       "      <td>256GB SSD</td>\n",
       "      <td>Intel HD Graphics 620</td>\n",
       "      <td>No OS</td>\n",
       "      <td>1.86</td>\n",
       "      <td>30636.0000</td>\n",
       "      <td>0</td>\n",
       "      <td>0</td>\n",
       "    </tr>\n",
       "    <tr>\n",
       "      <th>3</th>\n",
       "      <td>Apple</td>\n",
       "      <td>Ultrabook</td>\n",
       "      <td>15.4</td>\n",
       "      <td>IPS Panel Retina Display 2880x1800</td>\n",
       "      <td>Intel Core i7 2.7GHz</td>\n",
       "      <td>16</td>\n",
       "      <td>512GB SSD</td>\n",
       "      <td>AMD Radeon Pro 455</td>\n",
       "      <td>macOS</td>\n",
       "      <td>1.83</td>\n",
       "      <td>135195.3360</td>\n",
       "      <td>0</td>\n",
       "      <td>1</td>\n",
       "    </tr>\n",
       "    <tr>\n",
       "      <th>4</th>\n",
       "      <td>Apple</td>\n",
       "      <td>Ultrabook</td>\n",
       "      <td>13.3</td>\n",
       "      <td>IPS Panel Retina Display 2560x1600</td>\n",
       "      <td>Intel Core i5 3.1GHz</td>\n",
       "      <td>8</td>\n",
       "      <td>256GB SSD</td>\n",
       "      <td>Intel Iris Plus Graphics 650</td>\n",
       "      <td>macOS</td>\n",
       "      <td>1.37</td>\n",
       "      <td>96095.8080</td>\n",
       "      <td>0</td>\n",
       "      <td>1</td>\n",
       "    </tr>\n",
       "  </tbody>\n",
       "</table>\n",
       "</div>"
      ],
      "text/plain": [
       "  Company   TypeName Inches                    ScreenResolution  \\\n",
       "0   Apple  Ultrabook   13.3  IPS Panel Retina Display 2560x1600   \n",
       "1   Apple  Ultrabook   13.3                            1440x900   \n",
       "2      HP   Notebook   15.6                   Full HD 1920x1080   \n",
       "3   Apple  Ultrabook   15.4  IPS Panel Retina Display 2880x1800   \n",
       "4   Apple  Ultrabook   13.3  IPS Panel Retina Display 2560x1600   \n",
       "\n",
       "                          Cpu  Ram               Memory  \\\n",
       "0        Intel Core i5 2.3GHz    8            128GB SSD   \n",
       "1        Intel Core i5 1.8GHz    8  128GB Flash Storage   \n",
       "2  Intel Core i5 7200U 2.5GHz    8            256GB SSD   \n",
       "3        Intel Core i7 2.7GHz   16            512GB SSD   \n",
       "4        Intel Core i5 3.1GHz    8            256GB SSD   \n",
       "\n",
       "                            Gpu  OpSys  Weight        Price  Touchscreen  Ips  \n",
       "0  Intel Iris Plus Graphics 640  macOS    1.37   71378.6832            0    1  \n",
       "1        Intel HD Graphics 6000  macOS    1.34   47895.5232            0    0  \n",
       "2         Intel HD Graphics 620  No OS    1.86   30636.0000            0    0  \n",
       "3            AMD Radeon Pro 455  macOS    1.83  135195.3360            0    1  \n",
       "4  Intel Iris Plus Graphics 650  macOS    1.37   96095.8080            0    1  "
      ]
     },
     "execution_count": 172,
     "metadata": {},
     "output_type": "execute_result"
    }
   ],
   "source": [
    "df.head()"
   ]
  },
  {
   "cell_type": "code",
   "execution_count": 173,
   "id": "dce0253b",
   "metadata": {
    "execution": {
     "iopub.execute_input": "2022-11-16T06:01:00.121724Z",
     "iopub.status.busy": "2022-11-16T06:01:00.120500Z",
     "iopub.status.idle": "2022-11-16T06:01:00.278267Z",
     "shell.execute_reply": "2022-11-16T06:01:00.277064Z"
    },
    "papermill": {
     "duration": 0.192193,
     "end_time": "2022-11-16T06:01:00.280741",
     "exception": false,
     "start_time": "2022-11-16T06:01:00.088548",
     "status": "completed"
    },
    "tags": []
   },
   "outputs": [
    {
     "data": {
      "text/plain": [
       "<Axes: xlabel='Ips'>"
      ]
     },
     "execution_count": 173,
     "metadata": {},
     "output_type": "execute_result"
    },
    {
     "data": {
      "image/png": "[encoded data removed]",
      "text/plain": [
       "<Figure size 640x480 with 1 Axes>"
      ]
     },
     "metadata": {},
     "output_type": "display_data"
    }
   ],
   "source": [
    "df['Ips'].value_counts().plot(kind='bar')"
   ]
  },
  {
   "cell_type": "code",
   "execution_count": 174,
   "id": "3039ec15",
   "metadata": {
    "execution": {
     "iopub.execute_input": "2022-11-16T06:01:00.343771Z",
     "iopub.status.busy": "2022-11-16T06:01:00.343354Z",
     "iopub.status.idle": "2022-11-16T06:01:00.582633Z",
     "shell.execute_reply": "2022-11-16T06:01:00.581296Z"
    },
    "papermill": {
     "duration": 0.274129,
     "end_time": "2022-11-16T06:01:00.585553",
     "exception": false,
     "start_time": "2022-11-16T06:01:00.311424",
     "status": "completed"
    },
    "tags": []
   },
   "outputs": [
    {
     "data": {
      "text/plain": [
       "<Axes: xlabel='Ips', ylabel='Price'>"
      ]
     },
     "execution_count": 174,
     "metadata": {},
     "output_type": "execute_result"
    },
    {
     "data": {
      "image/png": "[encoded data removed]",
      "text/plain": [
       "<Figure size 640x480 with 1 Axes>"
      ]
     },
     "metadata": {},
     "output_type": "display_data"
    }
   ],
   "source": [
    "sns.barplot(x=df['Ips'],y=df['Price'])"
   ]
  },
  {
   "cell_type": "code",
   "execution_count": 175,
   "id": "1aa40a90",
   "metadata": {
    "execution": {
     "iopub.execute_input": "2022-11-16T06:01:00.649936Z",
     "iopub.status.busy": "2022-11-16T06:01:00.649054Z",
     "iopub.status.idle": "2022-11-16T06:01:00.658153Z",
     "shell.execute_reply": "2022-11-16T06:01:00.656969Z"
    },
    "papermill": {
     "duration": 0.043896,
     "end_time": "2022-11-16T06:01:00.660599",
     "exception": false,
     "start_time": "2022-11-16T06:01:00.616703",
     "status": "completed"
    },
    "tags": []
   },
   "outputs": [],
   "source": [
    "new = df['ScreenResolution'].str.split('x',n=1,expand=True)"
   ]
  },
  {
   "cell_type": "code",
   "execution_count": 176,
   "id": "d8894428",
   "metadata": {
    "execution": {
     "iopub.execute_input": "2022-11-16T06:01:00.724590Z",
     "iopub.status.busy": "2022-11-16T06:01:00.723874Z",
     "iopub.status.idle": "2022-11-16T06:01:00.729773Z",
     "shell.execute_reply": "2022-11-16T06:01:00.728931Z"
    },
    "papermill": {
     "duration": 0.041208,
     "end_time": "2022-11-16T06:01:00.732016",
     "exception": false,
     "start_time": "2022-11-16T06:01:00.690808",
     "status": "completed"
    },
    "tags": []
   },
   "outputs": [],
   "source": [
    "df['X_res'] = new[0]\n",
    "df['Y_res'] = new[1]"
   ]
  },
  {
   "cell_type": "code",
   "execution_count": 177,
   "id": "72ad3b87",
   "metadata": {
    "execution": {
     "iopub.execute_input": "2022-11-16T06:01:00.794563Z",
     "iopub.status.busy": "2022-11-16T06:01:00.793762Z",
     "iopub.status.idle": "2022-11-16T06:01:00.815695Z",
     "shell.execute_reply": "2022-11-16T06:01:00.814285Z"
    },
    "papermill": {
     "duration": 0.05616,
     "end_time": "2022-11-16T06:01:00.818253",
     "exception": false,
     "start_time": "2022-11-16T06:01:00.762093",
     "status": "completed"
    },
    "tags": []
   },
   "outputs": [
    {
     "data": {
      "text/html": [
       "<div>\n",
       "<style scoped>\n",
       "    .dataframe tbody tr th:only-of-type {\n",
       "        vertical-align: middle;\n",
       "    }\n",
       "\n",
       "    .dataframe tbody tr th {\n",
       "        vertical-align: top;\n",
       "    }\n",
       "\n",
       "    .dataframe thead th {\n",
       "        text-align: right;\n",
       "    }\n",
       "</style>\n",
       "<table border=\"1\" class=\"dataframe\">\n",
       "  <thead>\n",
       "    <tr style=\"text-align: right;\">\n",
       "      <th></th>\n",
       "      <th>Company</th>\n",
       "      <th>TypeName</th>\n",
       "      <th>Inches</th>\n",
       "      <th>ScreenResolution</th>\n",
       "      <th>Cpu</th>\n",
       "      <th>Ram</th>\n",
       "      <th>Memory</th>\n",
       "      <th>Gpu</th>\n",
       "      <th>OpSys</th>\n",
       "      <th>Weight</th>\n",
       "      <th>Price</th>\n",
       "      <th>Touchscreen</th>\n",
       "      <th>Ips</th>\n",
       "      <th>X_res</th>\n",
       "      <th>Y_res</th>\n",
       "    </tr>\n",
       "  </thead>\n",
       "  <tbody>\n",
       "    <tr>\n",
       "      <th>287</th>\n",
       "      <td>Asus</td>\n",
       "      <td>Ultrabook</td>\n",
       "      <td>15.6</td>\n",
       "      <td>Full HD 1920x1080</td>\n",
       "      <td>Intel Core i5 7200U 2.5GHz</td>\n",
       "      <td>8</td>\n",
       "      <td>256GB SSD</td>\n",
       "      <td>Nvidia GeForce 940MX</td>\n",
       "      <td>Windows 10</td>\n",
       "      <td>1.70</td>\n",
       "      <td>52054.56</td>\n",
       "      <td>0</td>\n",
       "      <td>0</td>\n",
       "      <td>Full HD 1920</td>\n",
       "      <td>1080</td>\n",
       "    </tr>\n",
       "    <tr>\n",
       "      <th>395</th>\n",
       "      <td>HP</td>\n",
       "      <td>Ultrabook</td>\n",
       "      <td>15.6</td>\n",
       "      <td>Full HD 1920x1080</td>\n",
       "      <td>AMD A9-Series 9420 3GHz</td>\n",
       "      <td>4</td>\n",
       "      <td>256GB SSD</td>\n",
       "      <td>AMD Radeon 520</td>\n",
       "      <td>Windows 10</td>\n",
       "      <td>1.91</td>\n",
       "      <td>26586.72</td>\n",
       "      <td>0</td>\n",
       "      <td>0</td>\n",
       "      <td>Full HD 1920</td>\n",
       "      <td>1080</td>\n",
       "    </tr>\n",
       "    <tr>\n",
       "      <th>345</th>\n",
       "      <td>Lenovo</td>\n",
       "      <td>Gaming</td>\n",
       "      <td>15.6</td>\n",
       "      <td>IPS Panel Full HD 1920x1080</td>\n",
       "      <td>Intel Core i7 7700HQ 2.8GHz</td>\n",
       "      <td>16</td>\n",
       "      <td>256GB SSD +  2TB HDD</td>\n",
       "      <td>Nvidia GeForce GTX 1050 Ti</td>\n",
       "      <td>Windows 10</td>\n",
       "      <td>2.40</td>\n",
       "      <td>60153.12</td>\n",
       "      <td>0</td>\n",
       "      <td>1</td>\n",
       "      <td>IPS Panel Full HD 1920</td>\n",
       "      <td>1080</td>\n",
       "    </tr>\n",
       "    <tr>\n",
       "      <th>717</th>\n",
       "      <td>Lenovo</td>\n",
       "      <td>Notebook</td>\n",
       "      <td>15.6</td>\n",
       "      <td>1366x768</td>\n",
       "      <td>AMD A6-Series 7310 2GHz</td>\n",
       "      <td>4</td>\n",
       "      <td>500GB HDD</td>\n",
       "      <td>AMD Radeon R4</td>\n",
       "      <td>Windows 10</td>\n",
       "      <td>2.19</td>\n",
       "      <td>15877.44</td>\n",
       "      <td>0</td>\n",
       "      <td>0</td>\n",
       "      <td>1366</td>\n",
       "      <td>768</td>\n",
       "    </tr>\n",
       "    <tr>\n",
       "      <th>684</th>\n",
       "      <td>Lenovo</td>\n",
       "      <td>2 in 1 Convertible</td>\n",
       "      <td>13.3</td>\n",
       "      <td>IPS Panel Full HD / Touchscreen 1920x1080</td>\n",
       "      <td>Intel Core i7 8550U 1.8GHz</td>\n",
       "      <td>8</td>\n",
       "      <td>512GB SSD</td>\n",
       "      <td>Intel UHD Graphics 620</td>\n",
       "      <td>Windows 10</td>\n",
       "      <td>1.19</td>\n",
       "      <td>79866.72</td>\n",
       "      <td>1</td>\n",
       "      <td>1</td>\n",
       "      <td>IPS Panel Full HD / Touchscreen 1920</td>\n",
       "      <td>1080</td>\n",
       "    </tr>\n",
       "  </tbody>\n",
       "</table>\n",
       "</div>"
      ],
      "text/plain": [
       "    Company            TypeName Inches  \\\n",
       "287    Asus           Ultrabook   15.6   \n",
       "395      HP           Ultrabook   15.6   \n",
       "345  Lenovo              Gaming   15.6   \n",
       "717  Lenovo            Notebook   15.6   \n",
       "684  Lenovo  2 in 1 Convertible   13.3   \n",
       "\n",
       "                              ScreenResolution                          Cpu  \\\n",
       "287                          Full HD 1920x1080   Intel Core i5 7200U 2.5GHz   \n",
       "395                          Full HD 1920x1080      AMD A9-Series 9420 3GHz   \n",
       "345                IPS Panel Full HD 1920x1080  Intel Core i7 7700HQ 2.8GHz   \n",
       "717                                   1366x768      AMD A6-Series 7310 2GHz   \n",
       "684  IPS Panel Full HD / Touchscreen 1920x1080   Intel Core i7 8550U 1.8GHz   \n",
       "\n",
       "     Ram                Memory                         Gpu       OpSys  \\\n",
       "287    8             256GB SSD        Nvidia GeForce 940MX  Windows 10   \n",
       "395    4             256GB SSD              AMD Radeon 520  Windows 10   \n",
       "345   16  256GB SSD +  2TB HDD  Nvidia GeForce GTX 1050 Ti  Windows 10   \n",
       "717    4             500GB HDD               AMD Radeon R4  Windows 10   \n",
       "684    8             512GB SSD      Intel UHD Graphics 620  Windows 10   \n",
       "\n",
       "     Weight     Price  Touchscreen  Ips                                 X_res  \\\n",
       "287    1.70  52054.56            0    0                          Full HD 1920   \n",
       "395    1.91  26586.72            0    0                          Full HD 1920   \n",
       "345    2.40  60153.12            0    1                IPS Panel Full HD 1920   \n",
       "717    2.19  15877.44            0    0                                  1366   \n",
       "684    1.19  79866.72            1    1  IPS Panel Full HD / Touchscreen 1920   \n",
       "\n",
       "    Y_res  \n",
       "287  1080  \n",
       "395  1080  \n",
       "345  1080  \n",
       "717   768  \n",
       "684  1080  "
      ]
     },
     "execution_count": 177,
     "metadata": {},
     "output_type": "execute_result"
    }
   ],
   "source": [
    "df.sample(5)"
   ]
  },
  {
   "cell_type": "code",
   "execution_count": 178,
   "id": "573d5e97",
   "metadata": {},
   "outputs": [],
   "source": [
    "# Replace ',' and extract numerical values using regular expressions\n",
    "df['X_res'] = df['X_res'].str.replace(',', '').str.findall(r'(\\d+\\.?\\d+)')\n",
    "\n",
    "# Define a function to extract the first element of the list if it exists, otherwise return NaN\n",
    "def extract_first_element(x):\n",
    "    if len(x) > 0:\n",
    "        return x[0]\n",
    "    else:\n",
    "        return np.nan\n",
    "\n",
    "# Apply the function to handle the IndexError\n",
    "df['X_res'] = df['X_res'].apply(extract_first_element)"
   ]
  },
  {
   "cell_type": "code",
   "execution_count": 179,
   "id": "d6f04c0b",
   "metadata": {
    "execution": {
     "iopub.execute_input": "2022-11-16T06:01:00.958989Z",
     "iopub.status.busy": "2022-11-16T06:01:00.958529Z",
     "iopub.status.idle": "2022-11-16T06:01:00.979241Z",
     "shell.execute_reply": "2022-11-16T06:01:00.978033Z"
    },
    "papermill": {
     "duration": 0.055465,
     "end_time": "2022-11-16T06:01:00.981562",
     "exception": false,
     "start_time": "2022-11-16T06:01:00.926097",
     "status": "completed"
    },
    "tags": []
   },
   "outputs": [
    {
     "data": {
      "text/html": [
       "<div>\n",
       "<style scoped>\n",
       "    .dataframe tbody tr th:only-of-type {\n",
       "        vertical-align: middle;\n",
       "    }\n",
       "\n",
       "    .dataframe tbody tr th {\n",
       "        vertical-align: top;\n",
       "    }\n",
       "\n",
       "    .dataframe thead th {\n",
       "        text-align: right;\n",
       "    }\n",
       "</style>\n",
       "<table border=\"1\" class=\"dataframe\">\n",
       "  <thead>\n",
       "    <tr style=\"text-align: right;\">\n",
       "      <th></th>\n",
       "      <th>Company</th>\n",
       "      <th>TypeName</th>\n",
       "      <th>Inches</th>\n",
       "      <th>ScreenResolution</th>\n",
       "      <th>Cpu</th>\n",
       "      <th>Ram</th>\n",
       "      <th>Memory</th>\n",
       "      <th>Gpu</th>\n",
       "      <th>OpSys</th>\n",
       "      <th>Weight</th>\n",
       "      <th>Price</th>\n",
       "      <th>Touchscreen</th>\n",
       "      <th>Ips</th>\n",
       "      <th>X_res</th>\n",
       "      <th>Y_res</th>\n",
       "    </tr>\n",
       "  </thead>\n",
       "  <tbody>\n",
       "    <tr>\n",
       "      <th>0</th>\n",
       "      <td>Apple</td>\n",
       "      <td>Ultrabook</td>\n",
       "      <td>13.3</td>\n",
       "      <td>IPS Panel Retina Display 2560x1600</td>\n",
       "      <td>Intel Core i5 2.3GHz</td>\n",
       "      <td>8</td>\n",
       "      <td>128GB SSD</td>\n",
       "      <td>Intel Iris Plus Graphics 640</td>\n",
       "      <td>macOS</td>\n",
       "      <td>1.37</td>\n",
       "      <td>71378.6832</td>\n",
       "      <td>0</td>\n",
       "      <td>1</td>\n",
       "      <td>2560</td>\n",
       "      <td>1600</td>\n",
       "    </tr>\n",
       "    <tr>\n",
       "      <th>1</th>\n",
       "      <td>Apple</td>\n",
       "      <td>Ultrabook</td>\n",
       "      <td>13.3</td>\n",
       "      <td>1440x900</td>\n",
       "      <td>Intel Core i5 1.8GHz</td>\n",
       "      <td>8</td>\n",
       "      <td>128GB Flash Storage</td>\n",
       "      <td>Intel HD Graphics 6000</td>\n",
       "      <td>macOS</td>\n",
       "      <td>1.34</td>\n",
       "      <td>47895.5232</td>\n",
       "      <td>0</td>\n",
       "      <td>0</td>\n",
       "      <td>1440</td>\n",
       "      <td>900</td>\n",
       "    </tr>\n",
       "    <tr>\n",
       "      <th>2</th>\n",
       "      <td>HP</td>\n",
       "      <td>Notebook</td>\n",
       "      <td>15.6</td>\n",
       "      <td>Full HD 1920x1080</td>\n",
       "      <td>Intel Core i5 7200U 2.5GHz</td>\n",
       "      <td>8</td>\n",
       "      <td>256GB SSD</td>\n",
       "      <td>Intel HD Graphics 620</td>\n",
       "      <td>No OS</td>\n",
       "      <td>1.86</td>\n",
       "      <td>30636.0000</td>\n",
       "      <td>0</td>\n",
       "      <td>0</td>\n",
       "      <td>1920</td>\n",
       "      <td>1080</td>\n",
       "    </tr>\n",
       "    <tr>\n",
       "      <th>3</th>\n",
       "      <td>Apple</td>\n",
       "      <td>Ultrabook</td>\n",
       "      <td>15.4</td>\n",
       "      <td>IPS Panel Retina Display 2880x1800</td>\n",
       "      <td>Intel Core i7 2.7GHz</td>\n",
       "      <td>16</td>\n",
       "      <td>512GB SSD</td>\n",
       "      <td>AMD Radeon Pro 455</td>\n",
       "      <td>macOS</td>\n",
       "      <td>1.83</td>\n",
       "      <td>135195.3360</td>\n",
       "      <td>0</td>\n",
       "      <td>1</td>\n",
       "      <td>2880</td>\n",
       "      <td>1800</td>\n",
       "    </tr>\n",
       "    <tr>\n",
       "      <th>4</th>\n",
       "      <td>Apple</td>\n",
       "      <td>Ultrabook</td>\n",
       "      <td>13.3</td>\n",
       "      <td>IPS Panel Retina Display 2560x1600</td>\n",
       "      <td>Intel Core i5 3.1GHz</td>\n",
       "      <td>8</td>\n",
       "      <td>256GB SSD</td>\n",
       "      <td>Intel Iris Plus Graphics 650</td>\n",
       "      <td>macOS</td>\n",
       "      <td>1.37</td>\n",
       "      <td>96095.8080</td>\n",
       "      <td>0</td>\n",
       "      <td>1</td>\n",
       "      <td>2560</td>\n",
       "      <td>1600</td>\n",
       "    </tr>\n",
       "  </tbody>\n",
       "</table>\n",
       "</div>"
      ],
      "text/plain": [
       "  Company   TypeName Inches                    ScreenResolution  \\\n",
       "0   Apple  Ultrabook   13.3  IPS Panel Retina Display 2560x1600   \n",
       "1   Apple  Ultrabook   13.3                            1440x900   \n",
       "2      HP   Notebook   15.6                   Full HD 1920x1080   \n",
       "3   Apple  Ultrabook   15.4  IPS Panel Retina Display 2880x1800   \n",
       "4   Apple  Ultrabook   13.3  IPS Panel Retina Display 2560x1600   \n",
       "\n",
       "                          Cpu  Ram               Memory  \\\n",
       "0        Intel Core i5 2.3GHz    8            128GB SSD   \n",
       "1        Intel Core i5 1.8GHz    8  128GB Flash Storage   \n",
       "2  Intel Core i5 7200U 2.5GHz    8            256GB SSD   \n",
       "3        Intel Core i7 2.7GHz   16            512GB SSD   \n",
       "4        Intel Core i5 3.1GHz    8            256GB SSD   \n",
       "\n",
       "                            Gpu  OpSys  Weight        Price  Touchscreen  Ips  \\\n",
       "0  Intel Iris Plus Graphics 640  macOS    1.37   71378.6832            0    1   \n",
       "1        Intel HD Graphics 6000  macOS    1.34   47895.5232            0    0   \n",
       "2         Intel HD Graphics 620  No OS    1.86   30636.0000            0    0   \n",
       "3            AMD Radeon Pro 455  macOS    1.83  135195.3360            0    1   \n",
       "4  Intel Iris Plus Graphics 650  macOS    1.37   96095.8080            0    1   \n",
       "\n",
       "  X_res Y_res  \n",
       "0  2560  1600  \n",
       "1  1440   900  \n",
       "2  1920  1080  \n",
       "3  2880  1800  \n",
       "4  2560  1600  "
      ]
     },
     "execution_count": 179,
     "metadata": {},
     "output_type": "execute_result"
    }
   ],
   "source": [
    "df.head()"
   ]
  },
  {
   "cell_type": "code",
   "execution_count": 180,
   "id": "acb59b28",
   "metadata": {},
   "outputs": [],
   "source": [
    "# Fill NaN values with a default value (e.g., 0)\n",
    "df['X_res'] = df['X_res'].fillna(0)\n",
    "df['Y_res'] = df['Y_res'].fillna(0)\n",
    "\n",
    "# Convert the columns to integers\n",
    "df['X_res'] = df['X_res'].astype('int')\n",
    "df['Y_res'] = df['Y_res'].astype('int')\n"
   ]
  },
  {
   "cell_type": "code",
   "execution_count": 181,
   "id": "e7f8f8b0",
   "metadata": {
    "execution": {
     "iopub.execute_input": "2022-11-16T06:01:01.120386Z",
     "iopub.status.busy": "2022-11-16T06:01:01.119620Z",
     "iopub.status.idle": "2022-11-16T06:01:01.133772Z",
     "shell.execute_reply": "2022-11-16T06:01:01.132555Z"
    },
    "papermill": {
     "duration": 0.048531,
     "end_time": "2022-11-16T06:01:01.136125",
     "exception": false,
     "start_time": "2022-11-16T06:01:01.087594",
     "status": "completed"
    },
    "tags": []
   },
   "outputs": [
    {
     "name": "stdout",
     "output_type": "stream",
     "text": [
      "<class 'pandas.core.frame.DataFrame'>\n",
      "RangeIndex: 1303 entries, 0 to 1302\n",
      "Data columns (total 15 columns):\n",
      " #   Column            Non-Null Count  Dtype  \n",
      "---  ------            --------------  -----  \n",
      " 0   Company           1273 non-null   object \n",
      " 1   TypeName          1273 non-null   object \n",
      " 2   Inches            1273 non-null   object \n",
      " 3   ScreenResolution  1303 non-null   object \n",
      " 4   Cpu               1273 non-null   object \n",
      " 5   Ram               1303 non-null   int32  \n",
      " 6   Memory            1273 non-null   object \n",
      " 7   Gpu               1273 non-null   object \n",
      " 8   OpSys             1273 non-null   object \n",
      " 9   Weight            1272 non-null   float32\n",
      " 10  Price             1273 non-null   float64\n",
      " 11  Touchscreen       1303 non-null   int64  \n",
      " 12  Ips               1303 non-null   int64  \n",
      " 13  X_res             1303 non-null   int64  \n",
      " 14  Y_res             1303 non-null   int64  \n",
      "dtypes: float32(1), float64(1), int32(1), int64(4), object(8)\n",
      "memory usage: 142.6+ KB\n"
     ]
    }
   ],
   "source": [
    "df.info()"
   ]
  },
  {
   "cell_type": "code",
   "execution_count": 182,
   "id": "ef237f03",
   "metadata": {},
   "outputs": [],
   "source": [
    "# Exclude non-numeric columns from correlation calculation\n",
    "numeric_columns = df.select_dtypes(include=['float64', 'int64']).columns\n",
    "corr_matrix = df[numeric_columns].corr()\n",
    "\n",
    "# Get correlation of 'Price' with other columns\n",
    "price_corr = corr_matrix['Price']\n"
   ]
  },
  {
   "cell_type": "code",
   "execution_count": 183,
   "id": "7dd444fe",
   "metadata": {},
   "outputs": [],
   "source": [
    "df['ppi'] = (((df['X_res']**2) + (df['Y_res']**2))**0.5).astype('float')"
   ]
  },
  {
   "cell_type": "code",
   "execution_count": 184,
   "id": "fcf27842",
   "metadata": {},
   "outputs": [],
   "source": [
    "# Convert the string column to a numeric type\n",
    "df['Inches'] = pd.to_numeric(df['Inches'], errors='coerce')\n",
    "\n",
    "# Perform division operation after ensuring numeric compatibility\n",
    "result = df['ppi'] / df['Inches']\n"
   ]
  },
  {
   "cell_type": "code",
   "execution_count": 185,
   "id": "8eb75dc4",
   "metadata": {},
   "outputs": [],
   "source": [
    "# Convert the 'Price' column to numeric, coercing errors to NaN\n",
    "df['Price'] = pd.to_numeric(df['Price'], errors='coerce')\n",
    "\n",
    "# Remove rows with NaN values in the 'Price' column\n",
    "df.dropna(subset=['Price'], inplace=True)\n",
    "\n",
    "# Calculate the correlation matrix for numeric columns\n",
    "numeric_columns = df.select_dtypes(include=['float64', 'int64']).columns\n",
    "corr_matrix = df[numeric_columns].corr()\n",
    "\n",
    "# Get the correlation of 'Price' with other numeric columns\n",
    "price_corr = corr_matrix['Price']\n"
   ]
  },
  {
   "cell_type": "code",
   "execution_count": 186,
   "id": "af8da35c",
   "metadata": {
    "execution": {
     "iopub.execute_input": "2022-11-16T06:01:01.429335Z",
     "iopub.status.busy": "2022-11-16T06:01:01.428417Z",
     "iopub.status.idle": "2022-11-16T06:01:01.436464Z",
     "shell.execute_reply": "2022-11-16T06:01:01.435295Z"
    },
    "papermill": {
     "duration": 0.043997,
     "end_time": "2022-11-16T06:01:01.439109",
     "exception": false,
     "start_time": "2022-11-16T06:01:01.395112",
     "status": "completed"
    },
    "tags": []
   },
   "outputs": [],
   "source": [
    "df.drop(columns=['ScreenResolution'],inplace=True)"
   ]
  },
  {
   "cell_type": "code",
   "execution_count": 187,
   "id": "9afbf3db",
   "metadata": {
    "execution": {
     "iopub.execute_input": "2022-11-16T06:01:01.503755Z",
     "iopub.status.busy": "2022-11-16T06:01:01.503293Z",
     "iopub.status.idle": "2022-11-16T06:01:01.522981Z",
     "shell.execute_reply": "2022-11-16T06:01:01.521587Z"
    },
    "papermill": {
     "duration": 0.054978,
     "end_time": "2022-11-16T06:01:01.525470",
     "exception": false,
     "start_time": "2022-11-16T06:01:01.470492",
     "status": "completed"
    },
    "tags": []
   },
   "outputs": [
    {
     "data": {
      "text/html": [
       "<div>\n",
       "<style scoped>\n",
       "    .dataframe tbody tr th:only-of-type {\n",
       "        vertical-align: middle;\n",
       "    }\n",
       "\n",
       "    .dataframe tbody tr th {\n",
       "        vertical-align: top;\n",
       "    }\n",
       "\n",
       "    .dataframe thead th {\n",
       "        text-align: right;\n",
       "    }\n",
       "</style>\n",
       "<table border=\"1\" class=\"dataframe\">\n",
       "  <thead>\n",
       "    <tr style=\"text-align: right;\">\n",
       "      <th></th>\n",
       "      <th>Company</th>\n",
       "      <th>TypeName</th>\n",
       "      <th>Inches</th>\n",
       "      <th>Cpu</th>\n",
       "      <th>Ram</th>\n",
       "      <th>Memory</th>\n",
       "      <th>Gpu</th>\n",
       "      <th>OpSys</th>\n",
       "      <th>Weight</th>\n",
       "      <th>Price</th>\n",
       "      <th>Touchscreen</th>\n",
       "      <th>Ips</th>\n",
       "      <th>X_res</th>\n",
       "      <th>Y_res</th>\n",
       "      <th>ppi</th>\n",
       "    </tr>\n",
       "  </thead>\n",
       "  <tbody>\n",
       "    <tr>\n",
       "      <th>0</th>\n",
       "      <td>Apple</td>\n",
       "      <td>Ultrabook</td>\n",
       "      <td>13.3</td>\n",
       "      <td>Intel Core i5 2.3GHz</td>\n",
       "      <td>8</td>\n",
       "      <td>128GB SSD</td>\n",
       "      <td>Intel Iris Plus Graphics 640</td>\n",
       "      <td>macOS</td>\n",
       "      <td>1.37</td>\n",
       "      <td>71378.6832</td>\n",
       "      <td>0</td>\n",
       "      <td>1</td>\n",
       "      <td>2560</td>\n",
       "      <td>1600</td>\n",
       "      <td>3018.873962</td>\n",
       "    </tr>\n",
       "    <tr>\n",
       "      <th>1</th>\n",
       "      <td>Apple</td>\n",
       "      <td>Ultrabook</td>\n",
       "      <td>13.3</td>\n",
       "      <td>Intel Core i5 1.8GHz</td>\n",
       "      <td>8</td>\n",
       "      <td>128GB Flash Storage</td>\n",
       "      <td>Intel HD Graphics 6000</td>\n",
       "      <td>macOS</td>\n",
       "      <td>1.34</td>\n",
       "      <td>47895.5232</td>\n",
       "      <td>0</td>\n",
       "      <td>0</td>\n",
       "      <td>1440</td>\n",
       "      <td>900</td>\n",
       "      <td>1698.116604</td>\n",
       "    </tr>\n",
       "    <tr>\n",
       "      <th>2</th>\n",
       "      <td>HP</td>\n",
       "      <td>Notebook</td>\n",
       "      <td>15.6</td>\n",
       "      <td>Intel Core i5 7200U 2.5GHz</td>\n",
       "      <td>8</td>\n",
       "      <td>256GB SSD</td>\n",
       "      <td>Intel HD Graphics 620</td>\n",
       "      <td>No OS</td>\n",
       "      <td>1.86</td>\n",
       "      <td>30636.0000</td>\n",
       "      <td>0</td>\n",
       "      <td>0</td>\n",
       "      <td>1920</td>\n",
       "      <td>1080</td>\n",
       "      <td>2202.907170</td>\n",
       "    </tr>\n",
       "    <tr>\n",
       "      <th>3</th>\n",
       "      <td>Apple</td>\n",
       "      <td>Ultrabook</td>\n",
       "      <td>15.4</td>\n",
       "      <td>Intel Core i7 2.7GHz</td>\n",
       "      <td>16</td>\n",
       "      <td>512GB SSD</td>\n",
       "      <td>AMD Radeon Pro 455</td>\n",
       "      <td>macOS</td>\n",
       "      <td>1.83</td>\n",
       "      <td>135195.3360</td>\n",
       "      <td>0</td>\n",
       "      <td>1</td>\n",
       "      <td>2880</td>\n",
       "      <td>1800</td>\n",
       "      <td>3396.233208</td>\n",
       "    </tr>\n",
       "    <tr>\n",
       "      <th>4</th>\n",
       "      <td>Apple</td>\n",
       "      <td>Ultrabook</td>\n",
       "      <td>13.3</td>\n",
       "      <td>Intel Core i5 3.1GHz</td>\n",
       "      <td>8</td>\n",
       "      <td>256GB SSD</td>\n",
       "      <td>Intel Iris Plus Graphics 650</td>\n",
       "      <td>macOS</td>\n",
       "      <td>1.37</td>\n",
       "      <td>96095.8080</td>\n",
       "      <td>0</td>\n",
       "      <td>1</td>\n",
       "      <td>2560</td>\n",
       "      <td>1600</td>\n",
       "      <td>3018.873962</td>\n",
       "    </tr>\n",
       "  </tbody>\n",
       "</table>\n",
       "</div>"
      ],
      "text/plain": [
       "  Company   TypeName  Inches                         Cpu  Ram  \\\n",
       "0   Apple  Ultrabook    13.3        Intel Core i5 2.3GHz    8   \n",
       "1   Apple  Ultrabook    13.3        Intel Core i5 1.8GHz    8   \n",
       "2      HP   Notebook    15.6  Intel Core i5 7200U 2.5GHz    8   \n",
       "3   Apple  Ultrabook    15.4        Intel Core i7 2.7GHz   16   \n",
       "4   Apple  Ultrabook    13.3        Intel Core i5 3.1GHz    8   \n",
       "\n",
       "                Memory                           Gpu  OpSys  Weight  \\\n",
       "0            128GB SSD  Intel Iris Plus Graphics 640  macOS    1.37   \n",
       "1  128GB Flash Storage        Intel HD Graphics 6000  macOS    1.34   \n",
       "2            256GB SSD         Intel HD Graphics 620  No OS    1.86   \n",
       "3            512GB SSD            AMD Radeon Pro 455  macOS    1.83   \n",
       "4            256GB SSD  Intel Iris Plus Graphics 650  macOS    1.37   \n",
       "\n",
       "         Price  Touchscreen  Ips  X_res  Y_res          ppi  \n",
       "0   71378.6832            0    1   2560   1600  3018.873962  \n",
       "1   47895.5232            0    0   1440    900  1698.116604  \n",
       "2   30636.0000            0    0   1920   1080  2202.907170  \n",
       "3  135195.3360            0    1   2880   1800  3396.233208  \n",
       "4   96095.8080            0    1   2560   1600  3018.873962  "
      ]
     },
     "execution_count": 187,
     "metadata": {},
     "output_type": "execute_result"
    }
   ],
   "source": [
    "df.head()"
   ]
  },
  {
   "cell_type": "code",
   "execution_count": 188,
   "id": "7794c6a9",
   "metadata": {
    "execution": {
     "iopub.execute_input": "2022-11-16T06:01:01.591960Z",
     "iopub.status.busy": "2022-11-16T06:01:01.590866Z",
     "iopub.status.idle": "2022-11-16T06:01:01.596953Z",
     "shell.execute_reply": "2022-11-16T06:01:01.596079Z"
    },
    "papermill": {
     "duration": 0.041057,
     "end_time": "2022-11-16T06:01:01.599325",
     "exception": false,
     "start_time": "2022-11-16T06:01:01.558268",
     "status": "completed"
    },
    "tags": []
   },
   "outputs": [],
   "source": [
    "df.drop(columns=['Inches','X_res','Y_res'],inplace=True)"
   ]
  },
  {
   "cell_type": "code",
   "execution_count": 189,
   "id": "9972d52b",
   "metadata": {
    "execution": {
     "iopub.execute_input": "2022-11-16T06:01:01.664313Z",
     "iopub.status.busy": "2022-11-16T06:01:01.663638Z",
     "iopub.status.idle": "2022-11-16T06:01:01.681222Z",
     "shell.execute_reply": "2022-11-16T06:01:01.679910Z"
    },
    "papermill": {
     "duration": 0.052907,
     "end_time": "2022-11-16T06:01:01.683755",
     "exception": false,
     "start_time": "2022-11-16T06:01:01.630848",
     "status": "completed"
    },
    "tags": []
   },
   "outputs": [
    {
     "data": {
      "text/html": [
       "<div>\n",
       "<style scoped>\n",
       "    .dataframe tbody tr th:only-of-type {\n",
       "        vertical-align: middle;\n",
       "    }\n",
       "\n",
       "    .dataframe tbody tr th {\n",
       "        vertical-align: top;\n",
       "    }\n",
       "\n",
       "    .dataframe thead th {\n",
       "        text-align: right;\n",
       "    }\n",
       "</style>\n",
       "<table border=\"1\" class=\"dataframe\">\n",
       "  <thead>\n",
       "    <tr style=\"text-align: right;\">\n",
       "      <th></th>\n",
       "      <th>Company</th>\n",
       "      <th>TypeName</th>\n",
       "      <th>Cpu</th>\n",
       "      <th>Ram</th>\n",
       "      <th>Memory</th>\n",
       "      <th>Gpu</th>\n",
       "      <th>OpSys</th>\n",
       "      <th>Weight</th>\n",
       "      <th>Price</th>\n",
       "      <th>Touchscreen</th>\n",
       "      <th>Ips</th>\n",
       "      <th>ppi</th>\n",
       "    </tr>\n",
       "  </thead>\n",
       "  <tbody>\n",
       "    <tr>\n",
       "      <th>0</th>\n",
       "      <td>Apple</td>\n",
       "      <td>Ultrabook</td>\n",
       "      <td>Intel Core i5 2.3GHz</td>\n",
       "      <td>8</td>\n",
       "      <td>128GB SSD</td>\n",
       "      <td>Intel Iris Plus Graphics 640</td>\n",
       "      <td>macOS</td>\n",
       "      <td>1.37</td>\n",
       "      <td>71378.6832</td>\n",
       "      <td>0</td>\n",
       "      <td>1</td>\n",
       "      <td>3018.873962</td>\n",
       "    </tr>\n",
       "    <tr>\n",
       "      <th>1</th>\n",
       "      <td>Apple</td>\n",
       "      <td>Ultrabook</td>\n",
       "      <td>Intel Core i5 1.8GHz</td>\n",
       "      <td>8</td>\n",
       "      <td>128GB Flash Storage</td>\n",
       "      <td>Intel HD Graphics 6000</td>\n",
       "      <td>macOS</td>\n",
       "      <td>1.34</td>\n",
       "      <td>47895.5232</td>\n",
       "      <td>0</td>\n",
       "      <td>0</td>\n",
       "      <td>1698.116604</td>\n",
       "    </tr>\n",
       "    <tr>\n",
       "      <th>2</th>\n",
       "      <td>HP</td>\n",
       "      <td>Notebook</td>\n",
       "      <td>Intel Core i5 7200U 2.5GHz</td>\n",
       "      <td>8</td>\n",
       "      <td>256GB SSD</td>\n",
       "      <td>Intel HD Graphics 620</td>\n",
       "      <td>No OS</td>\n",
       "      <td>1.86</td>\n",
       "      <td>30636.0000</td>\n",
       "      <td>0</td>\n",
       "      <td>0</td>\n",
       "      <td>2202.907170</td>\n",
       "    </tr>\n",
       "    <tr>\n",
       "      <th>3</th>\n",
       "      <td>Apple</td>\n",
       "      <td>Ultrabook</td>\n",
       "      <td>Intel Core i7 2.7GHz</td>\n",
       "      <td>16</td>\n",
       "      <td>512GB SSD</td>\n",
       "      <td>AMD Radeon Pro 455</td>\n",
       "      <td>macOS</td>\n",
       "      <td>1.83</td>\n",
       "      <td>135195.3360</td>\n",
       "      <td>0</td>\n",
       "      <td>1</td>\n",
       "      <td>3396.233208</td>\n",
       "    </tr>\n",
       "    <tr>\n",
       "      <th>4</th>\n",
       "      <td>Apple</td>\n",
       "      <td>Ultrabook</td>\n",
       "      <td>Intel Core i5 3.1GHz</td>\n",
       "      <td>8</td>\n",
       "      <td>256GB SSD</td>\n",
       "      <td>Intel Iris Plus Graphics 650</td>\n",
       "      <td>macOS</td>\n",
       "      <td>1.37</td>\n",
       "      <td>96095.8080</td>\n",
       "      <td>0</td>\n",
       "      <td>1</td>\n",
       "      <td>3018.873962</td>\n",
       "    </tr>\n",
       "  </tbody>\n",
       "</table>\n",
       "</div>"
      ],
      "text/plain": [
       "  Company   TypeName                         Cpu  Ram               Memory  \\\n",
       "0   Apple  Ultrabook        Intel Core i5 2.3GHz    8            128GB SSD   \n",
       "1   Apple  Ultrabook        Intel Core i5 1.8GHz    8  128GB Flash Storage   \n",
       "2      HP   Notebook  Intel Core i5 7200U 2.5GHz    8            256GB SSD   \n",
       "3   Apple  Ultrabook        Intel Core i7 2.7GHz   16            512GB SSD   \n",
       "4   Apple  Ultrabook        Intel Core i5 3.1GHz    8            256GB SSD   \n",
       "\n",
       "                            Gpu  OpSys  Weight        Price  Touchscreen  Ips  \\\n",
       "0  Intel Iris Plus Graphics 640  macOS    1.37   71378.6832            0    1   \n",
       "1        Intel HD Graphics 6000  macOS    1.34   47895.5232            0    0   \n",
       "2         Intel HD Graphics 620  No OS    1.86   30636.0000            0    0   \n",
       "3            AMD Radeon Pro 455  macOS    1.83  135195.3360            0    1   \n",
       "4  Intel Iris Plus Graphics 650  macOS    1.37   96095.8080            0    1   \n",
       "\n",
       "           ppi  \n",
       "0  3018.873962  \n",
       "1  1698.116604  \n",
       "2  2202.907170  \n",
       "3  3396.233208  \n",
       "4  3018.873962  "
      ]
     },
     "execution_count": 189,
     "metadata": {},
     "output_type": "execute_result"
    }
   ],
   "source": [
    "df.head()"
   ]
  },
  {
   "cell_type": "code",
   "execution_count": 190,
   "id": "07080f1f",
   "metadata": {
    "execution": {
     "iopub.execute_input": "2022-11-16T06:01:01.751006Z",
     "iopub.status.busy": "2022-11-16T06:01:01.749892Z",
     "iopub.status.idle": "2022-11-16T06:01:01.760887Z",
     "shell.execute_reply": "2022-11-16T06:01:01.759725Z"
    },
    "papermill": {
     "duration": 0.046697,
     "end_time": "2022-11-16T06:01:01.763153",
     "exception": false,
     "start_time": "2022-11-16T06:01:01.716456",
     "status": "completed"
    },
    "tags": []
   },
   "outputs": [
    {
     "data": {
      "text/plain": [
       "Cpu\n",
       "Intel Core i5 7200U 2.5GHz     183\n",
       "Intel Core i7 7700HQ 2.8GHz    142\n",
       "Intel Core i7 7500U 2.7GHz     128\n",
       "Intel Core i7 8550U 1.8GHz      72\n",
       "Intel Core i5 8250U 1.6GHz      68\n",
       "                              ... \n",
       "AMD A9-Series 9420 2.9GHz        1\n",
       "Intel Core i7 2.2GHz             1\n",
       "AMD A6-Series 7310 2GHz          1\n",
       "Intel Atom Z8350 1.92GHz         1\n",
       "AMD E-Series 9000e 1.5GHz        1\n",
       "Name: count, Length: 118, dtype: int64"
      ]
     },
     "execution_count": 190,
     "metadata": {},
     "output_type": "execute_result"
    }
   ],
   "source": [
    "df['Cpu'].value_counts()"
   ]
  },
  {
   "cell_type": "code",
   "execution_count": 191,
   "id": "f471aeed",
   "metadata": {
    "execution": {
     "iopub.execute_input": "2022-11-16T06:01:01.830380Z",
     "iopub.status.busy": "2022-11-16T06:01:01.829546Z",
     "iopub.status.idle": "2022-11-16T06:01:01.837504Z",
     "shell.execute_reply": "2022-11-16T06:01:01.836536Z"
    },
    "papermill": {
     "duration": 0.044491,
     "end_time": "2022-11-16T06:01:01.840054",
     "exception": false,
     "start_time": "2022-11-16T06:01:01.795563",
     "status": "completed"
    },
    "tags": []
   },
   "outputs": [],
   "source": [
    "df['Cpu Name'] = df['Cpu'].apply(lambda x:\" \".join(x.split()[0:3]))"
   ]
  },
  {
   "cell_type": "code",
   "execution_count": 192,
   "id": "c482840b",
   "metadata": {
    "execution": {
     "iopub.execute_input": "2022-11-16T06:01:01.908169Z",
     "iopub.status.busy": "2022-11-16T06:01:01.907253Z",
     "iopub.status.idle": "2022-11-16T06:01:01.925409Z",
     "shell.execute_reply": "2022-11-16T06:01:01.924193Z"
    },
    "papermill": {
     "duration": 0.055545,
     "end_time": "2022-11-16T06:01:01.928131",
     "exception": false,
     "start_time": "2022-11-16T06:01:01.872586",
     "status": "completed"
    },
    "tags": []
   },
   "outputs": [
    {
     "data": {
      "text/html": [
       "<div>\n",
       "<style scoped>\n",
       "    .dataframe tbody tr th:only-of-type {\n",
       "        vertical-align: middle;\n",
       "    }\n",
       "\n",
       "    .dataframe tbody tr th {\n",
       "        vertical-align: top;\n",
       "    }\n",
       "\n",
       "    .dataframe thead th {\n",
       "        text-align: right;\n",
       "    }\n",
       "</style>\n",
       "<table border=\"1\" class=\"dataframe\">\n",
       "  <thead>\n",
       "    <tr style=\"text-align: right;\">\n",
       "      <th></th>\n",
       "      <th>Company</th>\n",
       "      <th>TypeName</th>\n",
       "      <th>Cpu</th>\n",
       "      <th>Ram</th>\n",
       "      <th>Memory</th>\n",
       "      <th>Gpu</th>\n",
       "      <th>OpSys</th>\n",
       "      <th>Weight</th>\n",
       "      <th>Price</th>\n",
       "      <th>Touchscreen</th>\n",
       "      <th>Ips</th>\n",
       "      <th>ppi</th>\n",
       "      <th>Cpu Name</th>\n",
       "    </tr>\n",
       "  </thead>\n",
       "  <tbody>\n",
       "    <tr>\n",
       "      <th>0</th>\n",
       "      <td>Apple</td>\n",
       "      <td>Ultrabook</td>\n",
       "      <td>Intel Core i5 2.3GHz</td>\n",
       "      <td>8</td>\n",
       "      <td>128GB SSD</td>\n",
       "      <td>Intel Iris Plus Graphics 640</td>\n",
       "      <td>macOS</td>\n",
       "      <td>1.37</td>\n",
       "      <td>71378.6832</td>\n",
       "      <td>0</td>\n",
       "      <td>1</td>\n",
       "      <td>3018.873962</td>\n",
       "      <td>Intel Core i5</td>\n",
       "    </tr>\n",
       "    <tr>\n",
       "      <th>1</th>\n",
       "      <td>Apple</td>\n",
       "      <td>Ultrabook</td>\n",
       "      <td>Intel Core i5 1.8GHz</td>\n",
       "      <td>8</td>\n",
       "      <td>128GB Flash Storage</td>\n",
       "      <td>Intel HD Graphics 6000</td>\n",
       "      <td>macOS</td>\n",
       "      <td>1.34</td>\n",
       "      <td>47895.5232</td>\n",
       "      <td>0</td>\n",
       "      <td>0</td>\n",
       "      <td>1698.116604</td>\n",
       "      <td>Intel Core i5</td>\n",
       "    </tr>\n",
       "    <tr>\n",
       "      <th>2</th>\n",
       "      <td>HP</td>\n",
       "      <td>Notebook</td>\n",
       "      <td>Intel Core i5 7200U 2.5GHz</td>\n",
       "      <td>8</td>\n",
       "      <td>256GB SSD</td>\n",
       "      <td>Intel HD Graphics 620</td>\n",
       "      <td>No OS</td>\n",
       "      <td>1.86</td>\n",
       "      <td>30636.0000</td>\n",
       "      <td>0</td>\n",
       "      <td>0</td>\n",
       "      <td>2202.907170</td>\n",
       "      <td>Intel Core i5</td>\n",
       "    </tr>\n",
       "    <tr>\n",
       "      <th>3</th>\n",
       "      <td>Apple</td>\n",
       "      <td>Ultrabook</td>\n",
       "      <td>Intel Core i7 2.7GHz</td>\n",
       "      <td>16</td>\n",
       "      <td>512GB SSD</td>\n",
       "      <td>AMD Radeon Pro 455</td>\n",
       "      <td>macOS</td>\n",
       "      <td>1.83</td>\n",
       "      <td>135195.3360</td>\n",
       "      <td>0</td>\n",
       "      <td>1</td>\n",
       "      <td>3396.233208</td>\n",
       "      <td>Intel Core i7</td>\n",
       "    </tr>\n",
       "    <tr>\n",
       "      <th>4</th>\n",
       "      <td>Apple</td>\n",
       "      <td>Ultrabook</td>\n",
       "      <td>Intel Core i5 3.1GHz</td>\n",
       "      <td>8</td>\n",
       "      <td>256GB SSD</td>\n",
       "      <td>Intel Iris Plus Graphics 650</td>\n",
       "      <td>macOS</td>\n",
       "      <td>1.37</td>\n",
       "      <td>96095.8080</td>\n",
       "      <td>0</td>\n",
       "      <td>1</td>\n",
       "      <td>3018.873962</td>\n",
       "      <td>Intel Core i5</td>\n",
       "    </tr>\n",
       "  </tbody>\n",
       "</table>\n",
       "</div>"
      ],
      "text/plain": [
       "  Company   TypeName                         Cpu  Ram               Memory  \\\n",
       "0   Apple  Ultrabook        Intel Core i5 2.3GHz    8            128GB SSD   \n",
       "1   Apple  Ultrabook        Intel Core i5 1.8GHz    8  128GB Flash Storage   \n",
       "2      HP   Notebook  Intel Core i5 7200U 2.5GHz    8            256GB SSD   \n",
       "3   Apple  Ultrabook        Intel Core i7 2.7GHz   16            512GB SSD   \n",
       "4   Apple  Ultrabook        Intel Core i5 3.1GHz    8            256GB SSD   \n",
       "\n",
       "                            Gpu  OpSys  Weight        Price  Touchscreen  Ips  \\\n",
       "0  Intel Iris Plus Graphics 640  macOS    1.37   71378.6832            0    1   \n",
       "1        Intel HD Graphics 6000  macOS    1.34   47895.5232            0    0   \n",
       "2         Intel HD Graphics 620  No OS    1.86   30636.0000            0    0   \n",
       "3            AMD Radeon Pro 455  macOS    1.83  135195.3360            0    1   \n",
       "4  Intel Iris Plus Graphics 650  macOS    1.37   96095.8080            0    1   \n",
       "\n",
       "           ppi       Cpu Name  \n",
       "0  3018.873962  Intel Core i5  \n",
       "1  1698.116604  Intel Core i5  \n",
       "2  2202.907170  Intel Core i5  \n",
       "3  3396.233208  Intel Core i7  \n",
       "4  3018.873962  Intel Core i5  "
      ]
     },
     "execution_count": 192,
     "metadata": {},
     "output_type": "execute_result"
    }
   ],
   "source": [
    "df.head()"
   ]
  },
  {
   "cell_type": "code",
   "execution_count": 193,
   "id": "0064ea0c",
   "metadata": {
    "execution": {
     "iopub.execute_input": "2022-11-16T06:01:01.995226Z",
     "iopub.status.busy": "2022-11-16T06:01:01.994546Z",
     "iopub.status.idle": "2022-11-16T06:01:02.000438Z",
     "shell.execute_reply": "2022-11-16T06:01:01.999579Z"
    },
    "papermill": {
     "duration": 0.042067,
     "end_time": "2022-11-16T06:01:02.002763",
     "exception": false,
     "start_time": "2022-11-16T06:01:01.960696",
     "status": "completed"
    },
    "tags": []
   },
   "outputs": [],
   "source": [
    "def fetch_processor(text):\n",
    "    if text == 'Intel Core i7' or text == 'Intel Core i5' or text == 'Intel Core i3':\n",
    "        return text\n",
    "    else:\n",
    "        if text.split()[0] == 'Intel':\n",
    "            return 'Other Intel Processor'\n",
    "        else:\n",
    "            return 'AMD Processor'"
   ]
  },
  {
   "cell_type": "code",
   "execution_count": 194,
   "id": "d7ce3771",
   "metadata": {
    "execution": {
     "iopub.execute_input": "2022-11-16T06:01:02.070800Z",
     "iopub.status.busy": "2022-11-16T06:01:02.070109Z",
     "iopub.status.idle": "2022-11-16T06:01:02.075933Z",
     "shell.execute_reply": "2022-11-16T06:01:02.075119Z"
    },
    "papermill": {
     "duration": 0.042278,
     "end_time": "2022-11-16T06:01:02.078397",
     "exception": false,
     "start_time": "2022-11-16T06:01:02.036119",
     "status": "completed"
    },
    "tags": []
   },
   "outputs": [],
   "source": [
    "df['Cpu brand'] = df['Cpu Name'].apply(fetch_processor)"
   ]
  },
  {
   "cell_type": "code",
   "execution_count": 195,
   "id": "0636bb34",
   "metadata": {
    "execution": {
     "iopub.execute_input": "2022-11-16T06:01:02.145207Z",
     "iopub.status.busy": "2022-11-16T06:01:02.144508Z",
     "iopub.status.idle": "2022-11-16T06:01:02.162964Z",
     "shell.execute_reply": "2022-11-16T06:01:02.161982Z"
    },
    "papermill": {
     "duration": 0.05494,
     "end_time": "2022-11-16T06:01:02.165489",
     "exception": false,
     "start_time": "2022-11-16T06:01:02.110549",
     "status": "completed"
    },
    "tags": []
   },
   "outputs": [
    {
     "data": {
      "text/html": [
       "<div>\n",
       "<style scoped>\n",
       "    .dataframe tbody tr th:only-of-type {\n",
       "        vertical-align: middle;\n",
       "    }\n",
       "\n",
       "    .dataframe tbody tr th {\n",
       "        vertical-align: top;\n",
       "    }\n",
       "\n",
       "    .dataframe thead th {\n",
       "        text-align: right;\n",
       "    }\n",
       "</style>\n",
       "<table border=\"1\" class=\"dataframe\">\n",
       "  <thead>\n",
       "    <tr style=\"text-align: right;\">\n",
       "      <th></th>\n",
       "      <th>Company</th>\n",
       "      <th>TypeName</th>\n",
       "      <th>Cpu</th>\n",
       "      <th>Ram</th>\n",
       "      <th>Memory</th>\n",
       "      <th>Gpu</th>\n",
       "      <th>OpSys</th>\n",
       "      <th>Weight</th>\n",
       "      <th>Price</th>\n",
       "      <th>Touchscreen</th>\n",
       "      <th>Ips</th>\n",
       "      <th>ppi</th>\n",
       "      <th>Cpu Name</th>\n",
       "      <th>Cpu brand</th>\n",
       "    </tr>\n",
       "  </thead>\n",
       "  <tbody>\n",
       "    <tr>\n",
       "      <th>0</th>\n",
       "      <td>Apple</td>\n",
       "      <td>Ultrabook</td>\n",
       "      <td>Intel Core i5 2.3GHz</td>\n",
       "      <td>8</td>\n",
       "      <td>128GB SSD</td>\n",
       "      <td>Intel Iris Plus Graphics 640</td>\n",
       "      <td>macOS</td>\n",
       "      <td>1.37</td>\n",
       "      <td>71378.6832</td>\n",
       "      <td>0</td>\n",
       "      <td>1</td>\n",
       "      <td>3018.873962</td>\n",
       "      <td>Intel Core i5</td>\n",
       "      <td>Intel Core i5</td>\n",
       "    </tr>\n",
       "    <tr>\n",
       "      <th>1</th>\n",
       "      <td>Apple</td>\n",
       "      <td>Ultrabook</td>\n",
       "      <td>Intel Core i5 1.8GHz</td>\n",
       "      <td>8</td>\n",
       "      <td>128GB Flash Storage</td>\n",
       "      <td>Intel HD Graphics 6000</td>\n",
       "      <td>macOS</td>\n",
       "      <td>1.34</td>\n",
       "      <td>47895.5232</td>\n",
       "      <td>0</td>\n",
       "      <td>0</td>\n",
       "      <td>1698.116604</td>\n",
       "      <td>Intel Core i5</td>\n",
       "      <td>Intel Core i5</td>\n",
       "    </tr>\n",
       "    <tr>\n",
       "      <th>2</th>\n",
       "      <td>HP</td>\n",
       "      <td>Notebook</td>\n",
       "      <td>Intel Core i5 7200U 2.5GHz</td>\n",
       "      <td>8</td>\n",
       "      <td>256GB SSD</td>\n",
       "      <td>Intel HD Graphics 620</td>\n",
       "      <td>No OS</td>\n",
       "      <td>1.86</td>\n",
       "      <td>30636.0000</td>\n",
       "      <td>0</td>\n",
       "      <td>0</td>\n",
       "      <td>2202.907170</td>\n",
       "      <td>Intel Core i5</td>\n",
       "      <td>Intel Core i5</td>\n",
       "    </tr>\n",
       "    <tr>\n",
       "      <th>3</th>\n",
       "      <td>Apple</td>\n",
       "      <td>Ultrabook</td>\n",
       "      <td>Intel Core i7 2.7GHz</td>\n",
       "      <td>16</td>\n",
       "      <td>512GB SSD</td>\n",
       "      <td>AMD Radeon Pro 455</td>\n",
       "      <td>macOS</td>\n",
       "      <td>1.83</td>\n",
       "      <td>135195.3360</td>\n",
       "      <td>0</td>\n",
       "      <td>1</td>\n",
       "      <td>3396.233208</td>\n",
       "      <td>Intel Core i7</td>\n",
       "      <td>Intel Core i7</td>\n",
       "    </tr>\n",
       "    <tr>\n",
       "      <th>4</th>\n",
       "      <td>Apple</td>\n",
       "      <td>Ultrabook</td>\n",
       "      <td>Intel Core i5 3.1GHz</td>\n",
       "      <td>8</td>\n",
       "      <td>256GB SSD</td>\n",
       "      <td>Intel Iris Plus Graphics 650</td>\n",
       "      <td>macOS</td>\n",
       "      <td>1.37</td>\n",
       "      <td>96095.8080</td>\n",
       "      <td>0</td>\n",
       "      <td>1</td>\n",
       "      <td>3018.873962</td>\n",
       "      <td>Intel Core i5</td>\n",
       "      <td>Intel Core i5</td>\n",
       "    </tr>\n",
       "  </tbody>\n",
       "</table>\n",
       "</div>"
      ],
      "text/plain": [
       "  Company   TypeName                         Cpu  Ram               Memory  \\\n",
       "0   Apple  Ultrabook        Intel Core i5 2.3GHz    8            128GB SSD   \n",
       "1   Apple  Ultrabook        Intel Core i5 1.8GHz    8  128GB Flash Storage   \n",
       "2      HP   Notebook  Intel Core i5 7200U 2.5GHz    8            256GB SSD   \n",
       "3   Apple  Ultrabook        Intel Core i7 2.7GHz   16            512GB SSD   \n",
       "4   Apple  Ultrabook        Intel Core i5 3.1GHz    8            256GB SSD   \n",
       "\n",
       "                            Gpu  OpSys  Weight        Price  Touchscreen  Ips  \\\n",
       "0  Intel Iris Plus Graphics 640  macOS    1.37   71378.6832            0    1   \n",
       "1        Intel HD Graphics 6000  macOS    1.34   47895.5232            0    0   \n",
       "2         Intel HD Graphics 620  No OS    1.86   30636.0000            0    0   \n",
       "3            AMD Radeon Pro 455  macOS    1.83  135195.3360            0    1   \n",
       "4  Intel Iris Plus Graphics 650  macOS    1.37   96095.8080            0    1   \n",
       "\n",
       "           ppi       Cpu Name      Cpu brand  \n",
       "0  3018.873962  Intel Core i5  Intel Core i5  \n",
       "1  1698.116604  Intel Core i5  Intel Core i5  \n",
       "2  2202.907170  Intel Core i5  Intel Core i5  \n",
       "3  3396.233208  Intel Core i7  Intel Core i7  \n",
       "4  3018.873962  Intel Core i5  Intel Core i5  "
      ]
     },
     "execution_count": 195,
     "metadata": {},
     "output_type": "execute_result"
    }
   ],
   "source": [
    "df.head()"
   ]
  },
  {
   "cell_type": "code",
   "execution_count": 196,
   "id": "73423e54",
   "metadata": {
    "execution": {
     "iopub.execute_input": "2022-11-16T06:01:02.233709Z",
     "iopub.status.busy": "2022-11-16T06:01:02.232957Z",
     "iopub.status.idle": "2022-11-16T06:01:02.425734Z",
     "shell.execute_reply": "2022-11-16T06:01:02.424737Z"
    },
    "papermill": {
     "duration": 0.229465,
     "end_time": "2022-11-16T06:01:02.428158",
     "exception": false,
     "start_time": "2022-11-16T06:01:02.198693",
     "status": "completed"
    },
    "tags": []
   },
   "outputs": [
    {
     "data": {
      "text/plain": [
       "<Axes: xlabel='Cpu brand'>"
      ]
     },
     "execution_count": 196,
     "metadata": {},
     "output_type": "execute_result"
    },
    {
     "data": {
      "image/png": "[encoded data removed]",
      "text/plain": [
       "<Figure size 640x480 with 1 Axes>"
      ]
     },
     "metadata": {},
     "output_type": "display_data"
    }
   ],
   "source": [
    "df['Cpu brand'].value_counts().plot(kind='bar')"
   ]
  },
  {
   "cell_type": "code",
   "execution_count": 197,
   "id": "48102b15",
   "metadata": {
    "execution": {
     "iopub.execute_input": "2022-11-16T06:01:02.496960Z",
     "iopub.status.busy": "2022-11-16T06:01:02.496247Z",
     "iopub.status.idle": "2022-11-16T06:01:02.807626Z",
     "shell.execute_reply": "2022-11-16T06:01:02.806794Z"
    },
    "papermill": {
     "duration": 0.348493,
     "end_time": "2022-11-16T06:01:02.809881",
     "exception": false,
     "start_time": "2022-11-16T06:01:02.461388",
     "status": "completed"
    },
    "tags": []
   },
   "outputs": [
    {
     "data": {
      "image/png": "[encoded data removed]",
      "text/plain": [
       "<Figure size 640x480 with 1 Axes>"
      ]
     },
     "metadata": {},
     "output_type": "display_data"
    }
   ],
   "source": [
    "sns.barplot(x=df['Cpu brand'],y=df['Price'])\n",
    "plt.xticks(rotation='vertical')\n",
    "plt.show()"
   ]
  },
  {
   "cell_type": "code",
   "execution_count": 198,
   "id": "17279e18",
   "metadata": {
    "execution": {
     "iopub.execute_input": "2022-11-16T06:01:02.879637Z",
     "iopub.status.busy": "2022-11-16T06:01:02.878858Z",
     "iopub.status.idle": "2022-11-16T06:01:02.885640Z",
     "shell.execute_reply": "2022-11-16T06:01:02.884727Z"
    },
    "papermill": {
     "duration": 0.044176,
     "end_time": "2022-11-16T06:01:02.888033",
     "exception": false,
     "start_time": "2022-11-16T06:01:02.843857",
     "status": "completed"
    },
    "tags": []
   },
   "outputs": [],
   "source": [
    "df.drop(columns=['Cpu','Cpu Name'],inplace=True)"
   ]
  },
  {
   "cell_type": "code",
   "execution_count": 199,
   "id": "6d5a86e8",
   "metadata": {
    "execution": {
     "iopub.execute_input": "2022-11-16T06:01:02.956563Z",
     "iopub.status.busy": "2022-11-16T06:01:02.955925Z",
     "iopub.status.idle": "2022-11-16T06:01:02.972168Z",
     "shell.execute_reply": "2022-11-16T06:01:02.971286Z"
    },
    "papermill": {
     "duration": 0.052833,
     "end_time": "2022-11-16T06:01:02.974310",
     "exception": false,
     "start_time": "2022-11-16T06:01:02.921477",
     "status": "completed"
    },
    "tags": []
   },
   "outputs": [
    {
     "data": {
      "text/html": [
       "<div>\n",
       "<style scoped>\n",
       "    .dataframe tbody tr th:only-of-type {\n",
       "        vertical-align: middle;\n",
       "    }\n",
       "\n",
       "    .dataframe tbody tr th {\n",
       "        vertical-align: top;\n",
       "    }\n",
       "\n",
       "    .dataframe thead th {\n",
       "        text-align: right;\n",
       "    }\n",
       "</style>\n",
       "<table border=\"1\" class=\"dataframe\">\n",
       "  <thead>\n",
       "    <tr style=\"text-align: right;\">\n",
       "      <th></th>\n",
       "      <th>Company</th>\n",
       "      <th>TypeName</th>\n",
       "      <th>Ram</th>\n",
       "      <th>Memory</th>\n",
       "      <th>Gpu</th>\n",
       "      <th>OpSys</th>\n",
       "      <th>Weight</th>\n",
       "      <th>Price</th>\n",
       "      <th>Touchscreen</th>\n",
       "      <th>Ips</th>\n",
       "      <th>ppi</th>\n",
       "      <th>Cpu brand</th>\n",
       "    </tr>\n",
       "  </thead>\n",
       "  <tbody>\n",
       "    <tr>\n",
       "      <th>0</th>\n",
       "      <td>Apple</td>\n",
       "      <td>Ultrabook</td>\n",
       "      <td>8</td>\n",
       "      <td>128GB SSD</td>\n",
       "      <td>Intel Iris Plus Graphics 640</td>\n",
       "      <td>macOS</td>\n",
       "      <td>1.37</td>\n",
       "      <td>71378.6832</td>\n",
       "      <td>0</td>\n",
       "      <td>1</td>\n",
       "      <td>3018.873962</td>\n",
       "      <td>Intel Core i5</td>\n",
       "    </tr>\n",
       "    <tr>\n",
       "      <th>1</th>\n",
       "      <td>Apple</td>\n",
       "      <td>Ultrabook</td>\n",
       "      <td>8</td>\n",
       "      <td>128GB Flash Storage</td>\n",
       "      <td>Intel HD Graphics 6000</td>\n",
       "      <td>macOS</td>\n",
       "      <td>1.34</td>\n",
       "      <td>47895.5232</td>\n",
       "      <td>0</td>\n",
       "      <td>0</td>\n",
       "      <td>1698.116604</td>\n",
       "      <td>Intel Core i5</td>\n",
       "    </tr>\n",
       "    <tr>\n",
       "      <th>2</th>\n",
       "      <td>HP</td>\n",
       "      <td>Notebook</td>\n",
       "      <td>8</td>\n",
       "      <td>256GB SSD</td>\n",
       "      <td>Intel HD Graphics 620</td>\n",
       "      <td>No OS</td>\n",
       "      <td>1.86</td>\n",
       "      <td>30636.0000</td>\n",
       "      <td>0</td>\n",
       "      <td>0</td>\n",
       "      <td>2202.907170</td>\n",
       "      <td>Intel Core i5</td>\n",
       "    </tr>\n",
       "    <tr>\n",
       "      <th>3</th>\n",
       "      <td>Apple</td>\n",
       "      <td>Ultrabook</td>\n",
       "      <td>16</td>\n",
       "      <td>512GB SSD</td>\n",
       "      <td>AMD Radeon Pro 455</td>\n",
       "      <td>macOS</td>\n",
       "      <td>1.83</td>\n",
       "      <td>135195.3360</td>\n",
       "      <td>0</td>\n",
       "      <td>1</td>\n",
       "      <td>3396.233208</td>\n",
       "      <td>Intel Core i7</td>\n",
       "    </tr>\n",
       "    <tr>\n",
       "      <th>4</th>\n",
       "      <td>Apple</td>\n",
       "      <td>Ultrabook</td>\n",
       "      <td>8</td>\n",
       "      <td>256GB SSD</td>\n",
       "      <td>Intel Iris Plus Graphics 650</td>\n",
       "      <td>macOS</td>\n",
       "      <td>1.37</td>\n",
       "      <td>96095.8080</td>\n",
       "      <td>0</td>\n",
       "      <td>1</td>\n",
       "      <td>3018.873962</td>\n",
       "      <td>Intel Core i5</td>\n",
       "    </tr>\n",
       "  </tbody>\n",
       "</table>\n",
       "</div>"
      ],
      "text/plain": [
       "  Company   TypeName  Ram               Memory                           Gpu  \\\n",
       "0   Apple  Ultrabook    8            128GB SSD  Intel Iris Plus Graphics 640   \n",
       "1   Apple  Ultrabook    8  128GB Flash Storage        Intel HD Graphics 6000   \n",
       "2      HP   Notebook    8            256GB SSD         Intel HD Graphics 620   \n",
       "3   Apple  Ultrabook   16            512GB SSD            AMD Radeon Pro 455   \n",
       "4   Apple  Ultrabook    8            256GB SSD  Intel Iris Plus Graphics 650   \n",
       "\n",
       "   OpSys  Weight        Price  Touchscreen  Ips          ppi      Cpu brand  \n",
       "0  macOS    1.37   71378.6832            0    1  3018.873962  Intel Core i5  \n",
       "1  macOS    1.34   47895.5232            0    0  1698.116604  Intel Core i5  \n",
       "2  No OS    1.86   30636.0000            0    0  2202.907170  Intel Core i5  \n",
       "3  macOS    1.83  135195.3360            0    1  3396.233208  Intel Core i7  \n",
       "4  macOS    1.37   96095.8080            0    1  3018.873962  Intel Core i5  "
      ]
     },
     "execution_count": 199,
     "metadata": {},
     "output_type": "execute_result"
    }
   ],
   "source": [
    "df.head()"
   ]
  },
  {
   "cell_type": "code",
   "execution_count": 200,
   "id": "e8a9535a",
   "metadata": {
    "execution": {
     "iopub.execute_input": "2022-11-16T06:01:03.043797Z",
     "iopub.status.busy": "2022-11-16T06:01:03.043351Z",
     "iopub.status.idle": "2022-11-16T06:01:03.255840Z",
     "shell.execute_reply": "2022-11-16T06:01:03.254600Z"
    },
    "papermill": {
     "duration": 0.250141,
     "end_time": "2022-11-16T06:01:03.258421",
     "exception": false,
     "start_time": "2022-11-16T06:01:03.008280",
     "status": "completed"
    },
    "tags": []
   },
   "outputs": [
    {
     "data": {
      "text/plain": [
       "<Axes: xlabel='Ram'>"
      ]
     },
     "execution_count": 200,
     "metadata": {},
     "output_type": "execute_result"
    },
    {
     "data": {
      "image/png": "[encoded data removed]",
      "text/plain": [
       "<Figure size 640x480 with 1 Axes>"
      ]
     },
     "metadata": {},
     "output_type": "display_data"
    }
   ],
   "source": [
    "df['Ram'].value_counts().plot(kind='bar')"
   ]
  },
  {
   "cell_type": "code",
   "execution_count": 201,
   "id": "3c05c7e3",
   "metadata": {
    "execution": {
     "iopub.execute_input": "2022-11-16T06:01:03.328538Z",
     "iopub.status.busy": "2022-11-16T06:01:03.327647Z",
     "iopub.status.idle": "2022-11-16T06:01:03.870783Z",
     "shell.execute_reply": "2022-11-16T06:01:03.869536Z"
    },
    "papermill": {
     "duration": 0.580244,
     "end_time": "2022-11-16T06:01:03.873238",
     "exception": false,
     "start_time": "2022-11-16T06:01:03.292994",
     "status": "completed"
    },
    "tags": []
   },
   "outputs": [
    {
     "data": {
      "image/png": "[encoded data removed]",
      "text/plain": [
       "<Figure size 640x480 with 1 Axes>"
      ]
     },
     "metadata": {},
     "output_type": "display_data"
    }
   ],
   "source": [
    "sns.barplot(x=df['Ram'],y=df['Price'])\n",
    "plt.xticks(rotation='vertical')\n",
    "plt.show()"
   ]
  },
  {
   "cell_type": "code",
   "execution_count": 202,
   "id": "496f20f4",
   "metadata": {
    "execution": {
     "iopub.execute_input": "2022-11-16T06:01:03.943362Z",
     "iopub.status.busy": "2022-11-16T06:01:03.942619Z",
     "iopub.status.idle": "2022-11-16T06:01:03.951937Z",
     "shell.execute_reply": "2022-11-16T06:01:03.950842Z"
    },
    "papermill": {
     "duration": 0.046391,
     "end_time": "2022-11-16T06:01:03.954204",
     "exception": false,
     "start_time": "2022-11-16T06:01:03.907813",
     "status": "completed"
    },
    "tags": []
   },
   "outputs": [
    {
     "data": {
      "text/plain": [
       "Memory\n",
       "256GB SSD                        401\n",
       "1TB HDD                          217\n",
       "500GB HDD                        130\n",
       "512GB SSD                        116\n",
       "128GB SSD +  1TB HDD              92\n",
       "128GB SSD                         74\n",
       "256GB SSD +  1TB HDD              71\n",
       "32GB Flash Storage                37\n",
       "2TB HDD                           16\n",
       "64GB Flash Storage                14\n",
       "512GB SSD +  1TB HDD              14\n",
       "1TB SSD                           13\n",
       "256GB SSD +  2TB HDD              10\n",
       "1.0TB Hybrid                       9\n",
       "256GB Flash Storage                8\n",
       "16GB Flash Storage                 7\n",
       "32GB SSD                           6\n",
       "180GB SSD                          4\n",
       "128GB Flash Storage                4\n",
       "512GB SSD +  2TB HDD               3\n",
       "16GB SSD                           3\n",
       "512GB Flash Storage                2\n",
       "1TB SSD +  1TB HDD                 2\n",
       "128GB SSD +  2TB HDD               2\n",
       "256GB SSD +  500GB HDD             2\n",
       "256GB SSD +  256GB SSD             2\n",
       "512GB SSD +  256GB SSD             1\n",
       "512GB SSD +  512GB SSD             1\n",
       "64GB Flash Storage +  1TB HDD      1\n",
       "1TB HDD +  1TB HDD                 1\n",
       "32GB HDD                           1\n",
       "64GB SSD                           1\n",
       "?                                  1\n",
       "128GB HDD                          1\n",
       "240GB SSD                          1\n",
       "8GB SSD                            1\n",
       "508GB Hybrid                       1\n",
       "1.0TB HDD                          1\n",
       "512GB SSD +  1.0TB Hybrid          1\n",
       "256GB SSD +  1.0TB Hybrid          1\n",
       "Name: count, dtype: int64"
      ]
     },
     "execution_count": 202,
     "metadata": {},
     "output_type": "execute_result"
    }
   ],
   "source": [
    "df['Memory'].value_counts()"
   ]
  },
  {
   "cell_type": "code",
   "execution_count": 203,
   "id": "edd2b924",
   "metadata": {},
   "outputs": [],
   "source": [
    "# Convert 'Memory' column to string type and remove decimal points\n",
    "df['Memory'] = df['Memory'].astype(str).replace('\\.0', '', regex=True)\n",
    "\n",
    "# Remove 'GB' and replace 'TB' with '000' in 'Memory' column\n",
    "df[\"Memory\"] = df[\"Memory\"].str.replace('GB', '')\n",
    "df[\"Memory\"] = df[\"Memory\"].str.replace('TB', '000')\n",
    "\n",
    "# Split 'Memory' column into two columns: 'first' and 'second'\n",
    "new = df[\"Memory\"].str.split(\"+\", n=1, expand=True)\n",
    "df[\"first\"] = new[0].str.strip()\n",
    "df[\"second\"] = new[1]\n",
    "\n",
    "# Extract information about storage types (HDD, SSD, Hybrid, Flash Storage)\n",
    "df[\"Layer1HDD\"] = df[\"first\"].apply(lambda x: 1 if \"HDD\" in x else 0)\n",
    "df[\"Layer1SSD\"] = df[\"first\"].apply(lambda x: 1 if \"SSD\" in x else 0)\n",
    "df[\"Layer1Hybrid\"] = df[\"first\"].apply(lambda x: 1 if \"Hybrid\" in x else 0)\n",
    "df[\"Layer1Flash_Storage\"] = df[\"first\"].apply(lambda x: 1 if \"Flash Storage\" in x else 0)\n",
    "\n",
    "# Remove non-numeric characters from 'first' column\n",
    "df['first'] = df['first'].str.replace(r'\\D', '')\n",
    "\n",
    "# Fill missing values in 'second' column with '0'\n",
    "df[\"second\"].fillna(\"0\", inplace=True)\n",
    "\n",
    "# Extract information about storage types (HDD, SSD, Hybrid, Flash Storage) from 'second' column\n",
    "df[\"Layer2HDD\"] = df[\"second\"].apply(lambda x: 1 if \"HDD\" in x else 0)\n",
    "df[\"Layer2SSD\"] = df[\"second\"].apply(lambda x: 1 if \"SSD\" in x else 0)\n",
    "df[\"Layer2Hybrid\"] = df[\"second\"].apply(lambda x: 1 if \"Hybrid\" in x else 0)\n",
    "df[\"Layer2Flash_Storage\"] = df[\"second\"].apply(lambda x: 1 if \"Flash Storage\" in x else 0)\n",
    "\n",
    "# Remove non-numeric characters from 'second' column\n",
    "df['second'] = df['second'].str.replace(r'\\D', '')\n",
    "\n",
    "# Convert 'first' and 'second' columns to integer type\n",
    "df[\"first\"] = pd.to_numeric(df[\"first\"], errors='coerce').fillna(0).astype(int)\n",
    "df[\"second\"] = pd.to_numeric(df[\"second\"], errors='coerce').fillna(0).astype(int)\n",
    "\n",
    "# Calculate storage capacity for each type (HDD, SSD, Hybrid, Flash Storage)\n",
    "df[\"HDD\"] = (df[\"first\"] * df[\"Layer1HDD\"] + df[\"second\"] * df[\"Layer2HDD\"])\n",
    "df[\"SSD\"] = (df[\"first\"] * df[\"Layer1SSD\"] + df[\"second\"] * df[\"Layer2SSD\"])\n",
    "df[\"Hybrid\"] = (df[\"first\"] * df[\"Layer1Hybrid\"] + df[\"second\"] * df[\"Layer2Hybrid\"])\n",
    "df[\"Flash_Storage\"] = (df[\"first\"] * df[\"Layer1Flash_Storage\"] + df[\"second\"] * df[\"Layer2Flash_Storage\"])\n",
    "\n",
    "# Drop unnecessary columns\n",
    "df.drop(columns=['first', 'second', 'Layer1HDD', 'Layer1SSD', 'Layer1Hybrid',\n",
    "                 'Layer1Flash_Storage', 'Layer2HDD', 'Layer2SSD', 'Layer2Hybrid',\n",
    "                 'Layer2Flash_Storage'], inplace=True)\n"
   ]
  },
  {
   "cell_type": "code",
   "execution_count": 204,
   "id": "badbf941",
   "metadata": {
    "execution": {
     "iopub.execute_input": "2022-11-16T06:01:04.143584Z",
     "iopub.status.busy": "2022-11-16T06:01:04.143199Z",
     "iopub.status.idle": "2022-11-16T06:01:04.163314Z",
     "shell.execute_reply": "2022-11-16T06:01:04.162052Z"
    },
    "papermill": {
     "duration": 0.057372,
     "end_time": "2022-11-16T06:01:04.165728",
     "exception": false,
     "start_time": "2022-11-16T06:01:04.108356",
     "status": "completed"
    },
    "tags": []
   },
   "outputs": [
    {
     "data": {
      "text/html": [
       "<div>\n",
       "<style scoped>\n",
       "    .dataframe tbody tr th:only-of-type {\n",
       "        vertical-align: middle;\n",
       "    }\n",
       "\n",
       "    .dataframe tbody tr th {\n",
       "        vertical-align: top;\n",
       "    }\n",
       "\n",
       "    .dataframe thead th {\n",
       "        text-align: right;\n",
       "    }\n",
       "</style>\n",
       "<table border=\"1\" class=\"dataframe\">\n",
       "  <thead>\n",
       "    <tr style=\"text-align: right;\">\n",
       "      <th></th>\n",
       "      <th>Company</th>\n",
       "      <th>TypeName</th>\n",
       "      <th>Ram</th>\n",
       "      <th>Memory</th>\n",
       "      <th>Gpu</th>\n",
       "      <th>OpSys</th>\n",
       "      <th>Weight</th>\n",
       "      <th>Price</th>\n",
       "      <th>Touchscreen</th>\n",
       "      <th>Ips</th>\n",
       "      <th>ppi</th>\n",
       "      <th>Cpu brand</th>\n",
       "      <th>HDD</th>\n",
       "      <th>SSD</th>\n",
       "      <th>Hybrid</th>\n",
       "      <th>Flash_Storage</th>\n",
       "    </tr>\n",
       "  </thead>\n",
       "  <tbody>\n",
       "    <tr>\n",
       "      <th>802</th>\n",
       "      <td>Dell</td>\n",
       "      <td>Ultrabook</td>\n",
       "      <td>8</td>\n",
       "      <td>256 SSD</td>\n",
       "      <td>Intel HD Graphics 620</td>\n",
       "      <td>Windows 10</td>\n",
       "      <td>1.29</td>\n",
       "      <td>79866.72</td>\n",
       "      <td>0</td>\n",
       "      <td>0</td>\n",
       "      <td>2202.90717</td>\n",
       "      <td>Intel Core i5</td>\n",
       "      <td>0</td>\n",
       "      <td>0</td>\n",
       "      <td>0</td>\n",
       "      <td>0</td>\n",
       "    </tr>\n",
       "    <tr>\n",
       "      <th>719</th>\n",
       "      <td>HP</td>\n",
       "      <td>Notebook</td>\n",
       "      <td>8</td>\n",
       "      <td>256 SSD</td>\n",
       "      <td>Nvidia GeForce 930MX</td>\n",
       "      <td>Windows 10</td>\n",
       "      <td>2.63</td>\n",
       "      <td>63936.00</td>\n",
       "      <td>0</td>\n",
       "      <td>0</td>\n",
       "      <td>2202.90717</td>\n",
       "      <td>Intel Core i7</td>\n",
       "      <td>0</td>\n",
       "      <td>0</td>\n",
       "      <td>0</td>\n",
       "      <td>0</td>\n",
       "    </tr>\n",
       "    <tr>\n",
       "      <th>924</th>\n",
       "      <td>Lenovo</td>\n",
       "      <td>2 in 1 Convertible</td>\n",
       "      <td>8</td>\n",
       "      <td>512 SSD</td>\n",
       "      <td>Intel HD Graphics 620</td>\n",
       "      <td>Windows 10</td>\n",
       "      <td>1.37</td>\n",
       "      <td>97236.00</td>\n",
       "      <td>1</td>\n",
       "      <td>1</td>\n",
       "      <td>2202.90717</td>\n",
       "      <td>Intel Core i5</td>\n",
       "      <td>0</td>\n",
       "      <td>0</td>\n",
       "      <td>0</td>\n",
       "      <td>0</td>\n",
       "    </tr>\n",
       "    <tr>\n",
       "      <th>1243</th>\n",
       "      <td>Dell</td>\n",
       "      <td>2 in 1 Convertible</td>\n",
       "      <td>16</td>\n",
       "      <td>512 SSD</td>\n",
       "      <td>Nvidia GeForce 940MX</td>\n",
       "      <td>Windows 10</td>\n",
       "      <td>2.77</td>\n",
       "      <td>95850.72</td>\n",
       "      <td>1</td>\n",
       "      <td>0</td>\n",
       "      <td>2202.90717</td>\n",
       "      <td>Intel Core i7</td>\n",
       "      <td>0</td>\n",
       "      <td>0</td>\n",
       "      <td>0</td>\n",
       "      <td>0</td>\n",
       "    </tr>\n",
       "    <tr>\n",
       "      <th>572</th>\n",
       "      <td>HP</td>\n",
       "      <td>Notebook</td>\n",
       "      <td>6</td>\n",
       "      <td>256 SSD</td>\n",
       "      <td>AMD Radeon 530</td>\n",
       "      <td>Windows 10</td>\n",
       "      <td>1.95</td>\n",
       "      <td>34578.72</td>\n",
       "      <td>0</td>\n",
       "      <td>1</td>\n",
       "      <td>2202.90717</td>\n",
       "      <td>AMD Processor</td>\n",
       "      <td>0</td>\n",
       "      <td>0</td>\n",
       "      <td>0</td>\n",
       "      <td>0</td>\n",
       "    </tr>\n",
       "  </tbody>\n",
       "</table>\n",
       "</div>"
      ],
      "text/plain": [
       "     Company            TypeName  Ram   Memory                    Gpu  \\\n",
       "802     Dell           Ultrabook    8  256 SSD  Intel HD Graphics 620   \n",
       "719       HP            Notebook    8  256 SSD   Nvidia GeForce 930MX   \n",
       "924   Lenovo  2 in 1 Convertible    8  512 SSD  Intel HD Graphics 620   \n",
       "1243    Dell  2 in 1 Convertible   16  512 SSD   Nvidia GeForce 940MX   \n",
       "572       HP            Notebook    6  256 SSD         AMD Radeon 530   \n",
       "\n",
       "           OpSys  Weight     Price  Touchscreen  Ips         ppi  \\\n",
       "802   Windows 10    1.29  79866.72            0    0  2202.90717   \n",
       "719   Windows 10    2.63  63936.00            0    0  2202.90717   \n",
       "924   Windows 10    1.37  97236.00            1    1  2202.90717   \n",
       "1243  Windows 10    2.77  95850.72            1    0  2202.90717   \n",
       "572   Windows 10    1.95  34578.72            0    1  2202.90717   \n",
       "\n",
       "          Cpu brand  HDD  SSD  Hybrid  Flash_Storage  \n",
       "802   Intel Core i5    0    0       0              0  \n",
       "719   Intel Core i7    0    0       0              0  \n",
       "924   Intel Core i5    0    0       0              0  \n",
       "1243  Intel Core i7    0    0       0              0  \n",
       "572   AMD Processor    0    0       0              0  "
      ]
     },
     "execution_count": 204,
     "metadata": {},
     "output_type": "execute_result"
    }
   ],
   "source": [
    "df.sample(5)"
   ]
  },
  {
   "cell_type": "code",
   "execution_count": 205,
   "id": "a938308e",
   "metadata": {
    "execution": {
     "iopub.execute_input": "2022-11-16T06:01:04.236714Z",
     "iopub.status.busy": "2022-11-16T06:01:04.235949Z",
     "iopub.status.idle": "2022-11-16T06:01:04.241790Z",
     "shell.execute_reply": "2022-11-16T06:01:04.240900Z"
    },
    "papermill": {
     "duration": 0.043986,
     "end_time": "2022-11-16T06:01:04.244158",
     "exception": false,
     "start_time": "2022-11-16T06:01:04.200172",
     "status": "completed"
    },
    "tags": []
   },
   "outputs": [],
   "source": [
    "df.drop(columns=['Memory'],inplace=True)"
   ]
  },
  {
   "cell_type": "code",
   "execution_count": 206,
   "id": "f8caabcd",
   "metadata": {
    "execution": {
     "iopub.execute_input": "2022-11-16T06:01:04.321642Z",
     "iopub.status.busy": "2022-11-16T06:01:04.321013Z",
     "iopub.status.idle": "2022-11-16T06:01:04.343162Z",
     "shell.execute_reply": "2022-11-16T06:01:04.342181Z"
    },
    "papermill": {
     "duration": 0.067072,
     "end_time": "2022-11-16T06:01:04.345426",
     "exception": false,
     "start_time": "2022-11-16T06:01:04.278354",
     "status": "completed"
    },
    "tags": []
   },
   "outputs": [
    {
     "data": {
      "text/html": [
       "<div>\n",
       "<style scoped>\n",
       "    .dataframe tbody tr th:only-of-type {\n",
       "        vertical-align: middle;\n",
       "    }\n",
       "\n",
       "    .dataframe tbody tr th {\n",
       "        vertical-align: top;\n",
       "    }\n",
       "\n",
       "    .dataframe thead th {\n",
       "        text-align: right;\n",
       "    }\n",
       "</style>\n",
       "<table border=\"1\" class=\"dataframe\">\n",
       "  <thead>\n",
       "    <tr style=\"text-align: right;\">\n",
       "      <th></th>\n",
       "      <th>Company</th>\n",
       "      <th>TypeName</th>\n",
       "      <th>Ram</th>\n",
       "      <th>Gpu</th>\n",
       "      <th>OpSys</th>\n",
       "      <th>Weight</th>\n",
       "      <th>Price</th>\n",
       "      <th>Touchscreen</th>\n",
       "      <th>Ips</th>\n",
       "      <th>ppi</th>\n",
       "      <th>Cpu brand</th>\n",
       "      <th>HDD</th>\n",
       "      <th>SSD</th>\n",
       "      <th>Hybrid</th>\n",
       "      <th>Flash_Storage</th>\n",
       "    </tr>\n",
       "  </thead>\n",
       "  <tbody>\n",
       "    <tr>\n",
       "      <th>0</th>\n",
       "      <td>Apple</td>\n",
       "      <td>Ultrabook</td>\n",
       "      <td>8</td>\n",
       "      <td>Intel Iris Plus Graphics 640</td>\n",
       "      <td>macOS</td>\n",
       "      <td>1.37</td>\n",
       "      <td>71378.6832</td>\n",
       "      <td>0</td>\n",
       "      <td>1</td>\n",
       "      <td>3018.873962</td>\n",
       "      <td>Intel Core i5</td>\n",
       "      <td>0</td>\n",
       "      <td>0</td>\n",
       "      <td>0</td>\n",
       "      <td>0</td>\n",
       "    </tr>\n",
       "    <tr>\n",
       "      <th>1</th>\n",
       "      <td>Apple</td>\n",
       "      <td>Ultrabook</td>\n",
       "      <td>8</td>\n",
       "      <td>Intel HD Graphics 6000</td>\n",
       "      <td>macOS</td>\n",
       "      <td>1.34</td>\n",
       "      <td>47895.5232</td>\n",
       "      <td>0</td>\n",
       "      <td>0</td>\n",
       "      <td>1698.116604</td>\n",
       "      <td>Intel Core i5</td>\n",
       "      <td>0</td>\n",
       "      <td>0</td>\n",
       "      <td>0</td>\n",
       "      <td>0</td>\n",
       "    </tr>\n",
       "    <tr>\n",
       "      <th>2</th>\n",
       "      <td>HP</td>\n",
       "      <td>Notebook</td>\n",
       "      <td>8</td>\n",
       "      <td>Intel HD Graphics 620</td>\n",
       "      <td>No OS</td>\n",
       "      <td>1.86</td>\n",
       "      <td>30636.0000</td>\n",
       "      <td>0</td>\n",
       "      <td>0</td>\n",
       "      <td>2202.907170</td>\n",
       "      <td>Intel Core i5</td>\n",
       "      <td>0</td>\n",
       "      <td>0</td>\n",
       "      <td>0</td>\n",
       "      <td>0</td>\n",
       "    </tr>\n",
       "    <tr>\n",
       "      <th>3</th>\n",
       "      <td>Apple</td>\n",
       "      <td>Ultrabook</td>\n",
       "      <td>16</td>\n",
       "      <td>AMD Radeon Pro 455</td>\n",
       "      <td>macOS</td>\n",
       "      <td>1.83</td>\n",
       "      <td>135195.3360</td>\n",
       "      <td>0</td>\n",
       "      <td>1</td>\n",
       "      <td>3396.233208</td>\n",
       "      <td>Intel Core i7</td>\n",
       "      <td>0</td>\n",
       "      <td>0</td>\n",
       "      <td>0</td>\n",
       "      <td>0</td>\n",
       "    </tr>\n",
       "    <tr>\n",
       "      <th>4</th>\n",
       "      <td>Apple</td>\n",
       "      <td>Ultrabook</td>\n",
       "      <td>8</td>\n",
       "      <td>Intel Iris Plus Graphics 650</td>\n",
       "      <td>macOS</td>\n",
       "      <td>1.37</td>\n",
       "      <td>96095.8080</td>\n",
       "      <td>0</td>\n",
       "      <td>1</td>\n",
       "      <td>3018.873962</td>\n",
       "      <td>Intel Core i5</td>\n",
       "      <td>0</td>\n",
       "      <td>0</td>\n",
       "      <td>0</td>\n",
       "      <td>0</td>\n",
       "    </tr>\n",
       "  </tbody>\n",
       "</table>\n",
       "</div>"
      ],
      "text/plain": [
       "  Company   TypeName  Ram                           Gpu  OpSys  Weight  \\\n",
       "0   Apple  Ultrabook    8  Intel Iris Plus Graphics 640  macOS    1.37   \n",
       "1   Apple  Ultrabook    8        Intel HD Graphics 6000  macOS    1.34   \n",
       "2      HP   Notebook    8         Intel HD Graphics 620  No OS    1.86   \n",
       "3   Apple  Ultrabook   16            AMD Radeon Pro 455  macOS    1.83   \n",
       "4   Apple  Ultrabook    8  Intel Iris Plus Graphics 650  macOS    1.37   \n",
       "\n",
       "         Price  Touchscreen  Ips          ppi      Cpu brand  HDD  SSD  \\\n",
       "0   71378.6832            0    1  3018.873962  Intel Core i5    0    0   \n",
       "1   47895.5232            0    0  1698.116604  Intel Core i5    0    0   \n",
       "2   30636.0000            0    0  2202.907170  Intel Core i5    0    0   \n",
       "3  135195.3360            0    1  3396.233208  Intel Core i7    0    0   \n",
       "4   96095.8080            0    1  3018.873962  Intel Core i5    0    0   \n",
       "\n",
       "   Hybrid  Flash_Storage  \n",
       "0       0              0  \n",
       "1       0              0  \n",
       "2       0              0  \n",
       "3       0              0  \n",
       "4       0              0  "
      ]
     },
     "execution_count": 206,
     "metadata": {},
     "output_type": "execute_result"
    }
   ],
   "source": [
    "df.head()"
   ]
  },
  {
   "cell_type": "code",
   "execution_count": 207,
   "id": "4e6e9c3b",
   "metadata": {
    "execution": {
     "iopub.execute_input": "2022-11-16T06:01:04.415683Z",
     "iopub.status.busy": "2022-11-16T06:01:04.415218Z",
     "iopub.status.idle": "2022-11-16T06:01:04.426154Z",
     "shell.execute_reply": "2022-11-16T06:01:04.424686Z"
    },
    "papermill": {
     "duration": 0.048692,
     "end_time": "2022-11-16T06:01:04.428413",
     "exception": false,
     "start_time": "2022-11-16T06:01:04.379721",
     "status": "completed"
    },
    "tags": []
   },
   "outputs": [],
   "source": [
    "# Convert the 'Price' column to numeric, coercing errors to NaN\n",
    "df['Price'] = pd.to_numeric(df['Price'], errors='coerce')\n",
    "\n",
    "# Remove rows with NaN values in the 'Price' column\n",
    "df.dropna(subset=['Price'], inplace=True)\n",
    "\n",
    "# Calculate the correlation matrix for numeric columns\n",
    "numeric_columns = df.select_dtypes(include=['float64', 'int64']).columns\n",
    "corr_matrix = df[numeric_columns].corr()\n",
    "\n",
    "# Get the correlation of 'Price' with other numeric columns\n",
    "price_corr = corr_matrix['Price']\n"
   ]
  },
  {
   "cell_type": "code",
   "execution_count": 208,
   "id": "2f2e0f65",
   "metadata": {
    "execution": {
     "iopub.execute_input": "2022-11-16T06:01:04.499537Z",
     "iopub.status.busy": "2022-11-16T06:01:04.499117Z",
     "iopub.status.idle": "2022-11-16T06:01:04.504833Z",
     "shell.execute_reply": "2022-11-16T06:01:04.503962Z"
    },
    "papermill": {
     "duration": 0.043855,
     "end_time": "2022-11-16T06:01:04.506955",
     "exception": false,
     "start_time": "2022-11-16T06:01:04.463100",
     "status": "completed"
    },
    "tags": []
   },
   "outputs": [],
   "source": [
    "df.drop(columns=['Hybrid','Flash_Storage'],inplace=True)"
   ]
  },
  {
   "cell_type": "code",
   "execution_count": 209,
   "id": "24a396b7",
   "metadata": {
    "execution": {
     "iopub.execute_input": "2022-11-16T06:01:04.578265Z",
     "iopub.status.busy": "2022-11-16T06:01:04.577498Z",
     "iopub.status.idle": "2022-11-16T06:01:04.595215Z",
     "shell.execute_reply": "2022-11-16T06:01:04.594147Z"
    },
    "papermill": {
     "duration": 0.055621,
     "end_time": "2022-11-16T06:01:04.597541",
     "exception": false,
     "start_time": "2022-11-16T06:01:04.541920",
     "status": "completed"
    },
    "tags": []
   },
   "outputs": [
    {
     "data": {
      "text/html": [
       "<div>\n",
       "<style scoped>\n",
       "    .dataframe tbody tr th:only-of-type {\n",
       "        vertical-align: middle;\n",
       "    }\n",
       "\n",
       "    .dataframe tbody tr th {\n",
       "        vertical-align: top;\n",
       "    }\n",
       "\n",
       "    .dataframe thead th {\n",
       "        text-align: right;\n",
       "    }\n",
       "</style>\n",
       "<table border=\"1\" class=\"dataframe\">\n",
       "  <thead>\n",
       "    <tr style=\"text-align: right;\">\n",
       "      <th></th>\n",
       "      <th>Company</th>\n",
       "      <th>TypeName</th>\n",
       "      <th>Ram</th>\n",
       "      <th>Gpu</th>\n",
       "      <th>OpSys</th>\n",
       "      <th>Weight</th>\n",
       "      <th>Price</th>\n",
       "      <th>Touchscreen</th>\n",
       "      <th>Ips</th>\n",
       "      <th>ppi</th>\n",
       "      <th>Cpu brand</th>\n",
       "      <th>HDD</th>\n",
       "      <th>SSD</th>\n",
       "    </tr>\n",
       "  </thead>\n",
       "  <tbody>\n",
       "    <tr>\n",
       "      <th>0</th>\n",
       "      <td>Apple</td>\n",
       "      <td>Ultrabook</td>\n",
       "      <td>8</td>\n",
       "      <td>Intel Iris Plus Graphics 640</td>\n",
       "      <td>macOS</td>\n",
       "      <td>1.37</td>\n",
       "      <td>71378.6832</td>\n",
       "      <td>0</td>\n",
       "      <td>1</td>\n",
       "      <td>3018.873962</td>\n",
       "      <td>Intel Core i5</td>\n",
       "      <td>0</td>\n",
       "      <td>0</td>\n",
       "    </tr>\n",
       "    <tr>\n",
       "      <th>1</th>\n",
       "      <td>Apple</td>\n",
       "      <td>Ultrabook</td>\n",
       "      <td>8</td>\n",
       "      <td>Intel HD Graphics 6000</td>\n",
       "      <td>macOS</td>\n",
       "      <td>1.34</td>\n",
       "      <td>47895.5232</td>\n",
       "      <td>0</td>\n",
       "      <td>0</td>\n",
       "      <td>1698.116604</td>\n",
       "      <td>Intel Core i5</td>\n",
       "      <td>0</td>\n",
       "      <td>0</td>\n",
       "    </tr>\n",
       "    <tr>\n",
       "      <th>2</th>\n",
       "      <td>HP</td>\n",
       "      <td>Notebook</td>\n",
       "      <td>8</td>\n",
       "      <td>Intel HD Graphics 620</td>\n",
       "      <td>No OS</td>\n",
       "      <td>1.86</td>\n",
       "      <td>30636.0000</td>\n",
       "      <td>0</td>\n",
       "      <td>0</td>\n",
       "      <td>2202.907170</td>\n",
       "      <td>Intel Core i5</td>\n",
       "      <td>0</td>\n",
       "      <td>0</td>\n",
       "    </tr>\n",
       "    <tr>\n",
       "      <th>3</th>\n",
       "      <td>Apple</td>\n",
       "      <td>Ultrabook</td>\n",
       "      <td>16</td>\n",
       "      <td>AMD Radeon Pro 455</td>\n",
       "      <td>macOS</td>\n",
       "      <td>1.83</td>\n",
       "      <td>135195.3360</td>\n",
       "      <td>0</td>\n",
       "      <td>1</td>\n",
       "      <td>3396.233208</td>\n",
       "      <td>Intel Core i7</td>\n",
       "      <td>0</td>\n",
       "      <td>0</td>\n",
       "    </tr>\n",
       "    <tr>\n",
       "      <th>4</th>\n",
       "      <td>Apple</td>\n",
       "      <td>Ultrabook</td>\n",
       "      <td>8</td>\n",
       "      <td>Intel Iris Plus Graphics 650</td>\n",
       "      <td>macOS</td>\n",
       "      <td>1.37</td>\n",
       "      <td>96095.8080</td>\n",
       "      <td>0</td>\n",
       "      <td>1</td>\n",
       "      <td>3018.873962</td>\n",
       "      <td>Intel Core i5</td>\n",
       "      <td>0</td>\n",
       "      <td>0</td>\n",
       "    </tr>\n",
       "  </tbody>\n",
       "</table>\n",
       "</div>"
      ],
      "text/plain": [
       "  Company   TypeName  Ram                           Gpu  OpSys  Weight  \\\n",
       "0   Apple  Ultrabook    8  Intel Iris Plus Graphics 640  macOS    1.37   \n",
       "1   Apple  Ultrabook    8        Intel HD Graphics 6000  macOS    1.34   \n",
       "2      HP   Notebook    8         Intel HD Graphics 620  No OS    1.86   \n",
       "3   Apple  Ultrabook   16            AMD Radeon Pro 455  macOS    1.83   \n",
       "4   Apple  Ultrabook    8  Intel Iris Plus Graphics 650  macOS    1.37   \n",
       "\n",
       "         Price  Touchscreen  Ips          ppi      Cpu brand  HDD  SSD  \n",
       "0   71378.6832            0    1  3018.873962  Intel Core i5    0    0  \n",
       "1   47895.5232            0    0  1698.116604  Intel Core i5    0    0  \n",
       "2   30636.0000            0    0  2202.907170  Intel Core i5    0    0  \n",
       "3  135195.3360            0    1  3396.233208  Intel Core i7    0    0  \n",
       "4   96095.8080            0    1  3018.873962  Intel Core i5    0    0  "
      ]
     },
     "execution_count": 209,
     "metadata": {},
     "output_type": "execute_result"
    }
   ],
   "source": [
    "df.head()"
   ]
  },
  {
   "cell_type": "code",
   "execution_count": 210,
   "id": "8d8da3b3",
   "metadata": {
    "execution": {
     "iopub.execute_input": "2022-11-16T06:01:04.670246Z",
     "iopub.status.busy": "2022-11-16T06:01:04.669798Z",
     "iopub.status.idle": "2022-11-16T06:01:04.683285Z",
     "shell.execute_reply": "2022-11-16T06:01:04.682050Z"
    },
    "papermill": {
     "duration": 0.05247,
     "end_time": "2022-11-16T06:01:04.685651",
     "exception": false,
     "start_time": "2022-11-16T06:01:04.633181",
     "status": "completed"
    },
    "tags": []
   },
   "outputs": [
    {
     "data": {
      "text/plain": [
       "Gpu\n",
       "Intel HD Graphics 620      271\n",
       "Intel HD Graphics 520      181\n",
       "Intel UHD Graphics 620      66\n",
       "Nvidia GeForce GTX 1050     64\n",
       "Nvidia GeForce GTX 1060     48\n",
       "                          ... \n",
       "AMD Radeon R5 520            1\n",
       "AMD Radeon R7                1\n",
       "Intel HD Graphics 540        1\n",
       "AMD Radeon 540               1\n",
       "ARM Mali T860 MP4            1\n",
       "Name: count, Length: 110, dtype: int64"
      ]
     },
     "execution_count": 210,
     "metadata": {},
     "output_type": "execute_result"
    }
   ],
   "source": [
    "df['Gpu'].value_counts()"
   ]
  },
  {
   "cell_type": "code",
   "execution_count": 211,
   "id": "3ae9250c",
   "metadata": {
    "execution": {
     "iopub.execute_input": "2022-11-16T06:01:04.762033Z",
     "iopub.status.busy": "2022-11-16T06:01:04.760788Z",
     "iopub.status.idle": "2022-11-16T06:01:04.768355Z",
     "shell.execute_reply": "2022-11-16T06:01:04.767405Z"
    },
    "papermill": {
     "duration": 0.045824,
     "end_time": "2022-11-16T06:01:04.770507",
     "exception": false,
     "start_time": "2022-11-16T06:01:04.724683",
     "status": "completed"
    },
    "tags": []
   },
   "outputs": [],
   "source": [
    "df['Gpu brand'] = df['Gpu'].apply(lambda x:x.split()[0])"
   ]
  },
  {
   "cell_type": "code",
   "execution_count": 212,
   "id": "2ea3fd87",
   "metadata": {
    "execution": {
     "iopub.execute_input": "2022-11-16T06:01:04.843084Z",
     "iopub.status.busy": "2022-11-16T06:01:04.842520Z",
     "iopub.status.idle": "2022-11-16T06:01:04.862448Z",
     "shell.execute_reply": "2022-11-16T06:01:04.861056Z"
    },
    "papermill": {
     "duration": 0.058725,
     "end_time": "2022-11-16T06:01:04.864983",
     "exception": false,
     "start_time": "2022-11-16T06:01:04.806258",
     "status": "completed"
    },
    "tags": []
   },
   "outputs": [
    {
     "data": {
      "text/html": [
       "<div>\n",
       "<style scoped>\n",
       "    .dataframe tbody tr th:only-of-type {\n",
       "        vertical-align: middle;\n",
       "    }\n",
       "\n",
       "    .dataframe tbody tr th {\n",
       "        vertical-align: top;\n",
       "    }\n",
       "\n",
       "    .dataframe thead th {\n",
       "        text-align: right;\n",
       "    }\n",
       "</style>\n",
       "<table border=\"1\" class=\"dataframe\">\n",
       "  <thead>\n",
       "    <tr style=\"text-align: right;\">\n",
       "      <th></th>\n",
       "      <th>Company</th>\n",
       "      <th>TypeName</th>\n",
       "      <th>Ram</th>\n",
       "      <th>Gpu</th>\n",
       "      <th>OpSys</th>\n",
       "      <th>Weight</th>\n",
       "      <th>Price</th>\n",
       "      <th>Touchscreen</th>\n",
       "      <th>Ips</th>\n",
       "      <th>ppi</th>\n",
       "      <th>Cpu brand</th>\n",
       "      <th>HDD</th>\n",
       "      <th>SSD</th>\n",
       "      <th>Gpu brand</th>\n",
       "    </tr>\n",
       "  </thead>\n",
       "  <tbody>\n",
       "    <tr>\n",
       "      <th>0</th>\n",
       "      <td>Apple</td>\n",
       "      <td>Ultrabook</td>\n",
       "      <td>8</td>\n",
       "      <td>Intel Iris Plus Graphics 640</td>\n",
       "      <td>macOS</td>\n",
       "      <td>1.37</td>\n",
       "      <td>71378.6832</td>\n",
       "      <td>0</td>\n",
       "      <td>1</td>\n",
       "      <td>3018.873962</td>\n",
       "      <td>Intel Core i5</td>\n",
       "      <td>0</td>\n",
       "      <td>0</td>\n",
       "      <td>Intel</td>\n",
       "    </tr>\n",
       "    <tr>\n",
       "      <th>1</th>\n",
       "      <td>Apple</td>\n",
       "      <td>Ultrabook</td>\n",
       "      <td>8</td>\n",
       "      <td>Intel HD Graphics 6000</td>\n",
       "      <td>macOS</td>\n",
       "      <td>1.34</td>\n",
       "      <td>47895.5232</td>\n",
       "      <td>0</td>\n",
       "      <td>0</td>\n",
       "      <td>1698.116604</td>\n",
       "      <td>Intel Core i5</td>\n",
       "      <td>0</td>\n",
       "      <td>0</td>\n",
       "      <td>Intel</td>\n",
       "    </tr>\n",
       "    <tr>\n",
       "      <th>2</th>\n",
       "      <td>HP</td>\n",
       "      <td>Notebook</td>\n",
       "      <td>8</td>\n",
       "      <td>Intel HD Graphics 620</td>\n",
       "      <td>No OS</td>\n",
       "      <td>1.86</td>\n",
       "      <td>30636.0000</td>\n",
       "      <td>0</td>\n",
       "      <td>0</td>\n",
       "      <td>2202.907170</td>\n",
       "      <td>Intel Core i5</td>\n",
       "      <td>0</td>\n",
       "      <td>0</td>\n",
       "      <td>Intel</td>\n",
       "    </tr>\n",
       "    <tr>\n",
       "      <th>3</th>\n",
       "      <td>Apple</td>\n",
       "      <td>Ultrabook</td>\n",
       "      <td>16</td>\n",
       "      <td>AMD Radeon Pro 455</td>\n",
       "      <td>macOS</td>\n",
       "      <td>1.83</td>\n",
       "      <td>135195.3360</td>\n",
       "      <td>0</td>\n",
       "      <td>1</td>\n",
       "      <td>3396.233208</td>\n",
       "      <td>Intel Core i7</td>\n",
       "      <td>0</td>\n",
       "      <td>0</td>\n",
       "      <td>AMD</td>\n",
       "    </tr>\n",
       "    <tr>\n",
       "      <th>4</th>\n",
       "      <td>Apple</td>\n",
       "      <td>Ultrabook</td>\n",
       "      <td>8</td>\n",
       "      <td>Intel Iris Plus Graphics 650</td>\n",
       "      <td>macOS</td>\n",
       "      <td>1.37</td>\n",
       "      <td>96095.8080</td>\n",
       "      <td>0</td>\n",
       "      <td>1</td>\n",
       "      <td>3018.873962</td>\n",
       "      <td>Intel Core i5</td>\n",
       "      <td>0</td>\n",
       "      <td>0</td>\n",
       "      <td>Intel</td>\n",
       "    </tr>\n",
       "  </tbody>\n",
       "</table>\n",
       "</div>"
      ],
      "text/plain": [
       "  Company   TypeName  Ram                           Gpu  OpSys  Weight  \\\n",
       "0   Apple  Ultrabook    8  Intel Iris Plus Graphics 640  macOS    1.37   \n",
       "1   Apple  Ultrabook    8        Intel HD Graphics 6000  macOS    1.34   \n",
       "2      HP   Notebook    8         Intel HD Graphics 620  No OS    1.86   \n",
       "3   Apple  Ultrabook   16            AMD Radeon Pro 455  macOS    1.83   \n",
       "4   Apple  Ultrabook    8  Intel Iris Plus Graphics 650  macOS    1.37   \n",
       "\n",
       "         Price  Touchscreen  Ips          ppi      Cpu brand  HDD  SSD  \\\n",
       "0   71378.6832            0    1  3018.873962  Intel Core i5    0    0   \n",
       "1   47895.5232            0    0  1698.116604  Intel Core i5    0    0   \n",
       "2   30636.0000            0    0  2202.907170  Intel Core i5    0    0   \n",
       "3  135195.3360            0    1  3396.233208  Intel Core i7    0    0   \n",
       "4   96095.8080            0    1  3018.873962  Intel Core i5    0    0   \n",
       "\n",
       "  Gpu brand  \n",
       "0     Intel  \n",
       "1     Intel  \n",
       "2     Intel  \n",
       "3       AMD  \n",
       "4     Intel  "
      ]
     },
     "execution_count": 212,
     "metadata": {},
     "output_type": "execute_result"
    }
   ],
   "source": [
    "df.head()"
   ]
  },
  {
   "cell_type": "code",
   "execution_count": 213,
   "id": "fa453d73",
   "metadata": {
    "execution": {
     "iopub.execute_input": "2022-11-16T06:01:04.937925Z",
     "iopub.status.busy": "2022-11-16T06:01:04.937501Z",
     "iopub.status.idle": "2022-11-16T06:01:04.946376Z",
     "shell.execute_reply": "2022-11-16T06:01:04.944888Z"
    },
    "papermill": {
     "duration": 0.047993,
     "end_time": "2022-11-16T06:01:04.948819",
     "exception": false,
     "start_time": "2022-11-16T06:01:04.900826",
     "status": "completed"
    },
    "tags": []
   },
   "outputs": [
    {
     "data": {
      "text/plain": [
       "Gpu brand\n",
       "Intel     703\n",
       "Nvidia    393\n",
       "AMD       176\n",
       "ARM         1\n",
       "Name: count, dtype: int64"
      ]
     },
     "execution_count": 213,
     "metadata": {},
     "output_type": "execute_result"
    }
   ],
   "source": [
    "df['Gpu brand'].value_counts()"
   ]
  },
  {
   "cell_type": "code",
   "execution_count": 214,
   "id": "a8efc8f3",
   "metadata": {
    "execution": {
     "iopub.execute_input": "2022-11-16T06:01:05.022936Z",
     "iopub.status.busy": "2022-11-16T06:01:05.022116Z",
     "iopub.status.idle": "2022-11-16T06:01:05.029000Z",
     "shell.execute_reply": "2022-11-16T06:01:05.028128Z"
    },
    "papermill": {
     "duration": 0.046111,
     "end_time": "2022-11-16T06:01:05.031482",
     "exception": false,
     "start_time": "2022-11-16T06:01:04.985371",
     "status": "completed"
    },
    "tags": []
   },
   "outputs": [],
   "source": [
    "df = df[df['Gpu brand'] != 'ARM']"
   ]
  },
  {
   "cell_type": "code",
   "execution_count": 215,
   "id": "b7326727",
   "metadata": {
    "execution": {
     "iopub.execute_input": "2022-11-16T06:01:05.104145Z",
     "iopub.status.busy": "2022-11-16T06:01:05.103372Z",
     "iopub.status.idle": "2022-11-16T06:01:05.111645Z",
     "shell.execute_reply": "2022-11-16T06:01:05.110583Z"
    },
    "papermill": {
     "duration": 0.0471,
     "end_time": "2022-11-16T06:01:05.113885",
     "exception": false,
     "start_time": "2022-11-16T06:01:05.066785",
     "status": "completed"
    },
    "tags": []
   },
   "outputs": [
    {
     "data": {
      "text/plain": [
       "Gpu brand\n",
       "Intel     703\n",
       "Nvidia    393\n",
       "AMD       176\n",
       "Name: count, dtype: int64"
      ]
     },
     "execution_count": 215,
     "metadata": {},
     "output_type": "execute_result"
    }
   ],
   "source": [
    "df['Gpu brand'].value_counts()"
   ]
  },
  {
   "cell_type": "code",
   "execution_count": 216,
   "id": "57cd55a3",
   "metadata": {
    "execution": {
     "iopub.execute_input": "2022-11-16T06:01:05.186167Z",
     "iopub.status.busy": "2022-11-16T06:01:05.185706Z",
     "iopub.status.idle": "2022-11-16T06:01:05.544177Z",
     "shell.execute_reply": "2022-11-16T06:01:05.543168Z"
    },
    "papermill": {
     "duration": 0.397346,
     "end_time": "2022-11-16T06:01:05.546526",
     "exception": false,
     "start_time": "2022-11-16T06:01:05.149180",
     "status": "completed"
    },
    "tags": []
   },
   "outputs": [
    {
     "data": {
      "image/png": "[encoded data removed]",
      "text/plain": [
       "<Figure size 640x480 with 1 Axes>"
      ]
     },
     "metadata": {},
     "output_type": "display_data"
    }
   ],
   "source": [
    "sns.barplot(x=df['Gpu brand'],y=df['Price'],estimator=np.median)\n",
    "plt.xticks(rotation='vertical')\n",
    "plt.show()"
   ]
  },
  {
   "cell_type": "code",
   "execution_count": 217,
   "id": "31c996db",
   "metadata": {
    "execution": {
     "iopub.execute_input": "2022-11-16T06:01:05.621357Z",
     "iopub.status.busy": "2022-11-16T06:01:05.620608Z",
     "iopub.status.idle": "2022-11-16T06:01:05.626830Z",
     "shell.execute_reply": "2022-11-16T06:01:05.625720Z"
    },
    "papermill": {
     "duration": 0.045948,
     "end_time": "2022-11-16T06:01:05.629761",
     "exception": false,
     "start_time": "2022-11-16T06:01:05.583813",
     "status": "completed"
    },
    "tags": []
   },
   "outputs": [],
   "source": [
    "df.drop(columns=['Gpu'],inplace=True)"
   ]
  },
  {
   "cell_type": "code",
   "execution_count": 218,
   "id": "0df02f0b",
   "metadata": {
    "execution": {
     "iopub.execute_input": "2022-11-16T06:01:05.772399Z",
     "iopub.status.busy": "2022-11-16T06:01:05.771552Z",
     "iopub.status.idle": "2022-11-16T06:01:05.790386Z",
     "shell.execute_reply": "2022-11-16T06:01:05.789146Z"
    },
    "papermill": {
     "duration": 0.126494,
     "end_time": "2022-11-16T06:01:05.792798",
     "exception": false,
     "start_time": "2022-11-16T06:01:05.666304",
     "status": "completed"
    },
    "tags": []
   },
   "outputs": [
    {
     "data": {
      "text/html": [
       "<div>\n",
       "<style scoped>\n",
       "    .dataframe tbody tr th:only-of-type {\n",
       "        vertical-align: middle;\n",
       "    }\n",
       "\n",
       "    .dataframe tbody tr th {\n",
       "        vertical-align: top;\n",
       "    }\n",
       "\n",
       "    .dataframe thead th {\n",
       "        text-align: right;\n",
       "    }\n",
       "</style>\n",
       "<table border=\"1\" class=\"dataframe\">\n",
       "  <thead>\n",
       "    <tr style=\"text-align: right;\">\n",
       "      <th></th>\n",
       "      <th>Company</th>\n",
       "      <th>TypeName</th>\n",
       "      <th>Ram</th>\n",
       "      <th>OpSys</th>\n",
       "      <th>Weight</th>\n",
       "      <th>Price</th>\n",
       "      <th>Touchscreen</th>\n",
       "      <th>Ips</th>\n",
       "      <th>ppi</th>\n",
       "      <th>Cpu brand</th>\n",
       "      <th>HDD</th>\n",
       "      <th>SSD</th>\n",
       "      <th>Gpu brand</th>\n",
       "    </tr>\n",
       "  </thead>\n",
       "  <tbody>\n",
       "    <tr>\n",
       "      <th>0</th>\n",
       "      <td>Apple</td>\n",
       "      <td>Ultrabook</td>\n",
       "      <td>8</td>\n",
       "      <td>macOS</td>\n",
       "      <td>1.37</td>\n",
       "      <td>71378.6832</td>\n",
       "      <td>0</td>\n",
       "      <td>1</td>\n",
       "      <td>3018.873962</td>\n",
       "      <td>Intel Core i5</td>\n",
       "      <td>0</td>\n",
       "      <td>0</td>\n",
       "      <td>Intel</td>\n",
       "    </tr>\n",
       "    <tr>\n",
       "      <th>1</th>\n",
       "      <td>Apple</td>\n",
       "      <td>Ultrabook</td>\n",
       "      <td>8</td>\n",
       "      <td>macOS</td>\n",
       "      <td>1.34</td>\n",
       "      <td>47895.5232</td>\n",
       "      <td>0</td>\n",
       "      <td>0</td>\n",
       "      <td>1698.116604</td>\n",
       "      <td>Intel Core i5</td>\n",
       "      <td>0</td>\n",
       "      <td>0</td>\n",
       "      <td>Intel</td>\n",
       "    </tr>\n",
       "    <tr>\n",
       "      <th>2</th>\n",
       "      <td>HP</td>\n",
       "      <td>Notebook</td>\n",
       "      <td>8</td>\n",
       "      <td>No OS</td>\n",
       "      <td>1.86</td>\n",
       "      <td>30636.0000</td>\n",
       "      <td>0</td>\n",
       "      <td>0</td>\n",
       "      <td>2202.907170</td>\n",
       "      <td>Intel Core i5</td>\n",
       "      <td>0</td>\n",
       "      <td>0</td>\n",
       "      <td>Intel</td>\n",
       "    </tr>\n",
       "    <tr>\n",
       "      <th>3</th>\n",
       "      <td>Apple</td>\n",
       "      <td>Ultrabook</td>\n",
       "      <td>16</td>\n",
       "      <td>macOS</td>\n",
       "      <td>1.83</td>\n",
       "      <td>135195.3360</td>\n",
       "      <td>0</td>\n",
       "      <td>1</td>\n",
       "      <td>3396.233208</td>\n",
       "      <td>Intel Core i7</td>\n",
       "      <td>0</td>\n",
       "      <td>0</td>\n",
       "      <td>AMD</td>\n",
       "    </tr>\n",
       "    <tr>\n",
       "      <th>4</th>\n",
       "      <td>Apple</td>\n",
       "      <td>Ultrabook</td>\n",
       "      <td>8</td>\n",
       "      <td>macOS</td>\n",
       "      <td>1.37</td>\n",
       "      <td>96095.8080</td>\n",
       "      <td>0</td>\n",
       "      <td>1</td>\n",
       "      <td>3018.873962</td>\n",
       "      <td>Intel Core i5</td>\n",
       "      <td>0</td>\n",
       "      <td>0</td>\n",
       "      <td>Intel</td>\n",
       "    </tr>\n",
       "  </tbody>\n",
       "</table>\n",
       "</div>"
      ],
      "text/plain": [
       "  Company   TypeName  Ram  OpSys  Weight        Price  Touchscreen  Ips  \\\n",
       "0   Apple  Ultrabook    8  macOS    1.37   71378.6832            0    1   \n",
       "1   Apple  Ultrabook    8  macOS    1.34   47895.5232            0    0   \n",
       "2      HP   Notebook    8  No OS    1.86   30636.0000            0    0   \n",
       "3   Apple  Ultrabook   16  macOS    1.83  135195.3360            0    1   \n",
       "4   Apple  Ultrabook    8  macOS    1.37   96095.8080            0    1   \n",
       "\n",
       "           ppi      Cpu brand  HDD  SSD Gpu brand  \n",
       "0  3018.873962  Intel Core i5    0    0     Intel  \n",
       "1  1698.116604  Intel Core i5    0    0     Intel  \n",
       "2  2202.907170  Intel Core i5    0    0     Intel  \n",
       "3  3396.233208  Intel Core i7    0    0       AMD  \n",
       "4  3018.873962  Intel Core i5    0    0     Intel  "
      ]
     },
     "execution_count": 218,
     "metadata": {},
     "output_type": "execute_result"
    }
   ],
   "source": [
    "df.head()"
   ]
  },
  {
   "cell_type": "code",
   "execution_count": 219,
   "id": "c056d2a2",
   "metadata": {
    "execution": {
     "iopub.execute_input": "2022-11-16T06:01:05.868363Z",
     "iopub.status.busy": "2022-11-16T06:01:05.867683Z",
     "iopub.status.idle": "2022-11-16T06:01:05.876733Z",
     "shell.execute_reply": "2022-11-16T06:01:05.875602Z"
    },
    "papermill": {
     "duration": 0.04933,
     "end_time": "2022-11-16T06:01:05.878961",
     "exception": false,
     "start_time": "2022-11-16T06:01:05.829631",
     "status": "completed"
    },
    "tags": []
   },
   "outputs": [
    {
     "data": {
      "text/plain": [
       "OpSys\n",
       "Windows 10      1047\n",
       "No OS             63\n",
       "Linux             61\n",
       "Windows 7         45\n",
       "Chrome OS         26\n",
       "macOS             13\n",
       "Mac OS X           8\n",
       "Windows 10 S       8\n",
       "Android            1\n",
       "Name: count, dtype: int64"
      ]
     },
     "execution_count": 219,
     "metadata": {},
     "output_type": "execute_result"
    }
   ],
   "source": [
    "df['OpSys'].value_counts()"
   ]
  },
  {
   "cell_type": "code",
   "execution_count": 220,
   "id": "4373e203",
   "metadata": {
    "execution": {
     "iopub.execute_input": "2022-11-16T06:01:05.954431Z",
     "iopub.status.busy": "2022-11-16T06:01:05.953964Z",
     "iopub.status.idle": "2022-11-16T06:01:06.372941Z",
     "shell.execute_reply": "2022-11-16T06:01:06.371628Z"
    },
    "papermill": {
     "duration": 0.459527,
     "end_time": "2022-11-16T06:01:06.375562",
     "exception": false,
     "start_time": "2022-11-16T06:01:05.916035",
     "status": "completed"
    },
    "tags": []
   },
   "outputs": [
    {
     "data": {
      "image/png": "[encoded data removed]",
      "text/plain": [
       "<Figure size 640x480 with 1 Axes>"
      ]
     },
     "metadata": {},
     "output_type": "display_data"
    }
   ],
   "source": [
    "sns.barplot(x=df['OpSys'],y=df['Price'])\n",
    "plt.xticks(rotation='vertical')\n",
    "plt.show()"
   ]
  },
  {
   "cell_type": "code",
   "execution_count": 221,
   "id": "005b685a",
   "metadata": {
    "execution": {
     "iopub.execute_input": "2022-11-16T06:01:06.450636Z",
     "iopub.status.busy": "2022-11-16T06:01:06.449366Z",
     "iopub.status.idle": "2022-11-16T06:01:06.455560Z",
     "shell.execute_reply": "2022-11-16T06:01:06.454413Z"
    },
    "papermill": {
     "duration": 0.046263,
     "end_time": "2022-11-16T06:01:06.458137",
     "exception": false,
     "start_time": "2022-11-16T06:01:06.411874",
     "status": "completed"
    },
    "tags": []
   },
   "outputs": [],
   "source": [
    "def cat_os(inp):\n",
    "    if inp == 'Windows 10' or inp == 'Windows 7' or inp == 'Windows 10 S':\n",
    "        return 'Windows'\n",
    "    elif inp == 'macOS' or inp == 'Mac OS X':\n",
    "        return 'Mac'\n",
    "    else:\n",
    "        return 'Others/No OS/Linux'"
   ]
  },
  {
   "cell_type": "code",
   "execution_count": 222,
   "id": "df45c4e9",
   "metadata": {
    "execution": {
     "iopub.execute_input": "2022-11-16T06:01:06.533787Z",
     "iopub.status.busy": "2022-11-16T06:01:06.532482Z",
     "iopub.status.idle": "2022-11-16T06:01:06.539193Z",
     "shell.execute_reply": "2022-11-16T06:01:06.538262Z"
    },
    "papermill": {
     "duration": 0.046932,
     "end_time": "2022-11-16T06:01:06.541370",
     "exception": false,
     "start_time": "2022-11-16T06:01:06.494438",
     "status": "completed"
    },
    "tags": []
   },
   "outputs": [],
   "source": [
    "df['os'] = df['OpSys'].apply(cat_os)"
   ]
  },
  {
   "cell_type": "code",
   "execution_count": 223,
   "id": "61438038",
   "metadata": {
    "execution": {
     "iopub.execute_input": "2022-11-16T06:01:06.615021Z",
     "iopub.status.busy": "2022-11-16T06:01:06.614200Z",
     "iopub.status.idle": "2022-11-16T06:01:06.632871Z",
     "shell.execute_reply": "2022-11-16T06:01:06.631568Z"
    },
    "papermill": {
     "duration": 0.058278,
     "end_time": "2022-11-16T06:01:06.635397",
     "exception": false,
     "start_time": "2022-11-16T06:01:06.577119",
     "status": "completed"
    },
    "tags": []
   },
   "outputs": [
    {
     "data": {
      "text/html": [
       "<div>\n",
       "<style scoped>\n",
       "    .dataframe tbody tr th:only-of-type {\n",
       "        vertical-align: middle;\n",
       "    }\n",
       "\n",
       "    .dataframe tbody tr th {\n",
       "        vertical-align: top;\n",
       "    }\n",
       "\n",
       "    .dataframe thead th {\n",
       "        text-align: right;\n",
       "    }\n",
       "</style>\n",
       "<table border=\"1\" class=\"dataframe\">\n",
       "  <thead>\n",
       "    <tr style=\"text-align: right;\">\n",
       "      <th></th>\n",
       "      <th>Company</th>\n",
       "      <th>TypeName</th>\n",
       "      <th>Ram</th>\n",
       "      <th>OpSys</th>\n",
       "      <th>Weight</th>\n",
       "      <th>Price</th>\n",
       "      <th>Touchscreen</th>\n",
       "      <th>Ips</th>\n",
       "      <th>ppi</th>\n",
       "      <th>Cpu brand</th>\n",
       "      <th>HDD</th>\n",
       "      <th>SSD</th>\n",
       "      <th>Gpu brand</th>\n",
       "      <th>os</th>\n",
       "    </tr>\n",
       "  </thead>\n",
       "  <tbody>\n",
       "    <tr>\n",
       "      <th>0</th>\n",
       "      <td>Apple</td>\n",
       "      <td>Ultrabook</td>\n",
       "      <td>8</td>\n",
       "      <td>macOS</td>\n",
       "      <td>1.37</td>\n",
       "      <td>71378.6832</td>\n",
       "      <td>0</td>\n",
       "      <td>1</td>\n",
       "      <td>3018.873962</td>\n",
       "      <td>Intel Core i5</td>\n",
       "      <td>0</td>\n",
       "      <td>0</td>\n",
       "      <td>Intel</td>\n",
       "      <td>Mac</td>\n",
       "    </tr>\n",
       "    <tr>\n",
       "      <th>1</th>\n",
       "      <td>Apple</td>\n",
       "      <td>Ultrabook</td>\n",
       "      <td>8</td>\n",
       "      <td>macOS</td>\n",
       "      <td>1.34</td>\n",
       "      <td>47895.5232</td>\n",
       "      <td>0</td>\n",
       "      <td>0</td>\n",
       "      <td>1698.116604</td>\n",
       "      <td>Intel Core i5</td>\n",
       "      <td>0</td>\n",
       "      <td>0</td>\n",
       "      <td>Intel</td>\n",
       "      <td>Mac</td>\n",
       "    </tr>\n",
       "    <tr>\n",
       "      <th>2</th>\n",
       "      <td>HP</td>\n",
       "      <td>Notebook</td>\n",
       "      <td>8</td>\n",
       "      <td>No OS</td>\n",
       "      <td>1.86</td>\n",
       "      <td>30636.0000</td>\n",
       "      <td>0</td>\n",
       "      <td>0</td>\n",
       "      <td>2202.907170</td>\n",
       "      <td>Intel Core i5</td>\n",
       "      <td>0</td>\n",
       "      <td>0</td>\n",
       "      <td>Intel</td>\n",
       "      <td>Others/No OS/Linux</td>\n",
       "    </tr>\n",
       "    <tr>\n",
       "      <th>3</th>\n",
       "      <td>Apple</td>\n",
       "      <td>Ultrabook</td>\n",
       "      <td>16</td>\n",
       "      <td>macOS</td>\n",
       "      <td>1.83</td>\n",
       "      <td>135195.3360</td>\n",
       "      <td>0</td>\n",
       "      <td>1</td>\n",
       "      <td>3396.233208</td>\n",
       "      <td>Intel Core i7</td>\n",
       "      <td>0</td>\n",
       "      <td>0</td>\n",
       "      <td>AMD</td>\n",
       "      <td>Mac</td>\n",
       "    </tr>\n",
       "    <tr>\n",
       "      <th>4</th>\n",
       "      <td>Apple</td>\n",
       "      <td>Ultrabook</td>\n",
       "      <td>8</td>\n",
       "      <td>macOS</td>\n",
       "      <td>1.37</td>\n",
       "      <td>96095.8080</td>\n",
       "      <td>0</td>\n",
       "      <td>1</td>\n",
       "      <td>3018.873962</td>\n",
       "      <td>Intel Core i5</td>\n",
       "      <td>0</td>\n",
       "      <td>0</td>\n",
       "      <td>Intel</td>\n",
       "      <td>Mac</td>\n",
       "    </tr>\n",
       "  </tbody>\n",
       "</table>\n",
       "</div>"
      ],
      "text/plain": [
       "  Company   TypeName  Ram  OpSys  Weight        Price  Touchscreen  Ips  \\\n",
       "0   Apple  Ultrabook    8  macOS    1.37   71378.6832            0    1   \n",
       "1   Apple  Ultrabook    8  macOS    1.34   47895.5232            0    0   \n",
       "2      HP   Notebook    8  No OS    1.86   30636.0000            0    0   \n",
       "3   Apple  Ultrabook   16  macOS    1.83  135195.3360            0    1   \n",
       "4   Apple  Ultrabook    8  macOS    1.37   96095.8080            0    1   \n",
       "\n",
       "           ppi      Cpu brand  HDD  SSD Gpu brand                  os  \n",
       "0  3018.873962  Intel Core i5    0    0     Intel                 Mac  \n",
       "1  1698.116604  Intel Core i5    0    0     Intel                 Mac  \n",
       "2  2202.907170  Intel Core i5    0    0     Intel  Others/No OS/Linux  \n",
       "3  3396.233208  Intel Core i7    0    0       AMD                 Mac  \n",
       "4  3018.873962  Intel Core i5    0    0     Intel                 Mac  "
      ]
     },
     "execution_count": 223,
     "metadata": {},
     "output_type": "execute_result"
    }
   ],
   "source": [
    "df.head()"
   ]
  },
  {
   "cell_type": "code",
   "execution_count": 224,
   "id": "d6c8e164",
   "metadata": {
    "execution": {
     "iopub.execute_input": "2022-11-16T06:01:06.711392Z",
     "iopub.status.busy": "2022-11-16T06:01:06.710953Z",
     "iopub.status.idle": "2022-11-16T06:01:06.718247Z",
     "shell.execute_reply": "2022-11-16T06:01:06.717345Z"
    },
    "papermill": {
     "duration": 0.048138,
     "end_time": "2022-11-16T06:01:06.720549",
     "exception": false,
     "start_time": "2022-11-16T06:01:06.672411",
     "status": "completed"
    },
    "tags": []
   },
   "outputs": [],
   "source": [
    "df.drop(columns=['OpSys'],inplace=True)"
   ]
  },
  {
   "cell_type": "code",
   "execution_count": 225,
   "id": "a4965f3e",
   "metadata": {
    "execution": {
     "iopub.execute_input": "2022-11-16T06:01:06.795626Z",
     "iopub.status.busy": "2022-11-16T06:01:06.794398Z",
     "iopub.status.idle": "2022-11-16T06:01:07.036067Z",
     "shell.execute_reply": "2022-11-16T06:01:07.034877Z"
    },
    "papermill": {
     "duration": 0.281761,
     "end_time": "2022-11-16T06:01:07.038635",
     "exception": false,
     "start_time": "2022-11-16T06:01:06.756874",
     "status": "completed"
    },
    "tags": []
   },
   "outputs": [
    {
     "data": {
      "image/png": "[encoded data removed]",
      "text/plain": [
       "<Figure size 640x480 with 1 Axes>"
      ]
     },
     "metadata": {},
     "output_type": "display_data"
    }
   ],
   "source": [
    "sns.barplot(x=df['os'],y=df['Price'])\n",
    "plt.xticks(rotation='vertical')\n",
    "plt.show()"
   ]
  },
  {
   "cell_type": "code",
   "execution_count": 226,
   "id": "539f75e3",
   "metadata": {
    "execution": {
     "iopub.execute_input": "2022-11-16T06:01:07.113172Z",
     "iopub.status.busy": "2022-11-16T06:01:07.112355Z",
     "iopub.status.idle": "2022-11-16T06:01:07.334323Z",
     "shell.execute_reply": "2022-11-16T06:01:07.333083Z"
    },
    "papermill": {
     "duration": 0.261704,
     "end_time": "2022-11-16T06:01:07.336848",
     "exception": false,
     "start_time": "2022-11-16T06:01:07.075144",
     "status": "completed"
    },
    "tags": []
   },
   "outputs": [
    {
     "name": "stderr",
     "output_type": "stream",
     "text": [
      "/var/folders/jm/jp15b4nx22l5qmk9kvd1tdhw0000gn/T/ipykernel_15665/1125578356.py:1: UserWarning: \n",
      "\n",
      "`distplot` is a deprecated function and will be removed in seaborn v0.14.0.\n",
      "\n",
      "Please adapt your code to use either `displot` (a figure-level function with\n",
      "similar flexibility) or `histplot` (an axes-level function for histograms).\n",
      "\n",
      "For a guide to updating your code to use the new functions, please see\n",
      "https://gist.github.com/mwaskom/de44147ed2974457ad6372750bbe5751\n",
      "\n",
      "  sns.distplot(df['Weight'])\n",
      "/Users/akashtiwari/Documents/anaconda3/lib/python3.11/site-packages/seaborn/_oldcore.py:1119: FutureWarning: use_inf_as_na option is deprecated and will be removed in a future version. Convert inf values to NaN before operating instead.\n",
      "  with pd.option_context('mode.use_inf_as_na', True):\n"
     ]
    },
    {
     "data": {
      "text/plain": [
       "<Axes: xlabel='Weight', ylabel='Density'>"
      ]
     },
     "execution_count": 226,
     "metadata": {},
     "output_type": "execute_result"
    },
    {
     "data": {
      "image/png": "[encoded data removed]",
      "text/plain": [
       "<Figure size 640x480 with 1 Axes>"
      ]
     },
     "metadata": {},
     "output_type": "display_data"
    }
   ],
   "source": [
    "sns.distplot(df['Weight'])"
   ]
  },
  {
   "cell_type": "code",
   "execution_count": 227,
   "id": "cdafe0ea",
   "metadata": {
    "execution": {
     "iopub.execute_input": "2022-11-16T06:01:07.412819Z",
     "iopub.status.busy": "2022-11-16T06:01:07.411721Z",
     "iopub.status.idle": "2022-11-16T06:01:07.607471Z",
     "shell.execute_reply": "2022-11-16T06:01:07.606456Z"
    },
    "papermill": {
     "duration": 0.236457,
     "end_time": "2022-11-16T06:01:07.610201",
     "exception": false,
     "start_time": "2022-11-16T06:01:07.373744",
     "status": "completed"
    },
    "tags": []
   },
   "outputs": [
    {
     "data": {
      "text/plain": [
       "<Axes: xlabel='Weight', ylabel='Price'>"
      ]
     },
     "execution_count": 227,
     "metadata": {},
     "output_type": "execute_result"
    },
    {
     "data": {
      "image/png": "[encoded data removed]",
      "text/plain": [
       "<Figure size 640x480 with 1 Axes>"
      ]
     },
     "metadata": {},
     "output_type": "display_data"
    }
   ],
   "source": [
    "sns.scatterplot(x=df['Weight'],y=df['Price'])"
   ]
  },
  {
   "cell_type": "code",
   "execution_count": 228,
   "id": "42cfb273",
   "metadata": {
    "execution": {
     "iopub.execute_input": "2022-11-16T06:01:07.689728Z",
     "iopub.status.busy": "2022-11-16T06:01:07.689310Z",
     "iopub.status.idle": "2022-11-16T06:01:07.700446Z",
     "shell.execute_reply": "2022-11-16T06:01:07.698813Z"
    },
    "papermill": {
     "duration": 0.054407,
     "end_time": "2022-11-16T06:01:07.703233",
     "exception": false,
     "start_time": "2022-11-16T06:01:07.648826",
     "status": "completed"
    },
    "tags": []
   },
   "outputs": [],
   "source": [
    "# Convert the 'Price' column to numeric, coercing errors to NaN\n",
    "df['Price'] = pd.to_numeric(df['Price'], errors='coerce')\n",
    "\n",
    "# Remove rows with NaN values in the 'Price' column\n",
    "df.dropna(subset=['Price'], inplace=True)\n",
    "\n",
    "# Calculate the correlation matrix for numeric columns\n",
    "numeric_columns = df.select_dtypes(include=['float64', 'int64']).columns\n",
    "corr_matrix = df[numeric_columns].corr()\n",
    "\n",
    "# Get the correlation of 'Price' with other numeric columns\n",
    "price_corr = corr_matrix['Price']\n"
   ]
  },
  {
   "cell_type": "code",
   "execution_count": 229,
   "id": "0e3ec750",
   "metadata": {
    "execution": {
     "iopub.execute_input": "2022-11-16T06:01:07.796278Z",
     "iopub.status.busy": "2022-11-16T06:01:07.795790Z",
     "iopub.status.idle": "2022-11-16T06:01:08.068472Z",
     "shell.execute_reply": "2022-11-16T06:01:08.067299Z"
    },
    "papermill": {
     "duration": 0.320917,
     "end_time": "2022-11-16T06:01:08.070840",
     "exception": false,
     "start_time": "2022-11-16T06:01:07.749923",
     "status": "completed"
    },
    "tags": []
   },
   "outputs": [
    {
     "name": "stdout",
     "output_type": "stream",
     "text": [
      "Columns with non-numeric values:\n",
      "     Company            TypeName  Ram  Weight              Cpu brand  \\\n",
      "0      Apple           Ultrabook    8    1.37          Intel Core i5   \n",
      "1      Apple           Ultrabook    8    1.34          Intel Core i5   \n",
      "2         HP            Notebook    8    1.86          Intel Core i5   \n",
      "3      Apple           Ultrabook   16    1.83          Intel Core i7   \n",
      "4      Apple           Ultrabook    8    1.37          Intel Core i5   \n",
      "...      ...                 ...  ...     ...                    ...   \n",
      "1298  Lenovo  2 in 1 Convertible    4    1.80          Intel Core i7   \n",
      "1299  Lenovo  2 in 1 Convertible   16    1.30          Intel Core i7   \n",
      "1300  Lenovo            Notebook    2    1.50  Other Intel Processor   \n",
      "1301      HP            Notebook    6    2.19          Intel Core i7   \n",
      "1302    Asus            Notebook    4    2.20  Other Intel Processor   \n",
      "\n",
      "     Gpu brand                  os  \n",
      "0        Intel                 Mac  \n",
      "1        Intel                 Mac  \n",
      "2        Intel  Others/No OS/Linux  \n",
      "3          AMD                 Mac  \n",
      "4        Intel                 Mac  \n",
      "...        ...                 ...  \n",
      "1298     Intel             Windows  \n",
      "1299     Intel             Windows  \n",
      "1300     Intel             Windows  \n",
      "1301       AMD             Windows  \n",
      "1302     Intel             Windows  \n",
      "\n",
      "[1272 rows x 7 columns]\n"
     ]
    },
    {
     "data": {
      "text/plain": [
       "<Axes: >"
      ]
     },
     "execution_count": 229,
     "metadata": {},
     "output_type": "execute_result"
    },
    {
     "data": {
      "image/png": "[encoded data removed]",
      "text/plain": [
       "<Figure size 640x480 with 2 Axes>"
      ]
     },
     "metadata": {},
     "output_type": "display_data"
    }
   ],
   "source": [
    "# Convert numeric columns to appropriate types, coercing non-convertible values to NaN\n",
    "numeric_columns = df.select_dtypes(include=['float64', 'int64']).columns\n",
    "df[numeric_columns] = df[numeric_columns].apply(pd.to_numeric, errors='coerce')\n",
    "\n",
    "# Identify columns still containing non-numeric values\n",
    "non_numeric_columns = df.columns[~df.columns.isin(numeric_columns)]\n",
    "\n",
    "# Print columns with non-numeric values for investigation\n",
    "print(\"Columns with non-numeric values:\")\n",
    "print(df[non_numeric_columns])\n",
    "\n",
    "# Generate the correlation heatmap using only numeric columns\n",
    "sns.heatmap(df[numeric_columns].corr())\n"
   ]
  },
  {
   "cell_type": "code",
   "execution_count": 230,
   "id": "eacf55d3",
   "metadata": {
    "execution": {
     "iopub.execute_input": "2022-11-16T06:01:08.150109Z",
     "iopub.status.busy": "2022-11-16T06:01:08.149451Z",
     "iopub.status.idle": "2022-11-16T06:01:08.402159Z",
     "shell.execute_reply": "2022-11-16T06:01:08.400967Z"
    },
    "papermill": {
     "duration": 0.29506,
     "end_time": "2022-11-16T06:01:08.404504",
     "exception": false,
     "start_time": "2022-11-16T06:01:08.109444",
     "status": "completed"
    },
    "tags": []
   },
   "outputs": [
    {
     "name": "stderr",
     "output_type": "stream",
     "text": [
      "/Users/akashtiwari/Documents/anaconda3/lib/python3.11/site-packages/seaborn/_oldcore.py:1119: FutureWarning: use_inf_as_na option is deprecated and will be removed in a future version. Convert inf values to NaN before operating instead.\n",
      "  with pd.option_context('mode.use_inf_as_na', True):\n"
     ]
    },
    {
     "data": {
      "text/plain": [
       "<seaborn.axisgrid.FacetGrid at 0x143faaf10>"
      ]
     },
     "execution_count": 230,
     "metadata": {},
     "output_type": "execute_result"
    },
    {
     "data": {
      "image/png": "[encoded data removed]",
      "text/plain": [
       "<Figure size 500x500 with 1 Axes>"
      ]
     },
     "metadata": {},
     "output_type": "display_data"
    }
   ],
   "source": [
    "sns.displot(np.log(df['Price']))"
   ]
  },
  {
   "cell_type": "code",
   "execution_count": 231,
   "id": "9c14528b",
   "metadata": {
    "execution": {
     "iopub.execute_input": "2022-11-16T06:01:08.484739Z",
     "iopub.status.busy": "2022-11-16T06:01:08.484309Z",
     "iopub.status.idle": "2022-11-16T06:01:08.491131Z",
     "shell.execute_reply": "2022-11-16T06:01:08.489964Z"
    },
    "papermill": {
     "duration": 0.049445,
     "end_time": "2022-11-16T06:01:08.493415",
     "exception": false,
     "start_time": "2022-11-16T06:01:08.443970",
     "status": "completed"
    },
    "tags": []
   },
   "outputs": [],
   "source": [
    "X = df.drop(columns=['Price'])\n",
    "y = np.log(df['Price'])"
   ]
  },
  {
   "cell_type": "code",
   "execution_count": 232,
   "id": "37208476",
   "metadata": {
    "execution": {
     "iopub.execute_input": "2022-11-16T06:01:08.576016Z",
     "iopub.status.busy": "2022-11-16T06:01:08.575010Z",
     "iopub.status.idle": "2022-11-16T06:01:08.597183Z",
     "shell.execute_reply": "2022-11-16T06:01:08.596266Z"
    },
    "papermill": {
     "duration": 0.065859,
     "end_time": "2022-11-16T06:01:08.599441",
     "exception": false,
     "start_time": "2022-11-16T06:01:08.533582",
     "status": "completed"
    },
    "tags": []
   },
   "outputs": [
    {
     "data": {
      "text/html": [
       "<div>\n",
       "<style scoped>\n",
       "    .dataframe tbody tr th:only-of-type {\n",
       "        vertical-align: middle;\n",
       "    }\n",
       "\n",
       "    .dataframe tbody tr th {\n",
       "        vertical-align: top;\n",
       "    }\n",
       "\n",
       "    .dataframe thead th {\n",
       "        text-align: right;\n",
       "    }\n",
       "</style>\n",
       "<table border=\"1\" class=\"dataframe\">\n",
       "  <thead>\n",
       "    <tr style=\"text-align: right;\">\n",
       "      <th></th>\n",
       "      <th>Company</th>\n",
       "      <th>TypeName</th>\n",
       "      <th>Ram</th>\n",
       "      <th>Weight</th>\n",
       "      <th>Touchscreen</th>\n",
       "      <th>Ips</th>\n",
       "      <th>ppi</th>\n",
       "      <th>Cpu brand</th>\n",
       "      <th>HDD</th>\n",
       "      <th>SSD</th>\n",
       "      <th>Gpu brand</th>\n",
       "      <th>os</th>\n",
       "    </tr>\n",
       "  </thead>\n",
       "  <tbody>\n",
       "    <tr>\n",
       "      <th>0</th>\n",
       "      <td>Apple</td>\n",
       "      <td>Ultrabook</td>\n",
       "      <td>8</td>\n",
       "      <td>1.37</td>\n",
       "      <td>0</td>\n",
       "      <td>1</td>\n",
       "      <td>3018.873962</td>\n",
       "      <td>Intel Core i5</td>\n",
       "      <td>0</td>\n",
       "      <td>0</td>\n",
       "      <td>Intel</td>\n",
       "      <td>Mac</td>\n",
       "    </tr>\n",
       "    <tr>\n",
       "      <th>1</th>\n",
       "      <td>Apple</td>\n",
       "      <td>Ultrabook</td>\n",
       "      <td>8</td>\n",
       "      <td>1.34</td>\n",
       "      <td>0</td>\n",
       "      <td>0</td>\n",
       "      <td>1698.116604</td>\n",
       "      <td>Intel Core i5</td>\n",
       "      <td>0</td>\n",
       "      <td>0</td>\n",
       "      <td>Intel</td>\n",
       "      <td>Mac</td>\n",
       "    </tr>\n",
       "    <tr>\n",
       "      <th>2</th>\n",
       "      <td>HP</td>\n",
       "      <td>Notebook</td>\n",
       "      <td>8</td>\n",
       "      <td>1.86</td>\n",
       "      <td>0</td>\n",
       "      <td>0</td>\n",
       "      <td>2202.907170</td>\n",
       "      <td>Intel Core i5</td>\n",
       "      <td>0</td>\n",
       "      <td>0</td>\n",
       "      <td>Intel</td>\n",
       "      <td>Others/No OS/Linux</td>\n",
       "    </tr>\n",
       "    <tr>\n",
       "      <th>3</th>\n",
       "      <td>Apple</td>\n",
       "      <td>Ultrabook</td>\n",
       "      <td>16</td>\n",
       "      <td>1.83</td>\n",
       "      <td>0</td>\n",
       "      <td>1</td>\n",
       "      <td>3396.233208</td>\n",
       "      <td>Intel Core i7</td>\n",
       "      <td>0</td>\n",
       "      <td>0</td>\n",
       "      <td>AMD</td>\n",
       "      <td>Mac</td>\n",
       "    </tr>\n",
       "    <tr>\n",
       "      <th>4</th>\n",
       "      <td>Apple</td>\n",
       "      <td>Ultrabook</td>\n",
       "      <td>8</td>\n",
       "      <td>1.37</td>\n",
       "      <td>0</td>\n",
       "      <td>1</td>\n",
       "      <td>3018.873962</td>\n",
       "      <td>Intel Core i5</td>\n",
       "      <td>0</td>\n",
       "      <td>0</td>\n",
       "      <td>Intel</td>\n",
       "      <td>Mac</td>\n",
       "    </tr>\n",
       "    <tr>\n",
       "      <th>...</th>\n",
       "      <td>...</td>\n",
       "      <td>...</td>\n",
       "      <td>...</td>\n",
       "      <td>...</td>\n",
       "      <td>...</td>\n",
       "      <td>...</td>\n",
       "      <td>...</td>\n",
       "      <td>...</td>\n",
       "      <td>...</td>\n",
       "      <td>...</td>\n",
       "      <td>...</td>\n",
       "      <td>...</td>\n",
       "    </tr>\n",
       "    <tr>\n",
       "      <th>1298</th>\n",
       "      <td>Lenovo</td>\n",
       "      <td>2 in 1 Convertible</td>\n",
       "      <td>4</td>\n",
       "      <td>1.80</td>\n",
       "      <td>1</td>\n",
       "      <td>1</td>\n",
       "      <td>2202.907170</td>\n",
       "      <td>Intel Core i7</td>\n",
       "      <td>0</td>\n",
       "      <td>0</td>\n",
       "      <td>Intel</td>\n",
       "      <td>Windows</td>\n",
       "    </tr>\n",
       "    <tr>\n",
       "      <th>1299</th>\n",
       "      <td>Lenovo</td>\n",
       "      <td>2 in 1 Convertible</td>\n",
       "      <td>16</td>\n",
       "      <td>1.30</td>\n",
       "      <td>1</td>\n",
       "      <td>1</td>\n",
       "      <td>3671.511950</td>\n",
       "      <td>Intel Core i7</td>\n",
       "      <td>0</td>\n",
       "      <td>0</td>\n",
       "      <td>Intel</td>\n",
       "      <td>Windows</td>\n",
       "    </tr>\n",
       "    <tr>\n",
       "      <th>1300</th>\n",
       "      <td>Lenovo</td>\n",
       "      <td>Notebook</td>\n",
       "      <td>2</td>\n",
       "      <td>1.50</td>\n",
       "      <td>0</td>\n",
       "      <td>0</td>\n",
       "      <td>1567.092850</td>\n",
       "      <td>Other Intel Processor</td>\n",
       "      <td>0</td>\n",
       "      <td>0</td>\n",
       "      <td>Intel</td>\n",
       "      <td>Windows</td>\n",
       "    </tr>\n",
       "    <tr>\n",
       "      <th>1301</th>\n",
       "      <td>HP</td>\n",
       "      <td>Notebook</td>\n",
       "      <td>6</td>\n",
       "      <td>2.19</td>\n",
       "      <td>0</td>\n",
       "      <td>0</td>\n",
       "      <td>1567.092850</td>\n",
       "      <td>Intel Core i7</td>\n",
       "      <td>0</td>\n",
       "      <td>0</td>\n",
       "      <td>AMD</td>\n",
       "      <td>Windows</td>\n",
       "    </tr>\n",
       "    <tr>\n",
       "      <th>1302</th>\n",
       "      <td>Asus</td>\n",
       "      <td>Notebook</td>\n",
       "      <td>4</td>\n",
       "      <td>2.20</td>\n",
       "      <td>0</td>\n",
       "      <td>0</td>\n",
       "      <td>1567.092850</td>\n",
       "      <td>Other Intel Processor</td>\n",
       "      <td>0</td>\n",
       "      <td>0</td>\n",
       "      <td>Intel</td>\n",
       "      <td>Windows</td>\n",
       "    </tr>\n",
       "  </tbody>\n",
       "</table>\n",
       "<p>1272 rows × 12 columns</p>\n",
       "</div>"
      ],
      "text/plain": [
       "     Company            TypeName  Ram  Weight  Touchscreen  Ips          ppi  \\\n",
       "0      Apple           Ultrabook    8    1.37            0    1  3018.873962   \n",
       "1      Apple           Ultrabook    8    1.34            0    0  1698.116604   \n",
       "2         HP            Notebook    8    1.86            0    0  2202.907170   \n",
       "3      Apple           Ultrabook   16    1.83            0    1  3396.233208   \n",
       "4      Apple           Ultrabook    8    1.37            0    1  3018.873962   \n",
       "...      ...                 ...  ...     ...          ...  ...          ...   \n",
       "1298  Lenovo  2 in 1 Convertible    4    1.80            1    1  2202.907170   \n",
       "1299  Lenovo  2 in 1 Convertible   16    1.30            1    1  3671.511950   \n",
       "1300  Lenovo            Notebook    2    1.50            0    0  1567.092850   \n",
       "1301      HP            Notebook    6    2.19            0    0  1567.092850   \n",
       "1302    Asus            Notebook    4    2.20            0    0  1567.092850   \n",
       "\n",
       "                  Cpu brand  HDD  SSD Gpu brand                  os  \n",
       "0             Intel Core i5    0    0     Intel                 Mac  \n",
       "1             Intel Core i5    0    0     Intel                 Mac  \n",
       "2             Intel Core i5    0    0     Intel  Others/No OS/Linux  \n",
       "3             Intel Core i7    0    0       AMD                 Mac  \n",
       "4             Intel Core i5    0    0     Intel                 Mac  \n",
       "...                     ...  ...  ...       ...                 ...  \n",
       "1298          Intel Core i7    0    0     Intel             Windows  \n",
       "1299          Intel Core i7    0    0     Intel             Windows  \n",
       "1300  Other Intel Processor    0    0     Intel             Windows  \n",
       "1301          Intel Core i7    0    0       AMD             Windows  \n",
       "1302  Other Intel Processor    0    0     Intel             Windows  \n",
       "\n",
       "[1272 rows x 12 columns]"
      ]
     },
     "execution_count": 232,
     "metadata": {},
     "output_type": "execute_result"
    }
   ],
   "source": [
    "X"
   ]
  },
  {
   "cell_type": "code",
   "execution_count": 233,
   "id": "cf5b68be",
   "metadata": {
    "execution": {
     "iopub.execute_input": "2022-11-16T06:01:08.681631Z",
     "iopub.status.busy": "2022-11-16T06:01:08.680634Z",
     "iopub.status.idle": "2022-11-16T06:01:08.689118Z",
     "shell.execute_reply": "2022-11-16T06:01:08.688141Z"
    },
    "papermill": {
     "duration": 0.051626,
     "end_time": "2022-11-16T06:01:08.691149",
     "exception": false,
     "start_time": "2022-11-16T06:01:08.639523",
     "status": "completed"
    },
    "tags": []
   },
   "outputs": [
    {
     "data": {
      "text/plain": [
       "0       11.175755\n",
       "1       10.776777\n",
       "2       10.329931\n",
       "3       11.814476\n",
       "4       11.473101\n",
       "          ...    \n",
       "1298    10.433899\n",
       "1299    11.288115\n",
       "1300     9.409283\n",
       "1301    10.614129\n",
       "1302     9.886358\n",
       "Name: Price, Length: 1272, dtype: float64"
      ]
     },
     "execution_count": 233,
     "metadata": {},
     "output_type": "execute_result"
    }
   ],
   "source": [
    "y"
   ]
  },
  {
   "cell_type": "code",
   "execution_count": 234,
   "id": "ec739863",
   "metadata": {
    "execution": {
     "iopub.execute_input": "2022-11-16T06:01:08.773734Z",
     "iopub.status.busy": "2022-11-16T06:01:08.772476Z",
     "iopub.status.idle": "2022-11-16T06:01:08.945688Z",
     "shell.execute_reply": "2022-11-16T06:01:08.944731Z"
    },
    "papermill": {
     "duration": 0.2172,
     "end_time": "2022-11-16T06:01:08.948571",
     "exception": false,
     "start_time": "2022-11-16T06:01:08.731371",
     "status": "completed"
    },
    "tags": []
   },
   "outputs": [],
   "source": [
    "from sklearn.model_selection import train_test_split\n",
    "X_train,X_test,y_train,y_test = train_test_split(X,y,test_size=0.15,random_state=2)"
   ]
  },
  {
   "cell_type": "code",
   "execution_count": 235,
   "id": "a918105a",
   "metadata": {
    "execution": {
     "iopub.execute_input": "2022-11-16T06:01:09.030679Z",
     "iopub.status.busy": "2022-11-16T06:01:09.030253Z",
     "iopub.status.idle": "2022-11-16T06:01:09.053172Z",
     "shell.execute_reply": "2022-11-16T06:01:09.052010Z"
    },
    "papermill": {
     "duration": 0.066423,
     "end_time": "2022-11-16T06:01:09.055494",
     "exception": false,
     "start_time": "2022-11-16T06:01:08.989071",
     "status": "completed"
    },
    "tags": []
   },
   "outputs": [
    {
     "data": {
      "text/html": [
       "<div>\n",
       "<style scoped>\n",
       "    .dataframe tbody tr th:only-of-type {\n",
       "        vertical-align: middle;\n",
       "    }\n",
       "\n",
       "    .dataframe tbody tr th {\n",
       "        vertical-align: top;\n",
       "    }\n",
       "\n",
       "    .dataframe thead th {\n",
       "        text-align: right;\n",
       "    }\n",
       "</style>\n",
       "<table border=\"1\" class=\"dataframe\">\n",
       "  <thead>\n",
       "    <tr style=\"text-align: right;\">\n",
       "      <th></th>\n",
       "      <th>Company</th>\n",
       "      <th>TypeName</th>\n",
       "      <th>Ram</th>\n",
       "      <th>Weight</th>\n",
       "      <th>Touchscreen</th>\n",
       "      <th>Ips</th>\n",
       "      <th>ppi</th>\n",
       "      <th>Cpu brand</th>\n",
       "      <th>HDD</th>\n",
       "      <th>SSD</th>\n",
       "      <th>Gpu brand</th>\n",
       "      <th>os</th>\n",
       "    </tr>\n",
       "  </thead>\n",
       "  <tbody>\n",
       "    <tr>\n",
       "      <th>734</th>\n",
       "      <td>Lenovo</td>\n",
       "      <td>Notebook</td>\n",
       "      <td>8</td>\n",
       "      <td>1.44</td>\n",
       "      <td>0</td>\n",
       "      <td>1</td>\n",
       "      <td>2202.90717</td>\n",
       "      <td>Intel Core i5</td>\n",
       "      <td>0</td>\n",
       "      <td>0</td>\n",
       "      <td>Intel</td>\n",
       "      <td>Windows</td>\n",
       "    </tr>\n",
       "    <tr>\n",
       "      <th>22</th>\n",
       "      <td>HP</td>\n",
       "      <td>Notebook</td>\n",
       "      <td>4</td>\n",
       "      <td>1.86</td>\n",
       "      <td>0</td>\n",
       "      <td>0</td>\n",
       "      <td>1567.09285</td>\n",
       "      <td>AMD Processor</td>\n",
       "      <td>0</td>\n",
       "      <td>0</td>\n",
       "      <td>AMD</td>\n",
       "      <td>Others/No OS/Linux</td>\n",
       "    </tr>\n",
       "    <tr>\n",
       "      <th>810</th>\n",
       "      <td>HP</td>\n",
       "      <td>Gaming</td>\n",
       "      <td>12</td>\n",
       "      <td>3.74</td>\n",
       "      <td>0</td>\n",
       "      <td>1</td>\n",
       "      <td>2202.90717</td>\n",
       "      <td>Intel Core i7</td>\n",
       "      <td>0</td>\n",
       "      <td>0</td>\n",
       "      <td>AMD</td>\n",
       "      <td>Windows</td>\n",
       "    </tr>\n",
       "    <tr>\n",
       "      <th>282</th>\n",
       "      <td>Lenovo</td>\n",
       "      <td>Gaming</td>\n",
       "      <td>8</td>\n",
       "      <td>2.50</td>\n",
       "      <td>0</td>\n",
       "      <td>1</td>\n",
       "      <td>2202.90717</td>\n",
       "      <td>Intel Core i5</td>\n",
       "      <td>0</td>\n",
       "      <td>0</td>\n",
       "      <td>Nvidia</td>\n",
       "      <td>Windows</td>\n",
       "    </tr>\n",
       "    <tr>\n",
       "      <th>764</th>\n",
       "      <td>Dell</td>\n",
       "      <td>Notebook</td>\n",
       "      <td>4</td>\n",
       "      <td>1.65</td>\n",
       "      <td>0</td>\n",
       "      <td>0</td>\n",
       "      <td>1567.09285</td>\n",
       "      <td>Intel Core i3</td>\n",
       "      <td>0</td>\n",
       "      <td>0</td>\n",
       "      <td>Intel</td>\n",
       "      <td>Windows</td>\n",
       "    </tr>\n",
       "    <tr>\n",
       "      <th>...</th>\n",
       "      <td>...</td>\n",
       "      <td>...</td>\n",
       "      <td>...</td>\n",
       "      <td>...</td>\n",
       "      <td>...</td>\n",
       "      <td>...</td>\n",
       "      <td>...</td>\n",
       "      <td>...</td>\n",
       "      <td>...</td>\n",
       "      <td>...</td>\n",
       "      <td>...</td>\n",
       "      <td>...</td>\n",
       "    </tr>\n",
       "    <tr>\n",
       "      <th>477</th>\n",
       "      <td>Lenovo</td>\n",
       "      <td>Notebook</td>\n",
       "      <td>8</td>\n",
       "      <td>1.70</td>\n",
       "      <td>0</td>\n",
       "      <td>0</td>\n",
       "      <td>2202.90717</td>\n",
       "      <td>Intel Core i5</td>\n",
       "      <td>0</td>\n",
       "      <td>0</td>\n",
       "      <td>Intel</td>\n",
       "      <td>Windows</td>\n",
       "    </tr>\n",
       "    <tr>\n",
       "      <th>308</th>\n",
       "      <td>Lenovo</td>\n",
       "      <td>Notebook</td>\n",
       "      <td>8</td>\n",
       "      <td>2.30</td>\n",
       "      <td>0</td>\n",
       "      <td>0</td>\n",
       "      <td>2202.90717</td>\n",
       "      <td>Intel Core i5</td>\n",
       "      <td>0</td>\n",
       "      <td>0</td>\n",
       "      <td>Nvidia</td>\n",
       "      <td>Windows</td>\n",
       "    </tr>\n",
       "    <tr>\n",
       "      <th>505</th>\n",
       "      <td>Lenovo</td>\n",
       "      <td>Notebook</td>\n",
       "      <td>8</td>\n",
       "      <td>1.44</td>\n",
       "      <td>0</td>\n",
       "      <td>0</td>\n",
       "      <td>2202.90717</td>\n",
       "      <td>Intel Core i5</td>\n",
       "      <td>0</td>\n",
       "      <td>0</td>\n",
       "      <td>Intel</td>\n",
       "      <td>Windows</td>\n",
       "    </tr>\n",
       "    <tr>\n",
       "      <th>539</th>\n",
       "      <td>Lenovo</td>\n",
       "      <td>Notebook</td>\n",
       "      <td>8</td>\n",
       "      <td>1.87</td>\n",
       "      <td>0</td>\n",
       "      <td>1</td>\n",
       "      <td>2202.90717</td>\n",
       "      <td>Intel Core i7</td>\n",
       "      <td>0</td>\n",
       "      <td>0</td>\n",
       "      <td>Nvidia</td>\n",
       "      <td>Windows</td>\n",
       "    </tr>\n",
       "    <tr>\n",
       "      <th>1222</th>\n",
       "      <td>HP</td>\n",
       "      <td>Notebook</td>\n",
       "      <td>6</td>\n",
       "      <td>2.10</td>\n",
       "      <td>0</td>\n",
       "      <td>0</td>\n",
       "      <td>2202.90717</td>\n",
       "      <td>AMD Processor</td>\n",
       "      <td>0</td>\n",
       "      <td>0</td>\n",
       "      <td>AMD</td>\n",
       "      <td>Windows</td>\n",
       "    </tr>\n",
       "  </tbody>\n",
       "</table>\n",
       "<p>1081 rows × 12 columns</p>\n",
       "</div>"
      ],
      "text/plain": [
       "     Company  TypeName  Ram  Weight  Touchscreen  Ips         ppi  \\\n",
       "734   Lenovo  Notebook    8    1.44            0    1  2202.90717   \n",
       "22        HP  Notebook    4    1.86            0    0  1567.09285   \n",
       "810       HP    Gaming   12    3.74            0    1  2202.90717   \n",
       "282   Lenovo    Gaming    8    2.50            0    1  2202.90717   \n",
       "764     Dell  Notebook    4    1.65            0    0  1567.09285   \n",
       "...      ...       ...  ...     ...          ...  ...         ...   \n",
       "477   Lenovo  Notebook    8    1.70            0    0  2202.90717   \n",
       "308   Lenovo  Notebook    8    2.30            0    0  2202.90717   \n",
       "505   Lenovo  Notebook    8    1.44            0    0  2202.90717   \n",
       "539   Lenovo  Notebook    8    1.87            0    1  2202.90717   \n",
       "1222      HP  Notebook    6    2.10            0    0  2202.90717   \n",
       "\n",
       "          Cpu brand  HDD  SSD Gpu brand                  os  \n",
       "734   Intel Core i5    0    0     Intel             Windows  \n",
       "22    AMD Processor    0    0       AMD  Others/No OS/Linux  \n",
       "810   Intel Core i7    0    0       AMD             Windows  \n",
       "282   Intel Core i5    0    0    Nvidia             Windows  \n",
       "764   Intel Core i3    0    0     Intel             Windows  \n",
       "...             ...  ...  ...       ...                 ...  \n",
       "477   Intel Core i5    0    0     Intel             Windows  \n",
       "308   Intel Core i5    0    0    Nvidia             Windows  \n",
       "505   Intel Core i5    0    0     Intel             Windows  \n",
       "539   Intel Core i7    0    0    Nvidia             Windows  \n",
       "1222  AMD Processor    0    0       AMD             Windows  \n",
       "\n",
       "[1081 rows x 12 columns]"
      ]
     },
     "execution_count": 235,
     "metadata": {},
     "output_type": "execute_result"
    }
   ],
   "source": [
    "X_train"
   ]
  },
  {
   "cell_type": "code",
   "execution_count": 236,
   "id": "2451ef99",
   "metadata": {
    "execution": {
     "iopub.execute_input": "2022-11-16T06:01:09.138006Z",
     "iopub.status.busy": "2022-11-16T06:01:09.136956Z",
     "iopub.status.idle": "2022-11-16T06:01:09.150797Z",
     "shell.execute_reply": "2022-11-16T06:01:09.149653Z"
    },
    "papermill": {
     "duration": 0.057879,
     "end_time": "2022-11-16T06:01:09.153373",
     "exception": false,
     "start_time": "2022-11-16T06:01:09.095494",
     "status": "completed"
    },
    "tags": []
   },
   "outputs": [],
   "source": [
    "from sklearn.compose import ColumnTransformer\n",
    "from sklearn.pipeline import Pipeline\n",
    "from sklearn.impute import SimpleImputer\n",
    "from sklearn.preprocessing import StandardScaler, OneHotEncoder\n",
    "from sklearn.metrics import r2_score,mean_absolute_error"
   ]
  },
  {
   "cell_type": "code",
   "execution_count": 237,
   "id": "02ce43af",
   "metadata": {
    "execution": {
     "iopub.execute_input": "2022-11-16T06:01:09.235727Z",
     "iopub.status.busy": "2022-11-16T06:01:09.234378Z",
     "iopub.status.idle": "2022-11-16T06:01:09.530788Z",
     "shell.execute_reply": "2022-11-16T06:01:09.529729Z"
    },
    "papermill": {
     "duration": 0.340618,
     "end_time": "2022-11-16T06:01:09.533813",
     "exception": false,
     "start_time": "2022-11-16T06:01:09.193195",
     "status": "completed"
    },
    "tags": []
   },
   "outputs": [],
   "source": [
    "from sklearn.linear_model import LinearRegression,Ridge,Lasso\n",
    "from sklearn.neighbors import KNeighborsRegressor\n",
    "from sklearn.tree import DecisionTreeRegressor\n",
    "from sklearn.ensemble import RandomForestRegressor,GradientBoostingRegressor,AdaBoostRegressor,ExtraTreesRegressor\n",
    "from sklearn.svm import SVR\n",
    "from xgboost import XGBRegressor"
   ]
  },
  {
   "cell_type": "code",
   "execution_count": 238,
   "id": "9acc716a",
   "metadata": {},
   "outputs": [],
   "source": [
    "# Define the ColumnTransformer with modified OneHotEncoder\n",
    "step1 = ColumnTransformer(transformers=[\n",
    "    ('col_tnf', OneHotEncoder(drop='first', handle_unknown='ignore'), [0, 1, 7, 10, 11])\n",
    "], remainder='passthrough')\n",
    "\n",
    "# Initialize OneHotEncoder with handle_unknown='ignore'\n",
    "encoder = OneHotEncoder(handle_unknown='ignore')"
   ]
  },
  {
   "cell_type": "markdown",
   "id": "669a37f9",
   "metadata": {
    "papermill": {
     "duration": 0.042618,
     "end_time": "2022-11-16T06:01:09.617356",
     "exception": false,
     "start_time": "2022-11-16T06:01:09.574738",
     "status": "completed"
    },
    "tags": []
   },
   "source": [
    "### Linear regression"
   ]
  },
  {
   "cell_type": "code",
   "execution_count": 239,
   "id": "c839f535",
   "metadata": {},
   "outputs": [
    {
     "name": "stdout",
     "output_type": "stream",
     "text": [
      "R2 score: 0.7291164876472596\n",
      "MAE: 0.23149530894367784\n"
     ]
    }
   ],
   "source": [
    "# Define preprocessing steps for numeric and categorical features\n",
    "numeric_features = X_train.select_dtypes(include=['float64', 'int64']).columns\n",
    "numeric_transformer = Pipeline(steps=[\n",
    "    ('imputer', SimpleImputer(strategy='mean')),  # Impute missing values with mean\n",
    "    ('scaler', StandardScaler())  # Standardize numeric features\n",
    "])\n",
    "\n",
    "categorical_features = X_train.select_dtypes(include=['object']).columns\n",
    "categorical_transformer = Pipeline(steps=[\n",
    "    ('imputer', SimpleImputer(strategy='most_frequent')),  # Impute missing values with most frequent value\n",
    "    ('onehot', OneHotEncoder())  # One-hot encode categorical features\n",
    "])\n",
    "\n",
    "# Combine preprocessing steps\n",
    "preprocessor = ColumnTransformer(\n",
    "    transformers=[\n",
    "        ('num', numeric_transformer, numeric_features),\n",
    "        ('cat', categorical_transformer, categorical_features)\n",
    "    ])\n",
    "\n",
    "# Append linear regression model to preprocessing pipeline\n",
    "pipe = Pipeline([\n",
    "    ('preprocessor', preprocessor),\n",
    "    ('linear_reg', LinearRegression())\n",
    "])\n",
    "\n",
    "# Fit the pipeline on the training data\n",
    "pipe.fit(X_train, y_train)\n",
    "\n",
    "# Predict on the test data\n",
    "y_pred = pipe.predict(X_test)\n",
    "\n",
    "# Evaluate the model\n",
    "print('R2 score:', r2_score(y_test, y_pred))\n",
    "print('MAE:', mean_absolute_error(y_test, y_pred))"
   ]
  },
  {
   "cell_type": "markdown",
   "id": "977a799c",
   "metadata": {
    "papermill": {
     "duration": 0.053329,
     "end_time": "2022-11-16T06:01:09.863627",
     "exception": false,
     "start_time": "2022-11-16T06:01:09.810298",
     "status": "completed"
    },
    "tags": []
   },
   "source": [
    "### Ridge Regression"
   ]
  },
  {
   "cell_type": "code",
   "execution_count": 240,
   "id": "2765a0e0",
   "metadata": {},
   "outputs": [
    {
     "name": "stdout",
     "output_type": "stream",
     "text": [
      "R2 score: 0.7342568023134581\n",
      "MAE: 0.2297498681550123\n"
     ]
    }
   ],
   "source": [
    "# Define columns for numeric and categorical features\n",
    "numeric_features = X_train.select_dtypes(include=['float64', 'int64']).columns\n",
    "categorical_features = X_train.select_dtypes(include=['object']).columns\n",
    "\n",
    "# Define preprocessing steps for numeric and categorical features\n",
    "numeric_transformer = Pipeline([\n",
    "    ('imputer', SimpleImputer(strategy='mean')),  # Impute missing values with mean\n",
    "    ('scaler', StandardScaler())  # Standardize features\n",
    "])\n",
    "\n",
    "categorical_transformer = Pipeline([\n",
    "    ('imputer', SimpleImputer(strategy='most_frequent')),  # Impute missing values with most frequent value\n",
    "    ('onehot', OneHotEncoder(handle_unknown='ignore'))  # One-hot encode categorical features\n",
    "])\n",
    "\n",
    "# Combine preprocessing steps for numeric and categorical features\n",
    "preprocessor = ColumnTransformer([\n",
    "    ('numeric', numeric_transformer, numeric_features),\n",
    "    ('categorical', categorical_transformer, categorical_features)\n",
    "])\n",
    "\n",
    "# Define the pipeline with preprocessing and Ridge regression model\n",
    "pipe = Pipeline([\n",
    "    ('preprocessor', preprocessor),\n",
    "    ('ridge', Ridge())  # Ridge regression model\n",
    "])\n",
    "\n",
    "# Fit the pipeline on the training data\n",
    "pipe.fit(X_train, y_train)\n",
    "\n",
    "# Predict on the test data\n",
    "y_pred = pipe.predict(X_test)\n",
    "\n",
    "# Evaluate the model\n",
    "print('R2 score:', r2_score(y_test, y_pred))\n",
    "print('MAE:', mean_absolute_error(y_test, y_pred))"
   ]
  },
  {
   "cell_type": "markdown",
   "id": "aa715298",
   "metadata": {
    "papermill": {
     "duration": 0.052479,
     "end_time": "2022-11-16T06:01:10.105479",
     "exception": false,
     "start_time": "2022-11-16T06:01:10.053000",
     "status": "completed"
    },
    "tags": []
   },
   "source": [
    "### Lasso Regression"
   ]
  },
  {
   "cell_type": "code",
   "execution_count": 241,
   "id": "5c728895",
   "metadata": {},
   "outputs": [
    {
     "name": "stdout",
     "output_type": "stream",
     "text": [
      "R2 score: -0.00026514653186437975\n",
      "MAE: 0.46691839954558384\n"
     ]
    }
   ],
   "source": [
    "\n",
    "# Define column transformer to handle categorical variables and missing values\n",
    "categorical_features = [0, 1, 7, 10, 11]\n",
    "numeric_features = [2, 3, 4, 5, 6, 8, 9]  # Assuming these are the indices of numeric features\n",
    "categorical_transformer = Pipeline(steps=[\n",
    "    ('imputer', SimpleImputer(strategy='most_frequent')),\n",
    "    ('onehot', OneHotEncoder(handle_unknown='ignore'))\n",
    "])\n",
    "numeric_transformer = Pipeline(steps=[\n",
    "    ('imputer', SimpleImputer(strategy='mean')),\n",
    "    ('scaler', StandardScaler())\n",
    "])\n",
    "preprocessor = ColumnTransformer(\n",
    "    transformers=[\n",
    "        ('cat', categorical_transformer, categorical_features),\n",
    "        ('num', numeric_transformer, numeric_features)\n",
    "    ]\n",
    ")\n",
    "\n",
    "# Define the Lasso model\n",
    "lasso_model = Lasso(alpha=1.0)\n",
    "\n",
    "# Create the pipeline\n",
    "pipe = Pipeline([\n",
    "    ('preprocessor', preprocessor),\n",
    "    ('lasso', lasso_model)\n",
    "])\n",
    "\n",
    "# Fit the pipeline to the training data\n",
    "pipe.fit(X_train, y_train)\n",
    "\n",
    "# Predict on the test data\n",
    "y_pred = pipe.predict(X_test)\n",
    "\n",
    "# Evaluate the model\n",
    "print('R2 score:', r2_score(y_test, y_pred))\n",
    "print('MAE:', mean_absolute_error(y_test, y_pred))\n"
   ]
  },
  {
   "cell_type": "markdown",
   "id": "7f256f48",
   "metadata": {
    "papermill": {
     "duration": 0.055433,
     "end_time": "2022-11-16T06:01:10.347305",
     "exception": false,
     "start_time": "2022-11-16T06:01:10.291872",
     "status": "completed"
    },
    "tags": []
   },
   "source": [
    "### KNN"
   ]
  },
  {
   "cell_type": "code",
   "execution_count": 242,
   "id": "32b70e25",
   "metadata": {},
   "outputs": [
    {
     "name": "stdout",
     "output_type": "stream",
     "text": [
      "R2 score: 0.7981241084359851\n",
      "MAE: 0.19901016499075835\n"
     ]
    },
    {
     "name": "stderr",
     "output_type": "stream",
     "text": [
      "/Users/akashtiwari/Documents/anaconda3/lib/python3.11/site-packages/sklearn/preprocessing/_encoders.py:868: FutureWarning: `sparse` was renamed to `sparse_output` in version 1.2 and will be removed in 1.4. `sparse_output` is ignored unless you leave `sparse` to its default value.\n",
      "  warnings.warn(\n"
     ]
    }
   ],
   "source": [
    "# Define the ColumnTransformer for preprocessing\n",
    "preprocessor = ColumnTransformer(\n",
    "    transformers=[\n",
    "        ('col_tnf', OneHotEncoder(sparse=False, drop='first'), [0, 1, 7, 10, 11]),\n",
    "        ('imputer', SimpleImputer(strategy='mean'), [2, 3, 4, 5, 6, 8, 9])  # Assuming these are numeric features\n",
    "    ],\n",
    "    remainder='passthrough'\n",
    ")\n",
    "\n",
    "# Define the pipeline\n",
    "pipe = Pipeline([\n",
    "    ('preprocessor', preprocessor),\n",
    "    ('regressor', KNeighborsRegressor(n_neighbors=3))\n",
    "])\n",
    "\n",
    "# Fit the pipeline on the training data\n",
    "pipe.fit(X_train, y_train)\n",
    "\n",
    "# Predict on the test data\n",
    "y_pred = pipe.predict(X_test)\n",
    "\n",
    "# Evaluate the model\n",
    "print('R2 score:', r2_score(y_test, y_pred))\n",
    "print('MAE:', mean_absolute_error(y_test, y_pred))"
   ]
  },
  {
   "cell_type": "markdown",
   "id": "abfbe450",
   "metadata": {
    "papermill": {
     "duration": 0.055892,
     "end_time": "2022-11-16T06:01:10.587385",
     "exception": false,
     "start_time": "2022-11-16T06:01:10.531493",
     "status": "completed"
    },
    "tags": []
   },
   "source": [
    "### Decision Tree"
   ]
  },
  {
   "cell_type": "code",
   "execution_count": 243,
   "id": "0c4f101c",
   "metadata": {},
   "outputs": [
    {
     "name": "stdout",
     "output_type": "stream",
     "text": [
      "R2 score: 0.762513824286378\n",
      "MAE: 0.2067294220900388\n"
     ]
    },
    {
     "name": "stderr",
     "output_type": "stream",
     "text": [
      "/Users/akashtiwari/Documents/anaconda3/lib/python3.11/site-packages/sklearn/preprocessing/_encoders.py:868: FutureWarning: `sparse` was renamed to `sparse_output` in version 1.2 and will be removed in 1.4. `sparse_output` is ignored unless you leave `sparse` to its default value.\n",
      "  warnings.warn(\n"
     ]
    }
   ],
   "source": [
    "# Define the ColumnTransformer for preprocessing\n",
    "preprocessor = ColumnTransformer(\n",
    "    transformers=[\n",
    "        ('col_tnf', OneHotEncoder(sparse=False, drop='first'), [0, 1, 7, 10, 11]),\n",
    "        ('imputer', SimpleImputer(strategy='mean'), [2, 3, 4, 5, 6, 8, 9])  # Assuming these are numeric features\n",
    "    ],\n",
    "    remainder='passthrough'\n",
    ")\n",
    "\n",
    "# Define the pipeline\n",
    "pipe = Pipeline([\n",
    "    ('preprocessor', preprocessor),\n",
    "    ('regressor', DecisionTreeRegressor(max_depth=8))\n",
    "])\n",
    "\n",
    "# Fit the pipeline on the training data\n",
    "pipe.fit(X_train, y_train)\n",
    "\n",
    "# Predict on the test data\n",
    "y_pred = pipe.predict(X_test)\n",
    "\n",
    "# Evaluate the model\n",
    "print('R2 score:', r2_score(y_test, y_pred))\n",
    "print('MAE:', mean_absolute_error(y_test, y_pred))"
   ]
  },
  {
   "cell_type": "markdown",
   "id": "4ebc82e3",
   "metadata": {
    "papermill": {
     "duration": 0.040287,
     "end_time": "2022-11-16T06:01:10.778902",
     "exception": false,
     "start_time": "2022-11-16T06:01:10.738615",
     "status": "completed"
    },
    "tags": []
   },
   "source": [
    "### SVM"
   ]
  },
  {
   "cell_type": "code",
   "execution_count": 244,
   "id": "33bf5408",
   "metadata": {},
   "outputs": [
    {
     "name": "stdout",
     "output_type": "stream",
     "text": [
      "R2 score: 0.522649573101881\n",
      "MAE: 0.2612031016631241\n"
     ]
    },
    {
     "name": "stderr",
     "output_type": "stream",
     "text": [
      "/Users/akashtiwari/Documents/anaconda3/lib/python3.11/site-packages/sklearn/preprocessing/_encoders.py:868: FutureWarning: `sparse` was renamed to `sparse_output` in version 1.2 and will be removed in 1.4. `sparse_output` is ignored unless you leave `sparse` to its default value.\n",
      "  warnings.warn(\n"
     ]
    }
   ],
   "source": [
    "# Define the pipeline steps\n",
    "step1 = ColumnTransformer(transformers=[\n",
    "    ('col_tnf', OneHotEncoder(sparse=False, drop='first'), [0, 1, 7, 10, 11])\n",
    "], remainder='passthrough')\n",
    "\n",
    "# Add SimpleImputer as a step before SVR\n",
    "step2 = SVR(kernel='rbf', C=10000, epsilon=0.1)\n",
    "\n",
    "pipe = Pipeline([\n",
    "    ('step1', step1),\n",
    "    ('imputer', SimpleImputer(strategy='mean')),  # Add SimpleImputer here\n",
    "    ('step2', step2)\n",
    "])\n",
    "\n",
    "# Fit the pipeline on the training data\n",
    "pipe.fit(X_train, y_train)\n",
    "\n",
    "# Predict on the test data\n",
    "y_pred = pipe.predict(X_test)\n",
    "\n",
    "# Evaluate the model\n",
    "print('R2 score:', r2_score(y_test, y_pred))\n",
    "print('MAE:', mean_absolute_error(y_test, y_pred))"
   ]
  },
  {
   "cell_type": "markdown",
   "id": "7f27a364",
   "metadata": {
    "papermill": {
     "duration": 0.040603,
     "end_time": "2022-11-16T06:01:11.825757",
     "exception": false,
     "start_time": "2022-11-16T06:01:11.785154",
     "status": "completed"
    },
    "tags": []
   },
   "source": [
    "### Random Forest"
   ]
  },
  {
   "cell_type": "code",
   "execution_count": 245,
   "id": "33210970",
   "metadata": {},
   "outputs": [
    {
     "name": "stderr",
     "output_type": "stream",
     "text": [
      "/Users/akashtiwari/Documents/anaconda3/lib/python3.11/site-packages/sklearn/preprocessing/_encoders.py:868: FutureWarning: `sparse` was renamed to `sparse_output` in version 1.2 and will be removed in 1.4. `sparse_output` is ignored unless you leave `sparse` to its default value.\n",
      "  warnings.warn(\n"
     ]
    },
    {
     "name": "stdout",
     "output_type": "stream",
     "text": [
      "R2 score: 0.82412898709707\n",
      "MAE: 0.18128265112331196\n"
     ]
    }
   ],
   "source": [
    "# Define the pipeline steps\n",
    "step1 = ColumnTransformer(transformers=[\n",
    "    ('col_tnf', OneHotEncoder(sparse=False, drop='first'), [0, 1, 7, 10, 11])\n",
    "], remainder='passthrough')\n",
    "\n",
    "# Add SimpleImputer as a step before RandomForestRegressor\n",
    "step2 = RandomForestRegressor(n_estimators=100,\n",
    "                              random_state=3,\n",
    "                              max_samples=0.5,\n",
    "                              max_features=0.75,\n",
    "                              max_depth=15)\n",
    "\n",
    "pipe = Pipeline([\n",
    "    ('step1', step1),\n",
    "    ('imputer', SimpleImputer(strategy='mean')),  # Add SimpleImputer here\n",
    "    ('step2', step2)\n",
    "])\n",
    "\n",
    "# Fit the pipeline on the training data\n",
    "pipe.fit(X_train, y_train)\n",
    "\n",
    "# Predict on the test data\n",
    "y_pred = pipe.predict(X_test)\n",
    "\n",
    "# Evaluate the model\n",
    "print('R2 score:', r2_score(y_test, y_pred))\n",
    "print('MAE:', mean_absolute_error(y_test, y_pred))\n"
   ]
  },
  {
   "cell_type": "markdown",
   "id": "48ce122c",
   "metadata": {
    "papermill": {
     "duration": 0.040389,
     "end_time": "2022-11-16T06:01:12.301329",
     "exception": false,
     "start_time": "2022-11-16T06:01:12.260940",
     "status": "completed"
    },
    "tags": []
   },
   "source": [
    "### AdaBoost"
   ]
  },
  {
   "cell_type": "code",
   "execution_count": 246,
   "id": "7d1bc2c8",
   "metadata": {
    "execution": {
     "iopub.execute_input": "2022-11-16T06:01:12.383978Z",
     "iopub.status.busy": "2022-11-16T06:01:12.383543Z",
     "iopub.status.idle": "2022-11-16T06:01:12.447193Z",
     "shell.execute_reply": "2022-11-16T06:01:12.445459Z"
    },
    "papermill": {
     "duration": 0.108004,
     "end_time": "2022-11-16T06:01:12.449925",
     "exception": false,
     "start_time": "2022-11-16T06:01:12.341921",
     "status": "completed"
    },
    "tags": []
   },
   "outputs": [
    {
     "name": "stdout",
     "output_type": "stream",
     "text": [
      "R2 score: 0.7515992149849513\n",
      "MAE: 0.2388855448347909\n"
     ]
    },
    {
     "name": "stderr",
     "output_type": "stream",
     "text": [
      "/Users/akashtiwari/Documents/anaconda3/lib/python3.11/site-packages/sklearn/preprocessing/_encoders.py:868: FutureWarning: `sparse` was renamed to `sparse_output` in version 1.2 and will be removed in 1.4. `sparse_output` is ignored unless you leave `sparse` to its default value.\n",
      "  warnings.warn(\n"
     ]
    }
   ],
   "source": [
    "from sklearn.impute import SimpleImputer\n",
    "\n",
    "# Define the pipeline steps\n",
    "step1 = ColumnTransformer(transformers=[\n",
    "    ('col_tnf', OneHotEncoder(sparse=False, drop='first'), [0, 1, 7, 10, 11])\n",
    "], remainder='passthrough')\n",
    "\n",
    "# Add SimpleImputer as a step before AdaBoostRegressor\n",
    "step2 = AdaBoostRegressor(n_estimators=15, learning_rate=1.0)\n",
    "\n",
    "pipe = Pipeline([\n",
    "    ('step1', step1),\n",
    "    ('imputer', SimpleImputer(strategy='mean')),  # Add SimpleImputer here\n",
    "    ('step2', step2)\n",
    "])\n",
    "\n",
    "# Fit the pipeline on the training data\n",
    "pipe.fit(X_train, y_train)\n",
    "\n",
    "# Predict on the test data\n",
    "y_pred = pipe.predict(X_test)\n",
    "\n",
    "# Evaluate the model\n",
    "print('R2 score:', r2_score(y_test, y_pred))\n",
    "print('MAE:', mean_absolute_error(y_test, y_pred))\n"
   ]
  },
  {
   "cell_type": "markdown",
   "id": "c648650f",
   "metadata": {
    "papermill": {
     "duration": 0.040261,
     "end_time": "2022-11-16T06:01:12.531233",
     "exception": false,
     "start_time": "2022-11-16T06:01:12.490972",
     "status": "completed"
    },
    "tags": []
   },
   "source": [
    "### Gradient Boost"
   ]
  },
  {
   "cell_type": "code",
   "execution_count": 247,
   "id": "16ffd19a",
   "metadata": {
    "execution": {
     "iopub.execute_input": "2022-11-16T06:01:12.615595Z",
     "iopub.status.busy": "2022-11-16T06:01:12.615174Z",
     "iopub.status.idle": "2022-11-16T06:01:13.271077Z",
     "shell.execute_reply": "2022-11-16T06:01:13.269711Z"
    },
    "papermill": {
     "duration": 0.700319,
     "end_time": "2022-11-16T06:01:13.273626",
     "exception": false,
     "start_time": "2022-11-16T06:01:12.573307",
     "status": "completed"
    },
    "tags": []
   },
   "outputs": [
    {
     "name": "stderr",
     "output_type": "stream",
     "text": [
      "/Users/akashtiwari/Documents/anaconda3/lib/python3.11/site-packages/sklearn/preprocessing/_encoders.py:868: FutureWarning: `sparse` was renamed to `sparse_output` in version 1.2 and will be removed in 1.4. `sparse_output` is ignored unless you leave `sparse` to its default value.\n",
      "  warnings.warn(\n"
     ]
    },
    {
     "name": "stdout",
     "output_type": "stream",
     "text": [
      "R2 score: 0.8042996085636633\n",
      "MAE: 0.18414814295504545\n"
     ]
    }
   ],
   "source": [
    "from sklearn.impute import SimpleImputer\n",
    "\n",
    "# Define the pipeline steps\n",
    "step1 = ColumnTransformer(transformers=[\n",
    "    ('col_tnf', OneHotEncoder(sparse=False, drop='first'), [0, 1, 7, 10, 11])\n",
    "], remainder='passthrough')\n",
    "\n",
    "# Add SimpleImputer as a step before GradientBoostingRegressor\n",
    "step2 = GradientBoostingRegressor(n_estimators=500)\n",
    "\n",
    "pipe = Pipeline([\n",
    "    ('step1', step1),\n",
    "    ('imputer', SimpleImputer(strategy='mean')),  # Add SimpleImputer here\n",
    "    ('step2', step2)\n",
    "])\n",
    "\n",
    "# Fit the pipeline on the training data\n",
    "pipe.fit(X_train, y_train)\n",
    "\n",
    "# Predict on the test data\n",
    "y_pred = pipe.predict(X_test)\n",
    "\n",
    "# Evaluate the model\n",
    "print('R2 score:', r2_score(y_test, y_pred))\n",
    "print('MAE:', mean_absolute_error(y_test, y_pred))\n"
   ]
  },
  {
   "cell_type": "markdown",
   "id": "b6da99a3",
   "metadata": {
    "papermill": {
     "duration": 0.041408,
     "end_time": "2022-11-16T06:01:13.356433",
     "exception": false,
     "start_time": "2022-11-16T06:01:13.315025",
     "status": "completed"
    },
    "tags": []
   },
   "source": [
    "### XgBoost"
   ]
  },
  {
   "cell_type": "code",
   "execution_count": 248,
   "id": "70906ab5",
   "metadata": {
    "execution": {
     "iopub.execute_input": "2022-11-16T06:01:13.442124Z",
     "iopub.status.busy": "2022-11-16T06:01:13.441741Z",
     "iopub.status.idle": "2022-11-16T06:01:13.705822Z",
     "shell.execute_reply": "2022-11-16T06:01:13.704298Z"
    },
    "papermill": {
     "duration": 0.309988,
     "end_time": "2022-11-16T06:01:13.708378",
     "exception": false,
     "start_time": "2022-11-16T06:01:13.398390",
     "status": "completed"
    },
    "tags": []
   },
   "outputs": [
    {
     "name": "stdout",
     "output_type": "stream",
     "text": [
      "R2 score 0.7886890815259977\n",
      "MAE 0.19092652729939882\n"
     ]
    },
    {
     "name": "stderr",
     "output_type": "stream",
     "text": [
      "/Users/akashtiwari/Documents/anaconda3/lib/python3.11/site-packages/sklearn/preprocessing/_encoders.py:868: FutureWarning: `sparse` was renamed to `sparse_output` in version 1.2 and will be removed in 1.4. `sparse_output` is ignored unless you leave `sparse` to its default value.\n",
      "  warnings.warn(\n"
     ]
    }
   ],
   "source": [
    "step1 = ColumnTransformer(transformers=[\n",
    "    ('col_tnf',OneHotEncoder(sparse=False,drop='first'),[0,1,7,10,11])\n",
    "],remainder='passthrough')\n",
    "\n",
    "step2 = XGBRegressor(n_estimators=45,max_depth=5,learning_rate=0.5)\n",
    "\n",
    "pipe = Pipeline([\n",
    "    ('step1',step1),\n",
    "    ('step2',step2)\n",
    "])\n",
    "\n",
    "pipe.fit(X_train,y_train)\n",
    "\n",
    "y_pred = pipe.predict(X_test)\n",
    "\n",
    "print('R2 score',r2_score(y_test,y_pred))\n",
    "print('MAE',mean_absolute_error(y_test,y_pred))"
   ]
  },
  {
   "cell_type": "markdown",
   "id": "c59b8fd2",
   "metadata": {
    "papermill": {
     "duration": 0.041503,
     "end_time": "2022-11-16T06:01:13.792462",
     "exception": false,
     "start_time": "2022-11-16T06:01:13.750959",
     "status": "completed"
    },
    "tags": []
   },
   "source": [
    "### Stacking"
   ]
  },
  {
   "cell_type": "code",
   "execution_count": 249,
   "id": "f70499c9",
   "metadata": {},
   "outputs": [
    {
     "name": "stdout",
     "output_type": "stream",
     "text": [
      "R2 score: 0.7877816253979658\n",
      "MAE: 0.19143332281309117\n"
     ]
    },
    {
     "name": "stderr",
     "output_type": "stream",
     "text": [
      "/Users/akashtiwari/Documents/anaconda3/lib/python3.11/site-packages/sklearn/preprocessing/_encoders.py:868: FutureWarning: `sparse` was renamed to `sparse_output` in version 1.2 and will be removed in 1.4. `sparse_output` is ignored unless you leave `sparse` to its default value.\n",
      "  warnings.warn(\n"
     ]
    }
   ],
   "source": [
    "from sklearn.impute import SimpleImputer\n",
    "\n",
    "# Define the imputer transformer with the most frequent strategy\n",
    "imputer = SimpleImputer(strategy='most_frequent')\n",
    "\n",
    "# Define the pipeline\n",
    "pipe = Pipeline([\n",
    "    ('imputer', imputer),  # Impute missing values\n",
    "    ('step1', step1),\n",
    "    ('step2', step2)\n",
    "])\n",
    "\n",
    "# Fit the pipeline to the training data\n",
    "pipe.fit(X_train, y_train)\n",
    "\n",
    "# Predict on the test data\n",
    "y_pred = pipe.predict(X_test)\n",
    "\n",
    "# Evaluate the model\n",
    "print('R2 score:', r2_score(y_test, y_pred))\n",
    "print('MAE:', mean_absolute_error(y_test, y_pred))\n"
   ]
  },
  {
   "cell_type": "markdown",
   "id": "f66899d1",
   "metadata": {},
   "source": [
    "EXPORTING THE MODEL"
   ]
  },
  {
   "cell_type": "code",
   "execution_count": 250,
   "id": "10a8878a",
   "metadata": {
    "papermill": {
     "duration": 0.041431,
     "end_time": "2022-11-16T06:01:20.593721",
     "exception": false,
     "start_time": "2022-11-16T06:01:20.552290",
     "status": "completed"
    },
    "tags": []
   },
   "outputs": [],
   "source": [
    "import pickle\n",
    "pickle.dump(df,open('df.pkl','wb'))\n",
    "pickle.dump(pipe,open('pipe.pkl','wb'))"
   ]
  }
 ],
 "metadata": {
  "kernelspec": {
   "display_name": "Python 3",
   "language": "python",
   "name": "python3"
  },
  "language_info": {
   "codemirror_mode": {
    "name": "ipython",
    "version": 3
   },
   "file_extension": ".py",
   "mimetype": "text/x-python",
   "name": "python",
   "nbconvert_exporter": "python",
   "pygments_lexer": "ipython3",
   "version": "3.11.7"
  },
  "papermill": {
   "default_parameters": {},
   "duration": 35.846483,
   "end_time": "2022-11-16T06:01:21.455961",
   "environment_variables": {},
   "exception": null,
   "input_path": "__notebook__.ipynb",
   "output_path": "__notebook__.ipynb",
   "parameters": {},
   "start_time": "2022-11-16T06:00:45.609478",
   "version": "2.3.4"
  }
 },
 "nbformat": 4,
 "nbformat_minor": 5
}
